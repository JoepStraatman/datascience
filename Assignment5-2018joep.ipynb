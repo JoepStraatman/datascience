{
 "cells": [
  {
   "cell_type": "markdown",
   "metadata": {},
   "source": [
    "#  Assignment 5: Reproducability\n",
    "\n",
    "## Notebook made by  \n",
    "\n",
    "|** Name** | **Student id** | **email**|\n",
    "|:- |:-|:-|\n",
    "|. | | |\n",
    "|  | |. |\n",
    "\n",
    "### Pledge (taken from [Coursera's Honor Code](https://www.coursera.org/about/terms/honorcode) )\n",
    "\n",
    "\n",
    "\n",
    "Put here a selfie with your photo where you hold a signed paper with the following text: (if this is team work, put two selfies here). The link must be to some place on the web, not to a local file. \n",
    "\n",
    "> My answers to homework, quizzes and exams will be my own work (except for assignments that explicitly permit collaboration).\n",
    "\n",
    ">I will not make solutions to homework, quizzes or exams available to anyone else. This includes both solutions written by me, as well as any official solutions provided by the course staff.\n",
    "\n",
    ">I will not engage in any other activities that will dishonestly improve my results or dishonestly improve/hurt the results of others.\n",
    "\n",
    "<img src='link to your selfie'/>\n",
    "\n",
    "### Note\n",
    "* **Assignments without the selfies or completely filled in information will not be graded and receive 0 points.**\n"
   ]
  },
  {
   "cell_type": "markdown",
   "metadata": {},
   "source": [
    "  We bekijken   het artikel <http://language.media.mit.edu/paper> en zien in hoeverre we uit de ruwe data dezelfde gegevens kunnen halen als de auteurs van het artikel. Eerst maken  we de netwerkdata gebaseerd op boekvertalingen.\n",
    "\n",
    "Daarna  gaan we de netwerkdata gebaseerd op de wikipedia data maken. De ruwe wikipedia \"tsv\" (voor tab separated) lijkt wel een spreadsheet, maar is in een onhandig formaat omdat de regels geen vast aantal kolommen hebben. We zullen dat eerst handmatig moeten oplossen. \n",
    "\n",
    " "
   ]
  },
  {
   "cell_type": "code",
   "execution_count": 126,
   "metadata": {
    "collapsed": true
   },
   "outputs": [],
   "source": [
    "%matplotlib inline\n",
    "import pandas as pd\n",
    "import re\n",
    "from lxml import etree \n",
    "from bz2file import BZ2File\n",
    "import codecs\n",
    "import nltk\n",
    "from collections import defaultdict\n",
    "from  itertools import combinations  # ideal for creating all possible pairs that one can make out of a set\n",
    "from __future__ import division\n",
    "from math import sqrt \n",
    "import itertools\n",
    "import numpy as np"
   ]
  },
  {
   "cell_type": "markdown",
   "metadata": {},
   "source": [
    "# Deel boekvertalingen\n",
    "\n",
    "# 1\n",
    "\n",
    "Read the spreadsheet on `http://language.media.mit.edu/data/public/unesco_langlang_20120722_iso639-3.txt` directly in in pandas in a dataframe called `raw`, and show the first 5 lines of the dataframe `raw`.\n",
    "\n",
    "* this must be done in 2 lines"
   ]
  },
  {
   "cell_type": "code",
   "execution_count": 127,
   "metadata": {},
   "outputs": [
    {
     "data": {
      "text/html": [
       "<div>\n",
       "<style>\n",
       "    .dataframe thead tr:only-child th {\n",
       "        text-align: right;\n",
       "    }\n",
       "\n",
       "    .dataframe thead th {\n",
       "        text-align: left;\n",
       "    }\n",
       "\n",
       "    .dataframe tbody tr th {\n",
       "        vertical-align: top;\n",
       "    }\n",
       "</style>\n",
       "<table border=\"1\" class=\"dataframe\">\n",
       "  <thead>\n",
       "    <tr style=\"text-align: right;\">\n",
       "      <th></th>\n",
       "      <th>original_language</th>\n",
       "      <th>target_language</th>\n",
       "      <th>num_translations</th>\n",
       "    </tr>\n",
       "  </thead>\n",
       "  <tbody>\n",
       "    <tr>\n",
       "      <th>0</th>\n",
       "      <td>abk</td>\n",
       "      <td>aze</td>\n",
       "      <td>1</td>\n",
       "    </tr>\n",
       "    <tr>\n",
       "      <th>1</th>\n",
       "      <td>abk</td>\n",
       "      <td>bul</td>\n",
       "      <td>1</td>\n",
       "    </tr>\n",
       "    <tr>\n",
       "      <th>2</th>\n",
       "      <td>abk</td>\n",
       "      <td>deu</td>\n",
       "      <td>1</td>\n",
       "    </tr>\n",
       "    <tr>\n",
       "      <th>3</th>\n",
       "      <td>abk</td>\n",
       "      <td>eng</td>\n",
       "      <td>2</td>\n",
       "    </tr>\n",
       "    <tr>\n",
       "      <th>4</th>\n",
       "      <td>abk</td>\n",
       "      <td>est</td>\n",
       "      <td>2</td>\n",
       "    </tr>\n",
       "  </tbody>\n",
       "</table>\n",
       "</div>"
      ],
      "text/plain": [
       "  original_language target_language  num_translations\n",
       "0               abk             aze                 1\n",
       "1               abk             bul                 1\n",
       "2               abk             deu                 1\n",
       "3               abk             eng                 2\n",
       "4               abk             est                 2"
      ]
     },
     "execution_count": 127,
     "metadata": {},
     "output_type": "execute_result"
    }
   ],
   "source": [
    "raw = pd.read_csv('http://language.media.mit.edu/data/public/unesco_langlang_20120722_iso639-3.txt',delimiter=\"\\t\")\n",
    "raw[:5]"
   ]
  },
  {
   "cell_type": "markdown",
   "metadata": {},
   "source": [
    "# 2 \n",
    "We zijn natuurlijk in de Nederlandse taal geinterreseerd. Die heeft code `nld`.\n",
    "\n",
    "1. Hoeveel regels zijn er in `raw` met `nld` in de kolom `original_language`\n",
    "2. En hoeveel in de kolom `target_language`\n",
    "3. Naar welke taal zijn er de meeste vertalingen vanuit het Nederlands?  Geef een one liner die de top 5 laat zien. Je laat alleen de kolommen `['target_language','num_translations']` zien, en eventueel de index kolom.\n",
    "4. Maak een plotje met op de x-as de namen van talen omgekeerd geordend op het aantal vertalingen, en op de y-as hoe veel vertalingen er vanuit het Nederlands naar die taal is. Zorg dat de y-as in een log schaal geplot wordt.  \n",
    "    * Je krijgt een wiebelige bijna rechte dalende curve. De x-as  begint met `deu`."
   ]
  },
  {
   "cell_type": "markdown",
   "metadata": {},
   "source": [
    "### 2.1 Hoeveel regels zijn er in `raw` met `nld` in de kolom `original_language`"
   ]
  },
  {
   "cell_type": "code",
   "execution_count": 128,
   "metadata": {
    "scrolled": true
   },
   "outputs": [
    {
     "data": {
      "text/plain": [
       "68"
      ]
     },
     "execution_count": 128,
     "metadata": {},
     "output_type": "execute_result"
    }
   ],
   "source": [
    "\n",
    "raw['original_language'].loc[raw['original_language'] == 'nld'].count()"
   ]
  },
  {
   "cell_type": "markdown",
   "metadata": {},
   "source": [
    "### 2.2 En hoeveel in de kolom `target_language`"
   ]
  },
  {
   "cell_type": "code",
   "execution_count": 129,
   "metadata": {},
   "outputs": [
    {
     "data": {
      "text/plain": [
       "116"
      ]
     },
     "execution_count": 129,
     "metadata": {},
     "output_type": "execute_result"
    }
   ],
   "source": [
    "\n",
    "raw['target_language'].loc[raw['target_language'] == 'nld'].count()"
   ]
  },
  {
   "cell_type": "markdown",
   "metadata": {},
   "source": [
    "### 2.3 Naar welke taal zijn er de meeste vertalingen vanuit het Nederlands?  Geef een one liner die de top 5 laat zien. Je laat alleen de kolommen `['target_language','num_translations']` zien, en eventueel de index kolom."
   ]
  },
  {
   "cell_type": "code",
   "execution_count": 130,
   "metadata": {},
   "outputs": [
    {
     "data": {
      "text/html": [
       "<div>\n",
       "<style>\n",
       "    .dataframe thead tr:only-child th {\n",
       "        text-align: right;\n",
       "    }\n",
       "\n",
       "    .dataframe thead th {\n",
       "        text-align: left;\n",
       "    }\n",
       "\n",
       "    .dataframe tbody tr th {\n",
       "        vertical-align: top;\n",
       "    }\n",
       "</style>\n",
       "<table border=\"1\" class=\"dataframe\">\n",
       "  <thead>\n",
       "    <tr style=\"text-align: right;\">\n",
       "      <th></th>\n",
       "      <th>target_language</th>\n",
       "      <th>num_translations</th>\n",
       "    </tr>\n",
       "  </thead>\n",
       "  <tbody>\n",
       "    <tr>\n",
       "      <th>1465</th>\n",
       "      <td>deu</td>\n",
       "      <td>183329</td>\n",
       "    </tr>\n",
       "    <tr>\n",
       "      <th>1484</th>\n",
       "      <td>fra</td>\n",
       "      <td>149788</td>\n",
       "    </tr>\n",
       "    <tr>\n",
       "      <th>1670</th>\n",
       "      <td>spa</td>\n",
       "      <td>128205</td>\n",
       "    </tr>\n",
       "    <tr>\n",
       "      <th>1534</th>\n",
       "      <td>jpn</td>\n",
       "      <td>100739</td>\n",
       "    </tr>\n",
       "    <tr>\n",
       "      <th>1615</th>\n",
       "      <td>nld</td>\n",
       "      <td>73423</td>\n",
       "    </tr>\n",
       "  </tbody>\n",
       "</table>\n",
       "</div>"
      ],
      "text/plain": [
       "     target_language  num_translations\n",
       "1465             deu            183329\n",
       "1484             fra            149788\n",
       "1670             spa            128205\n",
       "1534             jpn            100739\n",
       "1615             nld             73423"
      ]
     },
     "execution_count": 130,
     "metadata": {},
     "output_type": "execute_result"
    }
   ],
   "source": [
    "raw1 = raw[['target_language','num_translations']].sort_values(by='num_translations',ascending=False).head(5)\n",
    "raw1"
   ]
  },
  {
   "cell_type": "markdown",
   "metadata": {},
   "source": [
    "### 2.4 Maak een plotje met op de x-as de namen van talen omgekeerd geordend op het aantal vertalingen, en op de y-as hoe veel vertalingen er vanuit het Nederlands naar die taal is. Zorg dat de y-as in een log schaal geplot wordt.   Je krijgt een wiebelige bijna rechte dalende curve. De x-as  begint met `deu`."
   ]
  },
  {
   "cell_type": "code",
   "execution_count": 131,
   "metadata": {},
   "outputs": [
    {
     "data": {
      "text/plain": [
       "<matplotlib.axes._subplots.AxesSubplot at 0x19b3332cbe0>"
      ]
     },
     "execution_count": 131,
     "metadata": {},
     "output_type": "execute_result"
    },
    {
     "data": {
      "image/png": "[encoded data removed]",
      "text/plain": [
       "<matplotlib.figure.Figure at 0x19b3168acc0>"
      ]
     },
     "metadata": {},
     "output_type": "display_data"
    }
   ],
   "source": [
    "raw1['loging'] = np.log(raw1.num_translations)\n",
    "\n",
    "raw1.plot(x='target_language',y='loging')\n"
   ]
  },
  {
   "cell_type": "markdown",
   "metadata": {},
   "source": [
    "# 3 \n",
    "\n",
    "Bekijk eens de output van `spannend= raw.original_language.value_counts()`. Gebruik `?` om uit te vogelen wat `value_counts` eigenlijk doet.\n",
    "\n",
    "1. Beschrijf, gebruikmakend van terminologie uit de theorie van sociale netwerken, wat `spannend` betekent.\n",
    "2. Wat betekent `raw.target_language.value_counts()` dan?\n",
    "3. Maak een pandas Series object genaamd `total_translations` (een Dataframe met maar 1 kolom) met de taalcode als index en met voor elke taal het totaal aantal vertalingen vanuit die taal als waarde. Sorteer weer omgekeerd. De top 5 ziet er dan als volgt uit:\n",
    "```\n",
    "eng    1225237\n",
    "fra     216624\n",
    "deu     201718\n",
    "rus     101395\n",
    "ita      66453\n",
    "```\n",
    "    1. Plot `total_translations` in loglog schaal. \n",
    "    2. Wat is de waarde in `total_translations` voor het Nederlands?"
   ]
  },
  {
   "cell_type": "code",
   "execution_count": 132,
   "metadata": {
    "collapsed": true
   },
   "outputs": [],
   "source": [
    "spannend= raw.original_language.value_counts()\n"
   ]
  },
  {
   "cell_type": "markdown",
   "metadata": {},
   "source": [
    "### 3.1Beschrijf, gebruikmakend van terminologie uit de theorie van sociale netwerken, wat `spannend` betekent."
   ]
  },
  {
   "cell_type": "markdown",
   "metadata": {},
   "source": [
    "Spannend is het aantal keer dat een land voorkomt in de column originele waarde, dus hoe vaak een taal naar een unieke andere taal wordt vertaald."
   ]
  },
  {
   "cell_type": "markdown",
   "metadata": {},
   "source": [
    "### 3.2 Wat betekent `raw.target_language.value_counts()` dan?"
   ]
  },
  {
   "cell_type": "markdown",
   "metadata": {},
   "source": [
    " raw.target_language.value_counts() is het aantal keer dat een land voorkomt in de column target language. Dus hoe vaak een land een vertaling krijgt uit een ander uniek land."
   ]
  },
  {
   "cell_type": "markdown",
   "metadata": {},
   "source": [
    "### 3.3  Maak een pandas Series object genaamd `total_translations` (een Dataframe met maar 1 kolom) met de taalcode als index en met voor elke taal het totaal aantal vertalingen vanuit die taal als waarde. Sorteer weer omgekeerd. De top 5 ziet er dan als volgt uit:"
   ]
  },
  {
   "cell_type": "code",
   "execution_count": 133,
   "metadata": {},
   "outputs": [
    {
     "data": {
      "text/html": [
       "<div>\n",
       "<style>\n",
       "    .dataframe thead tr:only-child th {\n",
       "        text-align: right;\n",
       "    }\n",
       "\n",
       "    .dataframe thead th {\n",
       "        text-align: left;\n",
       "    }\n",
       "\n",
       "    .dataframe tbody tr th {\n",
       "        vertical-align: top;\n",
       "    }\n",
       "</style>\n",
       "<table border=\"1\" class=\"dataframe\">\n",
       "  <thead>\n",
       "    <tr style=\"text-align: right;\">\n",
       "      <th></th>\n",
       "      <th>num_translations</th>\n",
       "    </tr>\n",
       "    <tr>\n",
       "      <th>original_language</th>\n",
       "      <th></th>\n",
       "    </tr>\n",
       "  </thead>\n",
       "  <tbody>\n",
       "    <tr>\n",
       "      <th>eng</th>\n",
       "      <td>1225237</td>\n",
       "    </tr>\n",
       "    <tr>\n",
       "      <th>fra</th>\n",
       "      <td>216624</td>\n",
       "    </tr>\n",
       "    <tr>\n",
       "      <th>deu</th>\n",
       "      <td>201718</td>\n",
       "    </tr>\n",
       "    <tr>\n",
       "      <th>rus</th>\n",
       "      <td>101395</td>\n",
       "    </tr>\n",
       "    <tr>\n",
       "      <th>ita</th>\n",
       "      <td>66453</td>\n",
       "    </tr>\n",
       "  </tbody>\n",
       "</table>\n",
       "</div>"
      ],
      "text/plain": [
       "                   num_translations\n",
       "original_language                  \n",
       "eng                         1225237\n",
       "fra                          216624\n",
       "deu                          201718\n",
       "rus                          101395\n",
       "ita                           66453"
      ]
     },
     "execution_count": 133,
     "metadata": {},
     "output_type": "execute_result"
    }
   ],
   "source": [
    "raw2= raw.groupby(['original_language']).sum()\n",
    "total_translations= raw2.sort_values(by='num_translations',ascending=False)\n",
    "\n",
    "total_translations.head(5)\n"
   ]
  },
  {
   "cell_type": "code",
   "execution_count": 134,
   "metadata": {},
   "outputs": [
    {
     "name": "stderr",
     "output_type": "stream",
     "text": [
      "C:\\Users\\joeps\\Anaconda3\\lib\\site-packages\\matplotlib\\axes\\_base.py:2923: UserWarning: Attempted to set non-positive xlimits for log-scale axis; invalid limits will be ignored.\n",
      "  'Attempted to set non-positive xlimits for log-scale axis; '\n"
     ]
    },
    {
     "data": {
      "text/plain": [
       "<matplotlib.axes._subplots.AxesSubplot at 0x19b333450b8>"
      ]
     },
     "execution_count": 134,
     "metadata": {},
     "output_type": "execute_result"
    },
    {
     "data": {
      "image/png": "[encoded data removed]",
      "text/plain": [
       "<matplotlib.figure.Figure at 0x19b6d8f7630>"
      ]
     },
     "metadata": {},
     "output_type": "display_data"
    }
   ],
   "source": [
    "total_translations.plot(loglog=True)\n"
   ]
  },
  {
   "cell_type": "markdown",
   "metadata": {},
   "source": [
    "# 4\n",
    "\n",
    "1. Geef de mediaan en het gemiddelde van het aantal vertalingen.\n",
    "2. Hoeveel taal-paren hebben meer vertalingen dan de mediaan?"
   ]
  },
  {
   "cell_type": "markdown",
   "metadata": {
    "collapsed": true
   },
   "source": [
    "### 4.1 Geef de mediaan en het gemiddelde van het aantal vertalingen."
   ]
  },
  {
   "cell_type": "code",
   "execution_count": 135,
   "metadata": {},
   "outputs": [
    {
     "name": "stdout",
     "output_type": "stream",
     "text": [
      "De mediaan is: 3.0 Het gemiddelde is: 323.1856356791196\n"
     ]
    }
   ],
   "source": [
    "print('De mediaan is:',raw['num_translations'].median(),'Het gemiddelde is:',raw['num_translations'].mean())\n"
   ]
  },
  {
   "cell_type": "markdown",
   "metadata": {},
   "source": [
    "### 4.2 Hoeveel taal-paren hebben meer vertalingen dan de mediaan?"
   ]
  },
  {
   "cell_type": "code",
   "execution_count": 136,
   "metadata": {},
   "outputs": [
    {
     "name": "stdout",
     "output_type": "stream",
     "text": [
      "Zoveel taal-paren hebben meer vertalingen dan de mediaan: 3289\n"
     ]
    }
   ],
   "source": [
    "taal_paren = raw[raw['num_translations'] > raw['num_translations'].median()]\n",
    "print('Zoveel taal-paren hebben meer vertalingen dan de mediaan:', taal_paren['num_translations'].count())"
   ]
  },
  {
   "cell_type": "markdown",
   "metadata": {},
   "source": [
    "# Deel  Wikipedia  \n",
    "\n",
    " \n",
    "\n",
    "1. Maak   van de Wikipedia _raw_ dataset de netwerk  datasets die op <http://language.media.mit.edu/data> beschreven staan. \n",
    "2. We bekijken in hoeverre onze resultaten afwijken van die in de geleverde bewerkte datasets.\n",
    "3. We leggen eventuele verschillen uit.\n",
    "\n",
    "#### In Stapjes\n",
    "\n",
    "We doen de opdracht in een aantal stapjes.\n",
    "\n",
    "#### Let op, je notebook moet vanzelf draaien. Alle data moet opgehaald worden."
   ]
  },
  {
   "cell_type": "markdown",
   "metadata": {},
   "source": [
    "# Download \n",
    "\n",
    "1. Download de ruwe dataset als zip file, ontzip hem en sla hem in de directory op waarin dit notebook ook staat.\n",
    "    * Dit mag je met de hand doen. De code **moet niet runbaar** in je notebook staan.\n",
    "    * Maar zorg dat de rest van de code er vanuit gaat dat `wikipedia_userlang_iso639-3.tsv` in dezelfde folder staat als dit notebook\n",
    "2. Lees de 2 bewerkte datasets over Wikipedia _Wikipedia Stats by Language_ en _Edges_ direct in van de urls in  pandas Dataframes, die je respectivelijk `dataset_stats_wikipedia` en `wikipedia_edges` noemt.\n",
    "    1. Maak de Taal code de index in het eerste frame, en hou alleen de Kolommen `['Editors', 'Edits','Multilinguals','Edits by mulitlinguals']`\n",
    "    2. Sorteer het frame op de index\n",
    "    2. Verwijder de kolommen `SourceLanguageName\tTargetLanguageName\tSourcePopulation\tTargetPopulations` uit het tweede frame\n",
    "    3. Sorteer het frame op `SourceLanguageName`\n",
    "    3. Laat steeds met `head()` zien dat het werkt.\n",
    "    \n",
    "### Je antwoord bestaat uit 2 cellen"
   ]
  },
  {
   "cell_type": "code",
   "execution_count": 22,
   "metadata": {
    "scrolled": true
   },
   "outputs": [
    {
     "data": {
      "text/html": [
       "<div>\n",
       "<style>\n",
       "    .dataframe thead tr:only-child th {\n",
       "        text-align: right;\n",
       "    }\n",
       "\n",
       "    .dataframe thead th {\n",
       "        text-align: left;\n",
       "    }\n",
       "\n",
       "    .dataframe tbody tr th {\n",
       "        vertical-align: top;\n",
       "    }\n",
       "</style>\n",
       "<table border=\"1\" class=\"dataframe\">\n",
       "  <thead>\n",
       "    <tr style=\"text-align: right;\">\n",
       "      <th></th>\n",
       "      <th>Editors</th>\n",
       "      <th>Edits</th>\n",
       "      <th>Multilinguals</th>\n",
       "      <th>Edits by mulitlinguals</th>\n",
       "    </tr>\n",
       "    <tr>\n",
       "      <th>Code</th>\n",
       "      <th></th>\n",
       "      <th></th>\n",
       "      <th></th>\n",
       "      <th></th>\n",
       "    </tr>\n",
       "  </thead>\n",
       "  <tbody>\n",
       "    <tr>\n",
       "      <th>abk</th>\n",
       "      <td>15</td>\n",
       "      <td>2807</td>\n",
       "      <td>7</td>\n",
       "      <td>1494</td>\n",
       "    </tr>\n",
       "    <tr>\n",
       "      <th>aar</th>\n",
       "      <td>4</td>\n",
       "      <td>46</td>\n",
       "      <td>3</td>\n",
       "      <td>9</td>\n",
       "    </tr>\n",
       "    <tr>\n",
       "      <th>afr</th>\n",
       "      <td>511</td>\n",
       "      <td>103652</td>\n",
       "      <td>352</td>\n",
       "      <td>95988</td>\n",
       "    </tr>\n",
       "    <tr>\n",
       "      <th>aka</th>\n",
       "      <td>31</td>\n",
       "      <td>327</td>\n",
       "      <td>24</td>\n",
       "      <td>240</td>\n",
       "    </tr>\n",
       "    <tr>\n",
       "      <th>sqi</th>\n",
       "      <td>1996</td>\n",
       "      <td>196685</td>\n",
       "      <td>1083</td>\n",
       "      <td>137800</td>\n",
       "    </tr>\n",
       "  </tbody>\n",
       "</table>\n",
       "</div>"
      ],
      "text/plain": [
       "      Editors   Edits  Multilinguals  Edits by mulitlinguals\n",
       "Code                                                        \n",
       "abk        15    2807              7                    1494\n",
       "aar         4      46              3                       9\n",
       "afr       511  103652            352                   95988\n",
       "aka        31     327             24                     240\n",
       "sqi      1996  196685           1083                  137800"
      ]
     },
     "execution_count": 22,
     "metadata": {},
     "output_type": "execute_result"
    }
   ],
   "source": [
    "# jouw code hier \n",
    "dataset_stats_wikipedia = pd.read_csv('http://language.media.mit.edu/data/public/dataset_stats_wikipedia.tsv',delimiter='\\t',encoding='utf-8',index_col='Code')\n",
    "dataset_stats_wikipedia = dataset_stats_wikipedia[['Editors', 'Edits','Multilinguals','Edits by mulitlinguals']]\n",
    "dataset_stats_wikipedia.sort_index()\n",
    "dataset_stats_wikipedia.head()\n",
    "#dataset_stats_wikipedia.get_value(\"Italian\",'Edits')"
   ]
  },
  {
   "cell_type": "code",
   "execution_count": 3,
   "metadata": {
    "scrolled": true
   },
   "outputs": [
    {
     "data": {
      "text/html": [
       "<div>\n",
       "<style>\n",
       "    .dataframe thead tr:only-child th {\n",
       "        text-align: right;\n",
       "    }\n",
       "\n",
       "    .dataframe thead th {\n",
       "        text-align: left;\n",
       "    }\n",
       "\n",
       "    .dataframe tbody tr th {\n",
       "        vertical-align: top;\n",
       "    }\n",
       "</style>\n",
       "<table border=\"1\" class=\"dataframe\">\n",
       "  <thead>\n",
       "    <tr style=\"text-align: right;\">\n",
       "      <th></th>\n",
       "      <th>SourceLanguageCode</th>\n",
       "      <th>TargetLanguageCode</th>\n",
       "      <th>Coocurrences</th>\n",
       "      <th>PhiCorrelation</th>\n",
       "      <th>Tstatistic</th>\n",
       "    </tr>\n",
       "  </thead>\n",
       "  <tbody>\n",
       "    <tr>\n",
       "      <th>0</th>\n",
       "      <td>afr</td>\n",
       "      <td>eng</td>\n",
       "      <td>271</td>\n",
       "      <td>0.013648</td>\n",
       "      <td>17.207148</td>\n",
       "    </tr>\n",
       "    <tr>\n",
       "      <th>1</th>\n",
       "      <td>afr</td>\n",
       "      <td>nld</td>\n",
       "      <td>78</td>\n",
       "      <td>0.015377</td>\n",
       "      <td>3.332197</td>\n",
       "    </tr>\n",
       "    <tr>\n",
       "      <th>2</th>\n",
       "      <td>amh</td>\n",
       "      <td>eng</td>\n",
       "      <td>28</td>\n",
       "      <td>0.004344</td>\n",
       "      <td>5.476711</td>\n",
       "    </tr>\n",
       "    <tr>\n",
       "      <th>3</th>\n",
       "      <td>ang</td>\n",
       "      <td>eng</td>\n",
       "      <td>51</td>\n",
       "      <td>0.006363</td>\n",
       "      <td>8.021067</td>\n",
       "    </tr>\n",
       "    <tr>\n",
       "      <th>4</th>\n",
       "      <td>ara</td>\n",
       "      <td>deu</td>\n",
       "      <td>446</td>\n",
       "      <td>0.007497</td>\n",
       "      <td>3.550224</td>\n",
       "    </tr>\n",
       "  </tbody>\n",
       "</table>\n",
       "</div>"
      ],
      "text/plain": [
       "  SourceLanguageCode TargetLanguageCode  Coocurrences  PhiCorrelation  \\\n",
       "0                afr                eng           271        0.013648   \n",
       "1                afr                nld            78        0.015377   \n",
       "2                amh                eng            28        0.004344   \n",
       "3                ang                eng            51        0.006363   \n",
       "4                ara                deu           446        0.007497   \n",
       "\n",
       "   Tstatistic  \n",
       "0   17.207148  \n",
       "1    3.332197  \n",
       "2    5.476711  \n",
       "3    8.021067  \n",
       "4    3.550224  "
      ]
     },
     "execution_count": 3,
     "metadata": {},
     "output_type": "execute_result"
    }
   ],
   "source": [
    "# jouw code hier  (verwijderen van de kolommen)\n",
    "wikipedia_edges = pd.read_csv('http://language.media.mit.edu/data/public/wikipedia_edges.tsv',delimiter='\\t',encoding='latin-1')\n",
    "wikipedia_edges = wikipedia_edges.drop(['SourceLanguageName', 'TargetLanguageName', 'SourcePopulation', 'TargetPopulations'], axis=1)\n",
    "wikipedia_edges.head()"
   ]
  },
  {
   "cell_type": "code",
   "execution_count": 4,
   "metadata": {
    "scrolled": true
   },
   "outputs": [
    {
     "data": {
      "text/html": [
       "<div>\n",
       "<style>\n",
       "    .dataframe thead tr:only-child th {\n",
       "        text-align: right;\n",
       "    }\n",
       "\n",
       "    .dataframe thead th {\n",
       "        text-align: left;\n",
       "    }\n",
       "\n",
       "    .dataframe tbody tr th {\n",
       "        vertical-align: top;\n",
       "    }\n",
       "</style>\n",
       "<table border=\"1\" class=\"dataframe\">\n",
       "  <thead>\n",
       "    <tr style=\"text-align: right;\">\n",
       "      <th></th>\n",
       "      <th>SourceLanguageCode</th>\n",
       "      <th>TargetLanguageCode</th>\n",
       "      <th>SourceLanguageName</th>\n",
       "      <th>TargetLanguageName</th>\n",
       "      <th>SourcePopulation</th>\n",
       "      <th>TargetPopulations</th>\n",
       "      <th>Coocurrences</th>\n",
       "      <th>PhiCorrelation</th>\n",
       "      <th>Tstatistic</th>\n",
       "    </tr>\n",
       "  </thead>\n",
       "  <tbody>\n",
       "    <tr>\n",
       "      <th>0</th>\n",
       "      <td>afr</td>\n",
       "      <td>eng</td>\n",
       "      <td>Afrikaans</td>\n",
       "      <td>English</td>\n",
       "      <td>776</td>\n",
       "      <td>273987</td>\n",
       "      <td>271</td>\n",
       "      <td>0.013648</td>\n",
       "      <td>17.207148</td>\n",
       "    </tr>\n",
       "    <tr>\n",
       "      <th>1</th>\n",
       "      <td>afr</td>\n",
       "      <td>nld</td>\n",
       "      <td>Afrikaans</td>\n",
       "      <td>Dutch</td>\n",
       "      <td>776</td>\n",
       "      <td>26888</td>\n",
       "      <td>78</td>\n",
       "      <td>0.015377</td>\n",
       "      <td>3.332197</td>\n",
       "    </tr>\n",
       "    <tr>\n",
       "      <th>2</th>\n",
       "      <td>amh</td>\n",
       "      <td>eng</td>\n",
       "      <td>Amharic</td>\n",
       "      <td>English</td>\n",
       "      <td>81</td>\n",
       "      <td>273987</td>\n",
       "      <td>28</td>\n",
       "      <td>0.004344</td>\n",
       "      <td>5.476711</td>\n",
       "    </tr>\n",
       "    <tr>\n",
       "      <th>3</th>\n",
       "      <td>ang</td>\n",
       "      <td>eng</td>\n",
       "      <td>Old English (ca. 450-1100)</td>\n",
       "      <td>English</td>\n",
       "      <td>135</td>\n",
       "      <td>273987</td>\n",
       "      <td>51</td>\n",
       "      <td>0.006363</td>\n",
       "      <td>8.021067</td>\n",
       "    </tr>\n",
       "    <tr>\n",
       "      <th>4</th>\n",
       "      <td>ara</td>\n",
       "      <td>deu</td>\n",
       "      <td>Arabic</td>\n",
       "      <td>German</td>\n",
       "      <td>6361</td>\n",
       "      <td>103768</td>\n",
       "      <td>446</td>\n",
       "      <td>0.007497</td>\n",
       "      <td>3.550224</td>\n",
       "    </tr>\n",
       "  </tbody>\n",
       "</table>\n",
       "</div>"
      ],
      "text/plain": [
       "  SourceLanguageCode TargetLanguageCode          SourceLanguageName  \\\n",
       "0                afr                eng                   Afrikaans   \n",
       "1                afr                nld                   Afrikaans   \n",
       "2                amh                eng                     Amharic   \n",
       "3                ang                eng  Old English (ca. 450-1100)   \n",
       "4                ara                deu                      Arabic   \n",
       "\n",
       "  TargetLanguageName  SourcePopulation  TargetPopulations  Coocurrences  \\\n",
       "0            English               776             273987           271   \n",
       "1              Dutch               776              26888            78   \n",
       "2            English                81             273987            28   \n",
       "3            English               135             273987            51   \n",
       "4             German              6361             103768           446   \n",
       "\n",
       "   PhiCorrelation  Tstatistic  \n",
       "0        0.013648   17.207148  \n",
       "1        0.015377    3.332197  \n",
       "2        0.004344    5.476711  \n",
       "3        0.006363    8.021067  \n",
       "4        0.007497    3.550224  "
      ]
     },
     "execution_count": 4,
     "metadata": {},
     "output_type": "execute_result"
    }
   ],
   "source": [
    "# jouw code hier  (sorten op SourceLanguageName)\n",
    "wikipedia_edges = pd.read_csv('http://language.media.mit.edu/data/public/wikipedia_edges.tsv',delimiter='\\t',encoding='latin-1')\n",
    "wikipedia_edges.sort_values(by=['SourceLanguageName'])\n",
    "wikipedia_edges.head()"
   ]
  },
  {
   "cell_type": "markdown",
   "metadata": {},
   "source": [
    "# Haal gegevens uit de ruwe data, deel 1\n",
    "\n",
    "* De file `'wikipedia_userlang_iso639-3.tsv'` lijkt een spreadsheet maar hij heeft niet op elke regel evenveel kolommen.\n",
    "* Processing met pandas is dus ook lastig.\n",
    "* Als alternatief gaan we file zelf regel voor regel  inlezen, en de gewenste gegevens opslaan.\n",
    "* Ons einddoel is om een dataframe te maken dat er precies zo uitziet als `dataset_stats_wikipedia`\n",
    "* We doen dat in 2 stappen:\n",
    "    1. We maken een aantal dicts aan met de gewenste gegevens\n",
    "    2. Van elke dict maken we een dataframe met `pd.DataFrame.from_dict`\n",
    "    3. Die plakken we allemaal aan elkaar met `join` (neem een inner join)\n",
    "    4. Noem het eindresultaat `stats`, sorteer het ook op de index en laat het begin zien met `head`.\n",
    "    5. Check natuurlijk zelf of je op de goede weg zit door je resultaat te vergelijken met `dataset_stats_wikipedia`\n",
    "* Hieronder staat wat code om je op weg te helpen\n",
    "* **Lees het artikel en de supplementary material goed om net als zij de ruwe data te filteren.**\n",
    "\n",
    "\n",
    "# Haal gegevens uit de ruwe data, deel 2\n",
    "\n",
    "* In dezelfde code waarin je de vorige vraag hebt gemaakt, maak je ook een dict `pairs` aan. Hier zijn de sleutels paren van taalcodes, **waarbij de eerste altijd alfabetisch eerder is dan de tweede**, en hun waarde het aantal cooccurences.\n",
    "* Maak van dit dict een Dataframe `edges`, waarbij `edges.columns=['SourceLanguageCode','TargetLanguageCode','Coocurrencesmy']`\n",
    "* Sorteer ook hier op `'SourceLanguageCode'`\n",
    "* **Lees het artikel en de supplementary material goed om net als zij de ruwe data te filteren.**"
   ]
  },
  {
   "cell_type": "code",
   "execution_count": 106,
   "metadata": {},
   "outputs": [
    {
     "name": "stdout",
     "output_type": "stream",
     "text": [
      "Wall time: 19.8 s\n"
     ]
    }
   ],
   "source": [
    "%%time\n",
    "from collections import defaultdict\n",
    "items = []\n",
    "# Your code \n",
    "with open('../wikipedia_userlang_iso639-3.tsv', encoding = 'latin-1') as f:\n",
    "    c=0\n",
    "    editors=defaultdict(int)\n",
    "    edits=defaultdict(int)\n",
    "    multilingual=defaultdict(int)\n",
    "    Edits_by_mulitlinguals=defaultdict(int)\n",
    "    pairs= defaultdict(int)\n",
    "    source = {}\n",
    "    target = {}\n",
    "    c=0\n",
    "    for l in f:\n",
    "        # your code\n",
    "        temp = [x.replace(\"\\n\", \"\") for x in l.split(\"\\t\")[1:]]\n",
    "        if len(temp) < 6:\n",
    "            temp2 = [(x.split(',')[0],int(x.split(',')[1])) for x in temp]\n",
    "            temp2 = [x for x in temp2 if x[1] > 1]\n",
    "            if temp2:\n",
    "                items.append(temp2)\n",
    "        c+=1\n",
    "        pairstemp= []\n",
    "    \n",
    "        for langs in temp2:\n",
    "            \n",
    "            editors[langs[0]] += 1\n",
    "            edits[langs[0]] += langs[1]\n",
    "            if len(temp2) > 1:\n",
    "                multilingual[langs[0]] += 1\n",
    "                Edits_by_mulitlinguals[langs[0]] += langs[1]\n",
    "                pairstemp.append(langs[0])\n",
    "                    \n",
    "        if pairstemp:\n",
    "            testje = list(itertools.permutations(pairstemp, 2)) \n",
    "            \n",
    "            for thing in testje:\n",
    "                pairs[(thing[0],thing[1])] += 1\n",
    "                source[(thing[0],thing[1])] = thing[0]\n",
    "                target[(thing[0],thing[1])] = thing[1]\n",
    "            \n",
    "            \n"
   ]
  },
  {
   "cell_type": "code",
   "execution_count": 108,
   "metadata": {
    "collapsed": true,
    "scrolled": true
   },
   "outputs": [],
   "source": [
    "deditors = pd.DataFrame.from_dict(editors, orient='index')\n",
    "dedits = pd.DataFrame.from_dict(edits, orient='index')\n",
    "#dedits.sort_index()\n",
    "dmultilingual = pd.DataFrame.from_dict(multilingual, orient='index')\n",
    "deditmultilingual = pd.DataFrame.from_dict(Edits_by_mulitlinguals, orient='index')\n",
    "#dfs = [deditors, dedits, dmultilingual, deditmultilingual]\n",
    "stats = pd.concat([deditors, dedits, dmultilingual, deditmultilingual],axis=1)\n",
    "stats = stats.sort_index()\n",
    "stats.columns=['Editorsmy', 'Editsmy','Multilingualsmy','Edits by mulitlingualsmy']\n"
   ]
  },
  {
   "cell_type": "code",
   "execution_count": 109,
   "metadata": {
    "scrolled": true
   },
   "outputs": [
    {
     "data": {
      "text/html": [
       "<div>\n",
       "<style>\n",
       "    .dataframe thead tr:only-child th {\n",
       "        text-align: right;\n",
       "    }\n",
       "\n",
       "    .dataframe thead th {\n",
       "        text-align: left;\n",
       "    }\n",
       "\n",
       "    .dataframe tbody tr th {\n",
       "        vertical-align: top;\n",
       "    }\n",
       "</style>\n",
       "<table border=\"1\" class=\"dataframe\">\n",
       "  <thead>\n",
       "    <tr style=\"text-align: right;\">\n",
       "      <th></th>\n",
       "      <th>Editorsmy</th>\n",
       "      <th>Editsmy</th>\n",
       "      <th>Multilingualsmy</th>\n",
       "      <th>Edits by mulitlingualsmy</th>\n",
       "    </tr>\n",
       "  </thead>\n",
       "  <tbody>\n",
       "    <tr>\n",
       "      <th>aar</th>\n",
       "      <td>9</td>\n",
       "      <td>57</td>\n",
       "      <td>4</td>\n",
       "      <td>11</td>\n",
       "    </tr>\n",
       "    <tr>\n",
       "      <th>abk</th>\n",
       "      <td>30</td>\n",
       "      <td>2842</td>\n",
       "      <td>7</td>\n",
       "      <td>1494</td>\n",
       "    </tr>\n",
       "    <tr>\n",
       "      <th>afr</th>\n",
       "      <td>658</td>\n",
       "      <td>104301</td>\n",
       "      <td>362</td>\n",
       "      <td>96275</td>\n",
       "    </tr>\n",
       "    <tr>\n",
       "      <th>aka</th>\n",
       "      <td>42</td>\n",
       "      <td>355</td>\n",
       "      <td>25</td>\n",
       "      <td>242</td>\n",
       "    </tr>\n",
       "    <tr>\n",
       "      <th>amh</th>\n",
       "      <td>116</td>\n",
       "      <td>4748</td>\n",
       "      <td>48</td>\n",
       "      <td>4070</td>\n",
       "    </tr>\n",
       "  </tbody>\n",
       "</table>\n",
       "</div>"
      ],
      "text/plain": [
       "     Editorsmy  Editsmy  Multilingualsmy  Edits by mulitlingualsmy\n",
       "aar          9       57                4                        11\n",
       "abk         30     2842                7                      1494\n",
       "afr        658   104301              362                     96275\n",
       "aka         42      355               25                       242\n",
       "amh        116     4748               48                      4070"
      ]
     },
     "execution_count": 109,
     "metadata": {},
     "output_type": "execute_result"
    }
   ],
   "source": [
    "#Deel 1\n",
    "# jouw code hier \n",
    "stats.head()"
   ]
  },
  {
   "cell_type": "code",
   "execution_count": 110,
   "metadata": {
    "collapsed": true
   },
   "outputs": [],
   "source": [
    "dpairs = pd.DataFrame.from_dict(pairs,orient='index')\n",
    "dsource = pd.DataFrame.from_dict(source,orient='index')\n",
    "dtarget = pd.DataFrame.from_dict(target,orient='index')\n",
    "edges = pd.concat([dsource, dtarget, dpairs], axis=1)\n",
    "edges.columns=['SourceLanguageCode','TargetLanguageCode','Coocurrencesmy']\n",
    "edges = edges.sort_values(by=['SourceLanguageCode', 'TargetLanguageCode'])"
   ]
  },
  {
   "cell_type": "code",
   "execution_count": 111,
   "metadata": {},
   "outputs": [
    {
     "data": {
      "text/html": [
       "<div>\n",
       "<style>\n",
       "    .dataframe thead tr:only-child th {\n",
       "        text-align: right;\n",
       "    }\n",
       "\n",
       "    .dataframe thead th {\n",
       "        text-align: left;\n",
       "    }\n",
       "\n",
       "    .dataframe tbody tr th {\n",
       "        vertical-align: top;\n",
       "    }\n",
       "</style>\n",
       "<table border=\"1\" class=\"dataframe\">\n",
       "  <thead>\n",
       "    <tr style=\"text-align: right;\">\n",
       "      <th></th>\n",
       "      <th>SourceLanguageCode</th>\n",
       "      <th>TargetLanguageCode</th>\n",
       "      <th>Coocurrencesmy</th>\n",
       "    </tr>\n",
       "  </thead>\n",
       "  <tbody>\n",
       "    <tr>\n",
       "      <th>0</th>\n",
       "      <td>aar</td>\n",
       "      <td>eng</td>\n",
       "      <td>1</td>\n",
       "    </tr>\n",
       "    <tr>\n",
       "      <th>1</th>\n",
       "      <td>aar</td>\n",
       "      <td>ipk</td>\n",
       "      <td>1</td>\n",
       "    </tr>\n",
       "    <tr>\n",
       "      <th>2</th>\n",
       "      <td>aar</td>\n",
       "      <td>ita</td>\n",
       "      <td>2</td>\n",
       "    </tr>\n",
       "    <tr>\n",
       "      <th>3</th>\n",
       "      <td>aar</td>\n",
       "      <td>mon</td>\n",
       "      <td>1</td>\n",
       "    </tr>\n",
       "    <tr>\n",
       "      <th>4</th>\n",
       "      <td>aar</td>\n",
       "      <td>sco</td>\n",
       "      <td>1</td>\n",
       "    </tr>\n",
       "  </tbody>\n",
       "</table>\n",
       "</div>"
      ],
      "text/plain": [
       "  SourceLanguageCode TargetLanguageCode  Coocurrencesmy\n",
       "0                aar                eng               1\n",
       "1                aar                ipk               1\n",
       "2                aar                ita               2\n",
       "3                aar                mon               1\n",
       "4                aar                sco               1"
      ]
     },
     "execution_count": 111,
     "metadata": {},
     "output_type": "execute_result"
    }
   ],
   "source": [
    "#Deel2\n",
    "edges.index = range(len(edges))\n",
    "# jouw code hier \n",
    "edges.head(5)\n"
   ]
  },
  {
   "cell_type": "markdown",
   "metadata": {},
   "source": [
    "# Vergelijk \n",
    "\n",
    "We gaan nu onze dataframes vergelijken met die we hebben opgehaald.\n",
    "\n",
    "We zijn natuurlijk erg benieuwd of er verschillen zijn, en vooral ook groot die dan zijn, als ze er zijn.\n",
    "\n",
    "1. Join `dataset_stats_wikipedia` en `stats` in een nieuwe dataframe `samen`. \n",
    "    * laat met `samen.describe()` zien hoe groot of klein de verschillen zijn\n",
    "2. Maak een functie `fout_percentage` waar je twee kolommen en een dataframe aan geeft en die _het verschil tussen die twee kolommen bepaalt, en omzet naar een \"foutpercentage\"_.\n",
    "3. Bereken dat percentage voor de vier kolommen `['Editors', 'Edits','Multilinguals','Edits by mulitlinguals']` en print het netjes uit.\n",
    "4. Leg in een paar zinnen uit waarom jouw maat voor \"foutpercentage\" echt ergens op slaat, en het een goede indicator geeft. \n",
    "5. Doe tenslotte hetzelfde voor `edges`. \n",
    "    * Hier doe je natuurlijk een `merge`\n",
    "    * Bekijk hier eens het verschil tussen een outer en een inner join.\n",
    "    * Leg uit wat er hier aan de hand is.\n",
    "    * Kan je het verschil verklaren?\n"
   ]
  },
  {
   "cell_type": "code",
   "execution_count": 116,
   "metadata": {},
   "outputs": [
    {
     "data": {
      "text/plain": [
       "<bound method NDFrame.describe of      Editors    Edits  Multilinguals  Edits by mulitlinguals  Editorsmy  \\\n",
       "aar        4       46              3                       9          9   \n",
       "abk       15     2807              7                    1494         30   \n",
       "afr      511   103652            352                   95988        658   \n",
       "aka       31      327             24                     240         42   \n",
       "amh       68     4596             45                    4039        116   \n",
       "ang       86     9915             64                    9504        118   \n",
       "ara    18258  2178719           4647                  655776      36954   \n",
       "arc       21     2152             13                    2049         30   \n",
       "arg      141    60924            103                   58810        178   \n",
       "asm       74    11708             36                    8272         94   \n",
       "ast      218    21525            138                   13090        273   \n",
       "ava       13      602              8                     405         19   \n",
       "aym       22      453             10                     156         34   \n",
       "aze     1403   149621            638                   78731       2088   \n",
       "bak       50    14703             32                    4944         58   \n",
       "bam       13      754              8                      86         16   \n",
       "bar      352    32653            243                   28932        451   \n",
       "bel      474   227568            274                   47284        594   \n",
       "ben     1010   147157            551                  116822       1479   \n",
       "bik       26      850             23                     765         35   \n",
       "bis       20      383             13                     150         27   \n",
       "bod       91     6650             26                     488        136   \n",
       "bpy       18      751             11                     674         32   \n",
       "bre      303   121144            185                   94808        372   \n",
       "bua       15      262              9                     109         22   \n",
       "bug       20     2783             15                    2276         23   \n",
       "bul     6769  1130405           2606                  544717      10444   \n",
       "cat    10938  1548366           5161                 1143570      15646   \n",
       "ceb       88    18206             64                   16611        119   \n",
       "ces    15230  1697926           5336                 1095385      23524   \n",
       "..       ...      ...            ...                     ...        ...   \n",
       "tir       10      155              5                      45         13   \n",
       "ton       12      312              9                     125         18   \n",
       "tpi       39     3756             27                    2954         49   \n",
       "tsn       27      618             10                     224         60   \n",
       "tso       10     1912              6                    1500         15   \n",
       "tuk       63     4768             41                    2328         85   \n",
       "tum        7       65              3                       8         11   \n",
       "tur    23926  2062037           6820                 1141521      44708   \n",
       "udm       35     2173             14                    1658         63   \n",
       "uig       48     2817             25                     433         77   \n",
       "ukr    10028  1839988           4519                  747515      14153   \n",
       "urd      447   167269            224                   31206        650   \n",
       "uzb      171    21270             91                   17338        261   \n",
       "vec      161    23199            123                   20423        197   \n",
       "ven       11      456              6                     427         21   \n",
       "vie     8244  1151775           2077                  711939      16051   \n",
       "vls      189    33952            117                   28202        252   \n",
       "vol       49      670             32                     322         74   \n",
       "war       37    16769             33                   16722         53   \n",
       "wln       50    14733             28                    5497         58   \n",
       "wol       26     7343             13                    4662         31   \n",
       "xal       17     2652             13                    2277         22   \n",
       "xho       13      180              6                      65         13   \n",
       "yid      432   145467            100                    7592        562   \n",
       "yor       21     1393             14                    1152         33   \n",
       "zea       39     4757             27                    4344         49   \n",
       "zha       25      615             17                     471         29   \n",
       "zho    50341  7302770          13826                 3735468      87593   \n",
       "zul       17      612             13                     554         27   \n",
       "zza       51    16711             28                   11640         64   \n",
       "\n",
       "     Editsmy  Multilingualsmy  Edits by mulitlingualsmy  \n",
       "aar       57                4                        11  \n",
       "abk     2842                7                      1494  \n",
       "afr   104301              362                     96275  \n",
       "aka      355               25                       242  \n",
       "amh     4748               48                      4070  \n",
       "ang     9997               65                      9506  \n",
       "ara  2232980             4834                    658253  \n",
       "arc     2177               13                      2049  \n",
       "arg    61036              108                     58839  \n",
       "asm    11767               38                      8276  \n",
       "ast    22307              142                     13734  \n",
       "ava      618                8                       405  \n",
       "aym      484               11                       158  \n",
       "aze   159665              662                     86209  \n",
       "bak    14723               33                      4946  \n",
       "bam      761                9                        88  \n",
       "bar    32952              251                     28966  \n",
       "bel   261778              279                     47294  \n",
       "ben   150971              578                    119456  \n",
       "bik      871               23                       765  \n",
       "bis      401               14                       152  \n",
       "bod     6767               28                       492  \n",
       "bpy      787               12                       676  \n",
       "bre   121336              189                     94829  \n",
       "bua      288               10                       119  \n",
       "bug     3078               15                      2276  \n",
       "bul  1148066             2680                    551902  \n",
       "cat  1586775             5300                   1168631  \n",
       "ceb    18286               65                     16619  \n",
       "ces  1731577             5509                   1103689  \n",
       "..       ...              ...                       ...  \n",
       "tir      164                5                        45  \n",
       "ton      325               10                       127  \n",
       "tpi     3783               30                      2960  \n",
       "tsn      705               10                       224  \n",
       "tso     1925                6                      1500  \n",
       "tuk     4826               44                      2339  \n",
       "tum       78                3                         8  \n",
       "tur  2184543             7082                   1157713  \n",
       "udm     2262               15                      1673  \n",
       "uig     2890               25                       433  \n",
       "ukr  1855941             4678                    751816  \n",
       "urd   167811              231                     31220  \n",
       "uzb    21683               94                     17520  \n",
       "vec    23321              127                     20461  \n",
       "ven      481                7                       429  \n",
       "vie  1173583             2147                    712773  \n",
       "vls    34144              119                     28223  \n",
       "vol      761               33                       351  \n",
       "war    16814               34                     16724  \n",
       "wln    14755               28                      5497  \n",
       "wol     7357               13                      4662  \n",
       "xal     2667               14                      2279  \n",
       "xho      180                6                        65  \n",
       "yid   145823              102                      7596  \n",
       "yor     1426               14                      1152  \n",
       "zea     5002               29                      4566  \n",
       "zha      632               17                       471  \n",
       "zho  7422058            14287                   3750798  \n",
       "zul      638               13                       554  \n",
       "zza    16749               29                     11643  \n",
       "\n",
       "[238 rows x 8 columns]>"
      ]
     },
     "execution_count": 116,
     "metadata": {},
     "output_type": "execute_result"
    }
   ],
   "source": [
    "# vergelijk stats met dataset_stats_wikipedia\n",
    "\n",
    "samen = pd.concat([dataset_stats_wikipedia, stats], axis=1)\n",
    "samen.describe()\n",
    "samen.describe"
   ]
  },
  {
   "cell_type": "code",
   "execution_count": 117,
   "metadata": {
    "scrolled": true
   },
   "outputs": [
    {
     "name": "stdout",
     "output_type": "stream",
     "text": [
      "Editors                : 43.453304773758816 %\n",
      "Edits                  : 3.155183745323256  %\n",
      "Multilinguals          : 4.041618876991106  %\n",
      "Edits by mulitlinguals : 1.575148623860808  %\n"
     ]
    }
   ],
   "source": [
    "def fout_percentage(col1,col2,df):\n",
    "     # jouw code hier \n",
    "    newdf = df[col2] - df[col1]\n",
    "    return (newdf / df[col1] *100).mean()\n",
    "    \n",
    "col = 'Editors'\n",
    "print (col,'               :', str(fout_percentage(col, col+'my', samen))+' %')\n",
    "col = 'Edits'\n",
    "print (col,'                 :', str(fout_percentage(col, col+'my', samen))+'  %')\n",
    "col = 'Multilinguals'\n",
    "print (col,'         :', str(fout_percentage(col, col+'my', samen))+'  %')\n",
    "col = 'Edits by mulitlinguals'\n",
    "print (col,':', str(fout_percentage(col, col+'my', samen))+'  %')"
   ]
  },
  {
   "cell_type": "markdown",
   "metadata": {},
   "source": [
    "De manier waarop wij het foutpercentage hebben berekend is eigenlijk de gemiddelde afwijking. Als we letterlijk zou kijken naar of de getallen precies overeen zouden komen zou het foutpercentage erg hoog liggen op alle 4 de kolommen. Hier zie je het percentage dat de zelfgemaakte kolom afwijkt ten opzichte van de originele kolom, waardoor je een redelijk goede indicatie ziet van de fouten/afwijking."
   ]
  },
  {
   "cell_type": "code",
   "execution_count": 118,
   "metadata": {
    "collapsed": true
   },
   "outputs": [],
   "source": [
    "# vergelijk edges met \"inner join\"\n",
    " "
   ]
  },
  {
   "cell_type": "code",
   "execution_count": 115,
   "metadata": {},
   "outputs": [
    {
     "name": "stdout",
     "output_type": "stream",
     "text": [
      "-1.810962502570903\n"
     ]
    },
    {
     "data": {
      "text/html": [
       "<div>\n",
       "<style>\n",
       "    .dataframe thead tr:only-child th {\n",
       "        text-align: right;\n",
       "    }\n",
       "\n",
       "    .dataframe thead th {\n",
       "        text-align: left;\n",
       "    }\n",
       "\n",
       "    .dataframe tbody tr th {\n",
       "        vertical-align: top;\n",
       "    }\n",
       "</style>\n",
       "<table border=\"1\" class=\"dataframe\">\n",
       "  <thead>\n",
       "    <tr style=\"text-align: right;\">\n",
       "      <th></th>\n",
       "      <th>Coocurrencesmy</th>\n",
       "      <th>SourcePopulation</th>\n",
       "      <th>TargetPopulations</th>\n",
       "      <th>Coocurrences</th>\n",
       "      <th>PhiCorrelation</th>\n",
       "      <th>Tstatistic</th>\n",
       "    </tr>\n",
       "  </thead>\n",
       "  <tbody>\n",
       "    <tr>\n",
       "      <th>count</th>\n",
       "      <td>8326.000000</td>\n",
       "      <td>564.000000</td>\n",
       "      <td>564.000000</td>\n",
       "      <td>564.000000</td>\n",
       "      <td>564.000000</td>\n",
       "      <td>564.000000</td>\n",
       "    </tr>\n",
       "    <tr>\n",
       "      <th>mean</th>\n",
       "      <td>109.160461</td>\n",
       "      <td>75080.787234</td>\n",
       "      <td>75080.787234</td>\n",
       "      <td>1394.992908</td>\n",
       "      <td>0.026213</td>\n",
       "      <td>19.586482</td>\n",
       "    </tr>\n",
       "    <tr>\n",
       "      <th>std</th>\n",
       "      <td>1212.419813</td>\n",
       "      <td>103572.732790</td>\n",
       "      <td>103572.732790</td>\n",
       "      <td>4340.409276</td>\n",
       "      <td>0.031997</td>\n",
       "      <td>37.823583</td>\n",
       "    </tr>\n",
       "    <tr>\n",
       "      <th>min</th>\n",
       "      <td>1.000000</td>\n",
       "      <td>10.000000</td>\n",
       "      <td>10.000000</td>\n",
       "      <td>6.000000</td>\n",
       "      <td>0.002084</td>\n",
       "      <td>2.594850</td>\n",
       "    </tr>\n",
       "    <tr>\n",
       "      <th>25%</th>\n",
       "      <td>1.000000</td>\n",
       "      <td>2227.250000</td>\n",
       "      <td>2227.250000</td>\n",
       "      <td>75.000000</td>\n",
       "      <td>0.009323</td>\n",
       "      <td>3.769619</td>\n",
       "    </tr>\n",
       "    <tr>\n",
       "      <th>50%</th>\n",
       "      <td>2.000000</td>\n",
       "      <td>22072.000000</td>\n",
       "      <td>22072.000000</td>\n",
       "      <td>280.500000</td>\n",
       "      <td>0.015597</td>\n",
       "      <td>5.904744</td>\n",
       "    </tr>\n",
       "    <tr>\n",
       "      <th>75%</th>\n",
       "      <td>8.000000</td>\n",
       "      <td>103768.000000</td>\n",
       "      <td>103768.000000</td>\n",
       "      <td>850.000000</td>\n",
       "      <td>0.030800</td>\n",
       "      <td>16.612431</td>\n",
       "    </tr>\n",
       "    <tr>\n",
       "      <th>max</th>\n",
       "      <td>50844.000000</td>\n",
       "      <td>273987.000000</td>\n",
       "      <td>273987.000000</td>\n",
       "      <td>49637.000000</td>\n",
       "      <td>0.246934</td>\n",
       "      <td>321.246726</td>\n",
       "    </tr>\n",
       "  </tbody>\n",
       "</table>\n",
       "</div>"
      ],
      "text/plain": [
       "       Coocurrencesmy  SourcePopulation  TargetPopulations  Coocurrences  \\\n",
       "count     8326.000000        564.000000         564.000000    564.000000   \n",
       "mean       109.160461      75080.787234       75080.787234   1394.992908   \n",
       "std       1212.419813     103572.732790      103572.732790   4340.409276   \n",
       "min          1.000000         10.000000          10.000000      6.000000   \n",
       "25%          1.000000       2227.250000        2227.250000     75.000000   \n",
       "50%          2.000000      22072.000000       22072.000000    280.500000   \n",
       "75%          8.000000     103768.000000      103768.000000    850.000000   \n",
       "max      50844.000000     273987.000000      273987.000000  49637.000000   \n",
       "\n",
       "       PhiCorrelation  Tstatistic  \n",
       "count      564.000000  564.000000  \n",
       "mean         0.026213   19.586482  \n",
       "std          0.031997   37.823583  \n",
       "min          0.002084    2.594850  \n",
       "25%          0.009323    3.769619  \n",
       "50%          0.015597    5.904744  \n",
       "75%          0.030800   16.612431  \n",
       "max          0.246934  321.246726  "
      ]
     },
     "execution_count": 115,
     "metadata": {},
     "output_type": "execute_result"
    }
   ],
   "source": [
    "# vergelijk edges met \"outer join\"\n",
    "\n",
    "edges2=pd.merge(edges,wikipedia_edges, how='outer', on=['SourceLanguageCode','TargetLanguageCode'])\n",
    "print (fout_percentage('Coocurrencesmy','Coocurrences', edges2))\n",
    "edges2.describe()"
   ]
  },
  {
   "cell_type": "markdown",
   "metadata": {},
   "source": [
    "# Reflectie\n",
    "Je hebt getracht een deel van het artikel te reproduceren. Ook hebben we gedacht over het artikel en de mate van herhaalbaarheid van de vermelde gegevens. \n",
    "\n",
    "Geef nu in een half A4 je eigen mening. Behandel deze twee punten:\n",
    "\n",
    "1. Wat was al goed gedaan?\n",
    "2. Wat kon beter en hoe dan?"
   ]
  },
  {
   "cell_type": "code",
   "execution_count": null,
   "metadata": {
    "collapsed": true
   },
   "outputs": [],
   "source": []
  },
  {
   "cell_type": "code",
   "execution_count": null,
   "metadata": {
    "collapsed": true
   },
   "outputs": [],
   "source": []
  },
  {
   "cell_type": "code",
   "execution_count": null,
   "metadata": {
    "collapsed": true
   },
   "outputs": [],
   "source": []
  }
 ],
 "metadata": {
  "anaconda-cloud": {},
  "kernelspec": {
   "display_name": "Python 3",
   "language": "python",
   "name": "python3"
  },
  "language_info": {
   "codemirror_mode": {
    "name": "ipython",
    "version": 3
   },
   "file_extension": ".py",
   "mimetype": "text/x-python",
   "name": "python",
   "nbconvert_exporter": "python",
   "pygments_lexer": "ipython3",
   "version": "3.6.3"
  }
 },
 "nbformat": 4,
 "nbformat_minor": 1
}
