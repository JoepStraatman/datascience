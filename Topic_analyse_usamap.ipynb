{
 "cells": [
  {
   "cell_type": "code",
   "execution_count": 1,
   "metadata": {
    "collapsed": true
   },
   "outputs": [],
   "source": [
    "import pandas as pd\n",
    "from collections import Counter"
   ]
  },
  {
   "cell_type": "code",
   "execution_count": 2,
   "metadata": {
    "collapsed": true
   },
   "outputs": [],
   "source": [
    "import plotly.plotly as py\n",
    "import plotly\n",
    "plotly.tools.set_credentials_file(username='JoepStraatman', api_key='3HokZjD4d6Oujxr8QVLF')\n",
    "#login to plotly for showing the map"
   ]
  },
  {
   "cell_type": "code",
   "execution_count": 3,
   "metadata": {},
   "outputs": [
    {
     "name": "stderr",
     "output_type": "stream",
     "text": [
      "C:\\Users\\joeps\\Anaconda3\\lib\\site-packages\\IPython\\core\\interactiveshell.py:2698: DtypeWarning:\n",
      "\n",
      "Columns (1,2,3,4,5) have mixed types. Specify dtype option on import or set low_memory=False.\n",
      "\n"
     ]
    }
   ],
   "source": [
    "df2 = pd.read_csv('../twitter_data.csv')\n",
    "df_topics = pd.DataFrame.from_csv('Topicperstate.csv')\n"
   ]
  },
  {
   "cell_type": "code",
   "execution_count": 4,
   "metadata": {
    "collapsed": true
   },
   "outputs": [],
   "source": [
    "df4 = df2.groupby(['code']).size()\n",
    "df4 = pd.DataFrame(df4)\n",
    "df4 = df4.drop('USA')"
   ]
  },
  {
   "cell_type": "code",
   "execution_count": 5,
   "metadata": {},
   "outputs": [
    {
     "data": {
      "text/plain": [
       "code\n",
       "AK    0.714569\n",
       "AL    0.712843\n",
       "AR    0.730805\n",
       "AZ    0.691222\n",
       "CA    0.727874\n",
       "Name: sentiment, dtype: float64"
      ]
     },
     "execution_count": 5,
     "metadata": {},
     "output_type": "execute_result"
    }
   ],
   "source": [
    "df_topics = df_topics.drop('??').drop('???').drop('USA').drop('None').drop('DC').drop('GU').drop('Mo')\n",
    "df_sentiment = df2.groupby('code').sentiment.mean()\n",
    "df_sentiment.head()\n",
    "#df_sentiment = df_sentiment.drop('??').drop('???').drop('USA').drop('None').drop('DC').drop('GU').drop('Mo')"
   ]
  },
  {
   "cell_type": "code",
   "execution_count": 6,
   "metadata": {
    "collapsed": true,
    "scrolled": true
   },
   "outputs": [],
   "source": [
    "df_sentiment = df_sentiment.drop('USA').drop('None').drop('DC').drop('GU').drop('Mo')\n",
    "df_sentiment = pd.DataFrame(df_sentiment[:-4])"
   ]
  },
  {
   "cell_type": "code",
   "execution_count": 7,
   "metadata": {
    "scrolled": false
   },
   "outputs": [
    {
     "name": "stdout",
     "output_type": "stream",
     "text": [
      "High five! You successfully sent some data to your account on plotly. View your plot in your browser at https://plot.ly/~JoepStraatman/0 or inside your plot.ly account where it is named 'd3-cloropleth-map'\n"
     ]
    },
    {
     "data": {
      "text/html": [
       "<iframe id=\"igraph\" scrolling=\"no\" style=\"border:none;\" seamless=\"seamless\" src=\"https://plot.ly/~JoepStraatman/0.embed\" height=\"525px\" width=\"100%\"></iframe>"
      ],
      "text/plain": [
       "<plotly.tools.PlotlyDisplay object>"
      ]
     },
     "execution_count": 7,
     "metadata": {},
     "output_type": "execute_result"
    }
   ],
   "source": [
    "df = pd.read_csv('https://raw.githubusercontent.com/plotly/datasets/master/2011_us_ag_exports.csv')\n",
    "\n",
    "for col in df4.columns:\n",
    "    df4[col] = df4[col].astype(str)\n",
    "\n",
    "scl = [[0.0, 'rgb(242,240,247)'],[0.2, 'rgb(218,218,235)'],[0.4, 'rgb(188,189,220)'],\\\n",
    "            [0.6, 'rgb(158,154,200)'],[0.8, 'rgb(117,107,177)'],[1.0, 'rgb(84,39,143)']]\n",
    "df = df.set_index('code')\n",
    "result = pd.concat([df, df4], axis=1, join='inner')\n",
    "result['text'] = result['state']+ '<br>Meest voorkomende<br> topics:<br>'+df_topics['topics']\n",
    "#    'Beef '+df['beef']+' Dairy '+df['dairy']+'<br>'+\\\n",
    "#    'Fruits '+df['total fruits']+' Veggies ' + df['total veggies']+'<br>'+\\\n",
    "#    'Wheat '+df['wheat']+' Corn '+df['corn']\n",
    "\n",
    "data = [ dict(\n",
    "        type='choropleth',\n",
    "        colorscale = scl,\n",
    "        autocolorscale = True,\n",
    "        locations = result.index,\n",
    "        z = df_sentiment['sentiment'].astype(float),\n",
    "        locationmode = 'USA-states',\n",
    "        text = result['text'], #text if you hover over a state\n",
    "        marker = dict(\n",
    "            line = dict (\n",
    "                color = 'rgb(255,255,255)',\n",
    "                width = 2\n",
    "            ) ),\n",
    "        colorbar = dict(\n",
    "            title = \"Positivity of tweets\")\n",
    "        ) ]\n",
    "\n",
    "layout = dict(\n",
    "        title = 'Positivity of tweets with the 3 most used topics per state',\n",
    "        geo = dict(\n",
    "            scope='usa',\n",
    "            projection=dict( type='albers usa' ),\n",
    "            showlakes = True,\n",
    "            lakecolor = 'rgb(255, 255, 255)'),\n",
    "             )\n",
    "    \n",
    "fig = dict( data=data, layout=layout )\n",
    "py.iplot( fig, filename='d3-cloropleth-map' )"
   ]
  },
  {
   "cell_type": "code",
   "execution_count": null,
   "metadata": {
    "collapsed": true
   },
   "outputs": [],
   "source": []
  },
  {
   "cell_type": "code",
   "execution_count": 8,
   "metadata": {},
   "outputs": [
    {
     "name": "stdout",
     "output_type": "stream",
     "text": [
      "High five! You successfully sent some data to your account on plotly. View your plot in your browser at https://plot.ly/~JoepStraatman/0 or inside your plot.ly account where it is named 'd3-cloropleth-map'\n"
     ]
    },
    {
     "data": {
      "text/html": [
       "<iframe id=\"igraph\" scrolling=\"no\" style=\"border:none;\" seamless=\"seamless\" src=\"https://plot.ly/~JoepStraatman/0.embed\" height=\"525px\" width=\"100%\"></iframe>"
      ],
      "text/plain": [
       "<plotly.tools.PlotlyDisplay object>"
      ]
     },
     "execution_count": 8,
     "metadata": {},
     "output_type": "execute_result"
    }
   ],
   "source": [
    "df = pd.read_csv('https://raw.githubusercontent.com/plotly/datasets/master/2011_us_ag_exports.csv')\n",
    "\n",
    "for col in df4.columns:\n",
    "    df4[col] = df4[col].astype(str)\n",
    "\n",
    "scl = [[0.0, 'rgb(242,240,247)'],[0.2, 'rgb(218,218,235)'],[0.4, 'rgb(188,189,220)'],\\\n",
    "            [0.6, 'rgb(158,154,200)'],[0.8, 'rgb(117,107,177)'],[1.0, 'rgb(84,39,143)']]\n",
    "df = df.set_index('code')\n",
    "result = pd.concat([df, df4], axis=1, join='inner')\n",
    "result['text'] = result['state']+ '<br>Meest voorkomende<br> topics:<br>'+df_topics['topics']\n",
    "#    'Beef '+df['beef']+' Dairy '+df['dairy']+'<br>'+\\\n",
    "#    'Fruits '+df['total fruits']+' Veggies ' + df['total veggies']+'<br>'+\\\n",
    "#    'Wheat '+df['wheat']+' Corn '+df['corn']\n",
    "\n",
    "data = [ dict(\n",
    "        type='choropleth',\n",
    "        colorscale = scl,\n",
    "        autocolorscale = True,\n",
    "        locations = result.index,\n",
    "        z = result[0].astype(float),\n",
    "        locationmode = 'USA-states',\n",
    "        text = result['text'], #text if you hover over a state\n",
    "        marker = dict(\n",
    "            line = dict (\n",
    "                color = 'rgb(255,255,255)',\n",
    "                width = 2\n",
    "            ) ),\n",
    "        colorbar = dict(\n",
    "            title = \"Total tweets\")\n",
    "        ) ]\n",
    "\n",
    "layout = dict(\n",
    "        title = 'Total numbers of tweets by state',\n",
    "        geo = dict(\n",
    "            scope='usa',\n",
    "            projection=dict( type='albers usa' ),\n",
    "            showlakes = True,\n",
    "            lakecolor = 'rgb(255, 255, 255)'),\n",
    "             )\n",
    "    \n",
    "fig = dict( data=data, layout=layout )\n",
    "py.iplot( fig, filename='d3-cloropleth-map' )"
   ]
  },
  {
   "cell_type": "code",
   "execution_count": 10,
   "metadata": {
    "collapsed": true
   },
   "outputs": [],
   "source": [
    "trump = df2['contains_trump'].tolist()\n",
    "hillary = df2['contains_hillary'].tolist()"
   ]
  },
  {
   "cell_type": "code",
   "execution_count": 11,
   "metadata": {
    "collapsed": true
   },
   "outputs": [],
   "source": [
    "side = []\n",
    "for x,y in zip(trump,hillary):\n",
    "    if x == y:\n",
    "        side.append(1)\n",
    "    elif x == True:\n",
    "        side.append(2)\n",
    "    else:\n",
    "        side.append(0)"
   ]
  },
  {
   "cell_type": "code",
   "execution_count": 12,
   "metadata": {
    "collapsed": true
   },
   "outputs": [],
   "source": [
    "df2['side'] = side"
   ]
  },
  {
   "cell_type": "code",
   "execution_count": 14,
   "metadata": {},
   "outputs": [
    {
     "data": {
      "text/html": [
       "<div>\n",
       "<style>\n",
       "    .dataframe thead tr:only-child th {\n",
       "        text-align: right;\n",
       "    }\n",
       "\n",
       "    .dataframe thead th {\n",
       "        text-align: left;\n",
       "    }\n",
       "\n",
       "    .dataframe tbody tr th {\n",
       "        vertical-align: top;\n",
       "    }\n",
       "</style>\n",
       "<table border=\"1\" class=\"dataframe\">\n",
       "  <thead>\n",
       "    <tr style=\"text-align: right;\">\n",
       "      <th></th>\n",
       "      <th>Unnamed: 0</th>\n",
       "      <th>timestamp</th>\n",
       "      <th>place</th>\n",
       "      <th>code</th>\n",
       "      <th>device</th>\n",
       "      <th>text</th>\n",
       "      <th>sentiment</th>\n",
       "      <th>contains_trump</th>\n",
       "      <th>contains_hillary</th>\n",
       "      <th>side</th>\n",
       "    </tr>\n",
       "  </thead>\n",
       "  <tbody>\n",
       "    <tr>\n",
       "      <th>0</th>\n",
       "      <td>0</td>\n",
       "      <td>Sun Aug 28 04:14:15 +0000 2016</td>\n",
       "      <td>None</td>\n",
       "      <td>None</td>\n",
       "      <td>Twitter Web Client</td>\n",
       "      <td>#BLM #NEVERHILLARY #HEXIT #Hillary4Prison #Sto...</td>\n",
       "      <td>1.0</td>\n",
       "      <td>True</td>\n",
       "      <td>True</td>\n",
       "      <td>1</td>\n",
       "    </tr>\n",
       "    <tr>\n",
       "      <th>1</th>\n",
       "      <td>1</td>\n",
       "      <td>Sun Aug 28 04:14:19 +0000 2016</td>\n",
       "      <td>None</td>\n",
       "      <td>None</td>\n",
       "      <td>Twitter for iPhone</td>\n",
       "      <td>America loves Trump? Huh! since when? Sounds l...</td>\n",
       "      <td>0.0</td>\n",
       "      <td>True</td>\n",
       "      <td>False</td>\n",
       "      <td>2</td>\n",
       "    </tr>\n",
       "    <tr>\n",
       "      <th>2</th>\n",
       "      <td>2</td>\n",
       "      <td>Sun Aug 28 04:14:22 +0000 2016</td>\n",
       "      <td>Dallas</td>\n",
       "      <td>TX</td>\n",
       "      <td>Twitter for iPhone</td>\n",
       "      <td>@realDonaldTrump TRUMP NEXT THING YOU KNOW. SO...</td>\n",
       "      <td>0.0</td>\n",
       "      <td>True</td>\n",
       "      <td>False</td>\n",
       "      <td>2</td>\n",
       "    </tr>\n",
       "    <tr>\n",
       "      <th>3</th>\n",
       "      <td>3</td>\n",
       "      <td>Sun Aug 28 04:14:26 +0000 2016</td>\n",
       "      <td>Pennsylvania</td>\n",
       "      <td>USA</td>\n",
       "      <td>Twitter for iPad</td>\n",
       "      <td>@pastormarkburns @lorischovanec @realDonaldTru...</td>\n",
       "      <td>1.0</td>\n",
       "      <td>True</td>\n",
       "      <td>False</td>\n",
       "      <td>2</td>\n",
       "    </tr>\n",
       "    <tr>\n",
       "      <th>4</th>\n",
       "      <td>4</td>\n",
       "      <td>Sun Aug 28 04:14:27 +0000 2016</td>\n",
       "      <td>Sausalito</td>\n",
       "      <td>CA</td>\n",
       "      <td>Twitter for iPhone</td>\n",
       "      <td>And we are surprised by this news? Trump is re...</td>\n",
       "      <td>1.0</td>\n",
       "      <td>True</td>\n",
       "      <td>False</td>\n",
       "      <td>2</td>\n",
       "    </tr>\n",
       "  </tbody>\n",
       "</table>\n",
       "</div>"
      ],
      "text/plain": [
       "   Unnamed: 0                       timestamp         place  code  \\\n",
       "0           0  Sun Aug 28 04:14:15 +0000 2016          None  None   \n",
       "1           1  Sun Aug 28 04:14:19 +0000 2016          None  None   \n",
       "2           2  Sun Aug 28 04:14:22 +0000 2016        Dallas    TX   \n",
       "3           3  Sun Aug 28 04:14:26 +0000 2016  Pennsylvania   USA   \n",
       "4           4  Sun Aug 28 04:14:27 +0000 2016     Sausalito    CA   \n",
       "\n",
       "               device                                               text  \\\n",
       "0  Twitter Web Client  #BLM #NEVERHILLARY #HEXIT #Hillary4Prison #Sto...   \n",
       "1  Twitter for iPhone  America loves Trump? Huh! since when? Sounds l...   \n",
       "2  Twitter for iPhone  @realDonaldTrump TRUMP NEXT THING YOU KNOW. SO...   \n",
       "3    Twitter for iPad  @pastormarkburns @lorischovanec @realDonaldTru...   \n",
       "4  Twitter for iPhone  And we are surprised by this news? Trump is re...   \n",
       "\n",
       "   sentiment  contains_trump  contains_hillary  side  \n",
       "0        1.0            True              True     1  \n",
       "1        0.0            True             False     2  \n",
       "2        0.0            True             False     2  \n",
       "3        1.0            True             False     2  \n",
       "4        1.0            True             False     2  "
      ]
     },
     "execution_count": 14,
     "metadata": {},
     "output_type": "execute_result"
    }
   ],
   "source": [
    "df2.head()"
   ]
  },
  {
   "cell_type": "code",
   "execution_count": 15,
   "metadata": {
    "collapsed": true
   },
   "outputs": [],
   "source": [
    "df_side = df2.groupby('code').side.mean()\n",
    "df_side = df_side.drop('USA').drop('None').drop('DC').drop('GU').drop('Mo')\n",
    "df_side = pd.DataFrame(df_side[:-4])"
   ]
  },
  {
   "cell_type": "code",
   "execution_count": 16,
   "metadata": {},
   "outputs": [
    {
     "name": "stdout",
     "output_type": "stream",
     "text": [
      "High five! You successfully sent some data to your account on plotly. View your plot in your browser at https://plot.ly/~JoepStraatman/0 or inside your plot.ly account where it is named 'd3-cloropleth-map'\n"
     ]
    },
    {
     "data": {
      "text/html": [
       "<iframe id=\"igraph\" scrolling=\"no\" style=\"border:none;\" seamless=\"seamless\" src=\"https://plot.ly/~JoepStraatman/0.embed\" height=\"525px\" width=\"100%\"></iframe>"
      ],
      "text/plain": [
       "<plotly.tools.PlotlyDisplay object>"
      ]
     },
     "execution_count": 16,
     "metadata": {},
     "output_type": "execute_result"
    }
   ],
   "source": [
    "df = pd.read_csv('https://raw.githubusercontent.com/plotly/datasets/master/2011_us_ag_exports.csv')\n",
    "\n",
    "for col in df4.columns:\n",
    "    df4[col] = df4[col].astype(str)\n",
    "\n",
    "scl = [[0.0, 'rgb(242,240,247)'],[0.2, 'rgb(218,218,235)'],[0.4, 'rgb(188,189,220)'],\\\n",
    "            [0.6, 'rgb(158,154,200)'],[0.8, 'rgb(117,107,177)'],[1.0, 'rgb(84,39,143)']]\n",
    "df = df.set_index('code')\n",
    "result = pd.concat([df, df4], axis=1, join='inner')\n",
    "result['text'] = result['state']+ '<br>Meest voorkomende<br> topics:<br>'+df_topics['topics']\n",
    "#    'Beef '+df['beef']+' Dairy '+df['dairy']+'<br>'+\\\n",
    "#    'Fruits '+df['total fruits']+' Veggies ' + df['total veggies']+'<br>'+\\\n",
    "#    'Wheat '+df['wheat']+' Corn '+df['corn']\n",
    "\n",
    "data = [ dict(\n",
    "        type='choropleth',\n",
    "        colorscale = scl,\n",
    "        autocolorscale = True,\n",
    "        locations = result.index,\n",
    "        z = df_side['side'].astype(float),\n",
    "        locationmode = 'USA-states',\n",
    "        text = result['text'], #text if you hover over a state\n",
    "        marker = dict(\n",
    "            line = dict (\n",
    "                color = 'rgb(255,255,255)',\n",
    "                width = 2\n",
    "            ) ),\n",
    "        colorbar = dict(\n",
    "            title = \"Tweets about trump/Hillary\")\n",
    "        ) ]\n",
    "\n",
    "layout = dict(\n",
    "        title = 'Color map of the diversity in tweeting about trump or hillary',\n",
    "        geo = dict(\n",
    "            scope='usa',\n",
    "            projection=dict( type='albers usa' ),\n",
    "            showlakes = True,\n",
    "            lakecolor = 'rgb(255, 255, 255)'),\n",
    "             )\n",
    "    \n",
    "fig = dict( data=data, layout=layout )\n",
    "py.iplot( fig, filename='d3-cloropleth-map' )"
   ]
  },
  {
   "cell_type": "code",
   "execution_count": null,
   "metadata": {
    "collapsed": true
   },
   "outputs": [],
   "source": []
  }
 ],
 "metadata": {
  "kernelspec": {
   "display_name": "Python 3",
   "language": "python",
   "name": "python3"
  },
  "language_info": {
   "codemirror_mode": {
    "name": "ipython",
    "version": 3
   },
   "file_extension": ".py",
   "mimetype": "text/x-python",
   "name": "python",
   "nbconvert_exporter": "python",
   "pygments_lexer": "ipython3",
   "version": "3.6.3"
  }
 },
 "nbformat": 4,
 "nbformat_minor": 2
}
