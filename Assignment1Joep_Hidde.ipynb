{
 "cells": [
  {
   "cell_type": "markdown",
   "metadata": {
    "slideshow": {
     "slide_type": "slide"
    }
   },
   "source": [
    "# Assignment1\n",
    "\n",
    "## Notebook made by  \n",
    "\n",
    "\n",
    "\n",
    "|** Name** | **Student id** | **email**|\n",
    "|: |:-|:-|\n",
    "|Hidde de Haan |11028564 |Hiddedehaan@hotmail.com |\n",
    "|Joep Straatman |11035307 |Straatmanjoep@gmail.com |\n",
    "|  | |. |\n",
    "\n",
    "### Pledge (taken from [Coursera's Honor Code](https://www.coursera.org/about/terms/honorcode) )\n",
    "\n",
    "\n",
    "\n",
    "Put here a selfie with your photo where you hold a signed paper with the following text: (if this is team work, put two selfies here). The link must be to some place on the web, not to a local file. \n",
    "\n",
    "> My answers to homework, quizzes and exams will be my own work (except for assignments that explicitly permit collaboration).\n",
    "\n",
    ">I will not make solutions to homework, quizzes or exams available to anyone else. This includes both solutions written by me, as well as any official solutions provided by the course staff.\n",
    "\n",
    ">I will not engage in any other activities that will dishonestly improve my results or dishonestly improve/hurt the results of others.\n",
    "\n",
    "<img src='http://i.imgur.com/3GMiSMB.jpg'/>\n",
    "\n",
    "### Note\n",
    "* **Assignments without the selfies or completely filled in information will not be graded and receive 0 points.**\n",
    "\n",
    "\n",
    "### Two \"big\" questions this week."
   ]
  },
  {
   "cell_type": "markdown",
   "metadata": {
    "slideshow": {
     "slide_type": "slide"
    }
   },
   "source": [
    "# Q1 (Monty Hall problem)\n",
    "\n",
    "This is the part you hand in from the [warm up notebook](http://nbviewer.jupyter.org/url/maartenmarx.nl/teaching/DataScience/Assignments/ASSIGNMENTS/MontyHall.ipynb).\n",
    "\n",
    "##  This counts for your mark\n",
    "\n",
    "Generalize your simulation code to handle the case of `n` doors.\n",
    "\n",
    "\n",
    "This sentence can be read in two ways, giving very different outcomes! You must program both, and understand that it all makes sense.\n",
    "\n",
    "\n",
    "### Your work\n",
    "For both interpretations, give a plot with the number of doors on the x-axis and the win_percentage on the y-axis, and plot that value for the two strategies for numbers of doors between 3 and 20. \n",
    "\n",
    "Describe briefly what is going on here, and why the plots makes sense.\n",
    "\n",
    "\n",
    "### Interpretation  1\n",
    "* There are _n_ doors.\n",
    "* You have chosen one door.\n",
    "* The host opens one door as before (it is not the door you have chosen and not a door with the prize)\n",
    "* Now you switch or not."
   ]
  },
  {
   "cell_type": "code",
   "execution_count": 87,
   "metadata": {},
   "outputs": [
    {
     "name": "stdout",
     "output_type": "stream",
     "text": [
      "IPython version:       6.1.0 (need at least 1.0)\n",
      "Numpy version:        1.13.3 (need at least 1.7.1)\n",
      "SciPy version:        0.19.1 (need at least 0.12.0)\n",
      "Pandas version:       0.20.3 (need at least 0.11.0)\n",
      "Mapltolib version:     2.1.0 (need at least 1.2.1)\n",
      "Scikit-Learn version: 0.19.1 (need at least 0.13.1)\n",
      "requests version:     2.18.4 (need at least 1.2.3)\n",
      "NetworkX version:        2.0 (need at least 1.7)\n",
      "BeautifulSoup version: 4.6.0 (need at least 4.0)\n",
      "Seaborn version:       0.8.1 (need at least 0.3.1)\n"
     ]
    }
   ],
   "source": [
    "#IPython is what you are using now to run the notebook\n",
    "import IPython\n",
    "print (\"IPython version:      %6.6s (need at least 1.0)\" % IPython.__version__)\n",
    "\n",
    "# Numpy is a library for working with Arrays\n",
    "import numpy as np\n",
    "print (\"Numpy version:        %6.6s (need at least 1.7.1)\" % np.__version__)\n",
    "\n",
    "# SciPy implements many different numerical algorithms\n",
    "import scipy as sp\n",
    "print (\"SciPy version:        %6.6s (need at least 0.12.0)\" % sp.__version__)\n",
    "\n",
    "# Pandas makes working with data tables easier\n",
    "import pandas as pd\n",
    "print (\"Pandas version:       %6.6s (need at least 0.11.0)\" % pd.__version__)\n",
    "\n",
    "# Module for plotting\n",
    "import matplotlib\n",
    "print (\"Mapltolib version:    %6.6s (need at least 1.2.1)\" % matplotlib.__version__)\n",
    "\n",
    "# SciKit Learn implements several Machine Learning algorithms\n",
    "import sklearn\n",
    "print (\"Scikit-Learn version: %6.6s (need at least 0.13.1)\" % sklearn.__version__)\n",
    "\n",
    "# Requests is a library for getting data from the Web\n",
    "import requests\n",
    "print (\"requests version:     %6.6s (need at least 1.2.3)\" % requests.__version__)\n",
    "\n",
    "# Networkx is a library for working with networks\n",
    "import networkx as nx\n",
    "print (\"NetworkX version:     %6.6s (need at least 1.7)\" % nx.__version__)\n",
    "\n",
    "# #BeautifulSoup is a library to parse HTML and XML documents\n",
    "import bs4\n",
    "print (\"BeautifulSoup version:%6.6s (need at least 4.0)\" % bs4.__version__)\n",
    "\n",
    "#MrJob is a library to run map reduce jobs on Amazon's computers\n",
    "#import mrjob\n",
    "#print (\"Mr Job version:       %6.6s (need at least 0.4)\" % mrjob.__version__)\n",
    "\n",
    "#Pattern has lots of tools for working with data from the internet\n",
    "#import pattern3\n",
    "#print (\"Pattern version:      %6.6s (need at least 2.6)\" % pattern3.__version__)\n",
    "\n",
    "#Seaborn is a nice library for visualizations\n",
    "import seaborn\n",
    "print (\"Seaborn version:      %6.6s (need at least 0.3.1)\" % seaborn.__version__)"
   ]
  },
  {
   "cell_type": "code",
   "execution_count": 88,
   "metadata": {},
   "outputs": [
    {
     "data": {
      "text/plain": [
       "array([1, 1, 1, 0, 2, 2])"
      ]
     },
     "execution_count": 88,
     "metadata": {},
     "output_type": "execute_result"
    }
   ],
   "source": [
    "\"\"\"\n",
    "Function\n",
    "--------\n",
    "simulate_prizedoor\n",
    "\n",
    "Generate a random array of 0s, 1s, and 2s, representing\n",
    "hiding a prize between door 0, door 1, and door 2\n",
    "\n",
    "Parameters\n",
    "----------\n",
    "nsim : int\n",
    "    The number of simulations to run\n",
    "\n",
    "Returns\n",
    "-------\n",
    "sims : array\n",
    "    Random array of 0s, 1s, and 2s\n",
    "\n",
    "Example\n",
    "-------\n",
    ">>> print simulate_prizedoor(3)\n",
    "array([0, 0, 2])\n",
    "\"\"\"\n",
    "def simulate_prizedoor(nsim):\n",
    "    answer = (np.random.randint(3, size=nsim))\n",
    "    \n",
    "    return answer\n",
    "#your code here\n",
    "simulate_prizedoor(6)"
   ]
  },
  {
   "cell_type": "code",
   "execution_count": 89,
   "metadata": {},
   "outputs": [],
   "source": [
    "\"\"\"\n",
    "Function\n",
    "--------\n",
    "simulate_guess\n",
    "\n",
    "Return any strategy for guessing which door a prize is behind. This\n",
    "could be a random strategy, one that always guesses 2, whatever.\n",
    "\n",
    "Parameters\n",
    "----------\n",
    "nsim : int\n",
    "    The number of simulations to generate guesses for\n",
    "\n",
    "Returns\n",
    "-------\n",
    "guesses : array\n",
    "    An array of guesses. Each guess is a 0, 1, or 2\n",
    "\n",
    "Example\n",
    "-------\n",
    ">>> print simulate_guess(5)\n",
    "array([0, 0, 0, 0, 0])\n",
    "\"\"\"\n",
    "#your code here\n",
    "def simulate_guess(nsim):\n",
    "    \n",
    "    guesses = np.random.randint(3,size=nsim)\n",
    "    \n",
    "    return guesses\n",
    "g = simulate_guess(6)"
   ]
  },
  {
   "cell_type": "code",
   "execution_count": 90,
   "metadata": {
    "slideshow": {
     "slide_type": "slide"
    }
   },
   "outputs": [
    {
     "data": {
      "text/plain": [
       "[2, 2, 1, 2, 2, 1]"
      ]
     },
     "execution_count": 90,
     "metadata": {},
     "output_type": "execute_result"
    }
   ],
   "source": [
    "\"\"\"\n",
    "Function\n",
    "--------\n",
    "goat_door\n",
    "\n",
    "Simulate the opening of a \"goat door\" that doesn't contain the prize,\n",
    "and is different from the contestants guess\n",
    "\n",
    "Parameters\n",
    "----------\n",
    "prizedoors : array\n",
    "    The door that the prize is behind in each simulation\n",
    "guesses : array\n",
    "    THe door that the contestant guessed in each simulation\n",
    "\n",
    "Returns\n",
    "-------\n",
    "goats : array\n",
    "    The goat door that is opened for each simulation. Each item is 0, 1, or 2, and is different\n",
    "    from both prizedoors and guesses\n",
    "\n",
    "Examples\n",
    "--------\n",
    ">>> print goat_door(np.array([0, 1, 2]), np.array([1, 1, 1]))\n",
    ">>> array([2, 2, 0])\n",
    "\"\"\"\n",
    "#your code here\n",
    "def goat_door(prizedoors, guesses):\n",
    "    goats = []\n",
    "    for simulation in range(len(prizedoors)):\n",
    "        if prizedoors[simulation] == guesses[simulation]:\n",
    "            t = list(range(3))\n",
    "            t.remove(prizedoors[simulation])\n",
    "            np.random.shuffle(t)\n",
    "            goats.append(t[0])\n",
    "        else:\n",
    "            t = list(range(3))\n",
    "            goats.append([x for x in t if x != prizedoors[simulation] and x != guesses[simulation]][0])\n",
    "        #print (\"goats: \",goats[simulation], \"Prizedoor: \", prizedoors[simulation], \"Guess: \", guesses[simulation])\n",
    "    return goats\n",
    "goat_door(simulate_prizedoor(6), g)"
   ]
  },
  {
   "cell_type": "code",
   "execution_count": 91,
   "metadata": {},
   "outputs": [
    {
     "data": {
      "text/plain": [
       "[2, 2, 1, 2, 2, 2]"
      ]
     },
     "execution_count": 91,
     "metadata": {},
     "output_type": "execute_result"
    }
   ],
   "source": [
    "\"\"\"\n",
    "Function\n",
    "--------\n",
    "switch_guess\n",
    "\n",
    "The strategy that always switches a guess after the goat door is opened\n",
    "\n",
    "Parameters\n",
    "----------\n",
    "guesses : array\n",
    "     Array of original guesses, for each simulation\n",
    "goatdoors : array\n",
    "     Array of revealed goat doors for each simulation\n",
    "\n",
    "Returns\n",
    "-------\n",
    "The new door after switching. Should be different from both guesses and goatdoors\n",
    "\n",
    "Examples\n",
    "--------\n",
    ">>> print switch_guess(np.array([0, 1, 2]), np.array([1, 2, 1]))\n",
    ">>> array([2, 0, 0])\n",
    "\"\"\"\n",
    "#your code here\n",
    "def switch_guess(guesses, goatdoors):\n",
    "    newdoor = []\n",
    "    for simulation in range(len(guesses)):\n",
    "        t = list(range(3))\n",
    "        newdoor.append([x for x in t if x != goatdoors[simulation] and x != guesses[simulation]][0])\n",
    "        \n",
    "    return newdoor\n",
    "\n",
    "switch_guess(g, goat_door(simulate_prizedoor(6), g))"
   ]
  },
  {
   "cell_type": "code",
   "execution_count": 92,
   "metadata": {},
   "outputs": [],
   "source": [
    "\"\"\"\n",
    "Function\n",
    "--------\n",
    "win_percentage\n",
    "\n",
    "Calculate the percent of times that a simulation of guesses is correct\n",
    "\n",
    "Parameters\n",
    "-----------\n",
    "guesses : array\n",
    "    Guesses for each simulation\n",
    "prizedoors : array\n",
    "    Location of prize for each simulation\n",
    "\n",
    "Returns\n",
    "--------\n",
    "percentage : number between 0 and 100\n",
    "    The win percentage\n",
    "\n",
    "Examples\n",
    "---------\n",
    ">>> print win_percentage(np.array([0, 1, 2]), np.array([0, 0, 0]))\n",
    "33.333\n",
    "\"\"\"\n",
    "#your code here\n",
    "def win_percentage(guesses, prizedoors):\n",
    "   \n",
    "    lijst = []\n",
    "    for x in range(len(guesses)):\n",
    "        if (guesses[x] == prizedoors[x]):\n",
    "            lijst.append(True)\n",
    "        #print (\"g\",guesses[x], \": p\",prizedoors[x])\n",
    "    return (round(len(lijst)/len(guesses) * 100,3))\n",
    "#win_percentage(simulate_guess(6),simulate_prizedoor(6))"
   ]
  },
  {
   "cell_type": "markdown",
   "metadata": {},
   "source": [
    "## Interpretation 1"
   ]
  },
  {
   "cell_type": "code",
   "execution_count": 93,
   "metadata": {
    "collapsed": true
   },
   "outputs": [],
   "source": [
    "def simulate_prizedoor(nsim, n):\n",
    "    answer = (np.random.randint(n, size=nsim))\n",
    "    \n",
    "    return answer"
   ]
  },
  {
   "cell_type": "code",
   "execution_count": 94,
   "metadata": {
    "collapsed": true
   },
   "outputs": [],
   "source": [
    "def simulate_guess(nsim, n):\n",
    "    \n",
    "    guesses = np.random.randint(n,size=nsim)\n",
    "    \n",
    "    return guesses"
   ]
  },
  {
   "cell_type": "code",
   "execution_count": 95,
   "metadata": {
    "collapsed": true
   },
   "outputs": [],
   "source": [
    "def goat_door(prizedoors, guesses, n):\n",
    "    goats = []\n",
    "    for simulation in range(len(prizedoors)):\n",
    "        if prizedoors[simulation] == guesses[simulation]:\n",
    "            t = list(range(n))\n",
    "            t.remove(prizedoors[simulation])\n",
    "            np.random.shuffle(t)\n",
    "            goats.append(t[0])\n",
    "        else:\n",
    "            t = list(range(n))\n",
    "            goats.append([x for x in t if x != prizedoors[simulation] and x != guesses[simulation]][0])\n",
    "        #print (\"goats: \",goats[simulation], \"Prizedoor: \", prizedoors[simulation], \"Guess: \", guesses[simulation])\n",
    "    return goats"
   ]
  },
  {
   "cell_type": "code",
   "execution_count": 96,
   "metadata": {
    "collapsed": true
   },
   "outputs": [],
   "source": [
    "def switch_guess(guesses, goatdoors, n):\n",
    "    newdoor = []\n",
    "    for simulation in range(len(guesses)):\n",
    "        t = list(range(n))\n",
    "        g = [x for x in t if x != goatdoors[simulation] and x != guesses[simulation]]\n",
    "        np.random.shuffle(g)\n",
    "        newdoor.append(g[0])\n",
    "        \n",
    "    return newdoor"
   ]
  },
  {
   "cell_type": "code",
   "execution_count": 97,
   "metadata": {
    "collapsed": true
   },
   "outputs": [],
   "source": [
    "def win_percentage(guesses, prizedoors):\n",
    "   \n",
    "    lijst = []\n",
    "    for x in range(len(guesses)):\n",
    "        if (guesses[x] == prizedoors[x]):\n",
    "            lijst.append(True)\n",
    "        #print (\"g\",guesses[x], \": p\",prizedoors[x])\n",
    "    return (round(len(lijst)/len(guesses) * 100,3))"
   ]
  },
  {
   "cell_type": "code",
   "execution_count": 98,
   "metadata": {
    "collapsed": true
   },
   "outputs": [],
   "source": [
    "#your code here\n",
    "def simulate_games(simulations, switch, start, end):\n",
    "    percentages = []\n",
    "    nlist = []\n",
    "    \n",
    "    for n in range(start,end):\n",
    "\n",
    "        Prizedoor = simulate_prizedoor(simulations,n)\n",
    "        Guess = simulate_guess(simulations,n)\n",
    "\n",
    "        if switch == False:\n",
    "            win = win_percentage(Guess, Prizedoor)\n",
    "            #print (\"Winpercentage keep original (n=\",n,\") : \",win, \"%\")\n",
    "            percentages.append(win)\n",
    "            nlist.append(n)\n",
    "\n",
    "        else:\n",
    "            goatdoor = goat_door(Prizedoor, Guess, n)\n",
    "            win = win_percentage(switch_guess(Guess, goatdoor,n), Prizedoor)\n",
    "            #print (\"Winpercentage switch goatdoor (n=\",n,\") : \",win, \"%\")\n",
    "            percentages.append(win)\n",
    "            nlist.append(n)\n",
    "    \n",
    "    return percentages, nlist\n",
    "\n",
    "switchfalse = simulate_games(10000, False, 3, 20)\n",
    "switchtrue = simulate_games(10000, True, 3, 20)"
   ]
  },
  {
   "cell_type": "code",
   "execution_count": 99,
   "metadata": {},
   "outputs": [
    {
     "name": "stdout",
     "output_type": "stream",
     "text": [
      "Blauw is met switchen.\n",
      "Rood is zonder switchen.\n"
     ]
    },
    {
     "data": {
      "image/png": "[encoded data removed]",
      "text/plain": [
       "<matplotlib.figure.Figure at 0x1a27c23b38>"
      ]
     },
     "metadata": {},
     "output_type": "display_data"
    }
   ],
   "source": [
    "import matplotlib.pyplot as plt\n",
    "plt.plot(switchfalse[1], switchfalse[0], 'b', color='r')\n",
    "plt.plot(switchtrue[1], switchtrue[0], 'b', color ='b')\n",
    "plt.axis([3, 20, 0, 100])\n",
    "print (\"Blauw is met switchen.\")\n",
    "print (\"Rood is zonder switchen.\")\n",
    "plt.show()"
   ]
  },
  {
   "cell_type": "markdown",
   "metadata": {
    "slideshow": {
     "slide_type": "slide"
    }
   },
   "source": [
    "### Interpretation 2\n",
    "* There are _n_ doors.\n",
    "* You have chosen one door.\n",
    "* The host opens _all except two doors_, namely your door, and a random other door.  Behind none of the opened doors lies the prize."
   ]
  },
  {
   "cell_type": "code",
   "execution_count": 100,
   "metadata": {
    "slideshow": {
     "slide_type": "slide"
    }
   },
   "outputs": [
    {
     "data": {
      "text/plain": [
       "[0, 1, 1, 0, 4, 2, 4, 0, 3, 3]"
      ]
     },
     "execution_count": 100,
     "metadata": {},
     "output_type": "execute_result"
    }
   ],
   "source": [
    "def lastDoor(prizedoors, guesses, n):\n",
    "    goats = []\n",
    "    for simulation in range(len(prizedoors)):\n",
    "        t = list(range(n))\n",
    "        \n",
    "        if prizedoors[simulation] == guesses[simulation]:\n",
    "            np.random.shuffle(t)\n",
    "            goats.append(t[0])\n",
    "        \n",
    "        else:\n",
    "            goats.append(prizedoors[simulation])\n",
    "   \n",
    "    return goats\n",
    "lastDoor(simulate_prizedoor(10,5), simulate_guess(10,5), 5)"
   ]
  },
  {
   "cell_type": "code",
   "execution_count": 101,
   "metadata": {
    "collapsed": true
   },
   "outputs": [],
   "source": [
    "def simulate_games2(simulations, switch, start, end):\n",
    "    percentages = []\n",
    "    nlist = []\n",
    "    \n",
    "    for n in range(start,end):\n",
    "\n",
    "        Prizedoor = simulate_prizedoor(simulations,n)\n",
    "        Guess = simulate_guess(simulations,n)\n",
    "\n",
    "        if switch == False:\n",
    "            win = win_percentage(Guess, Prizedoor)\n",
    "            #print (\"Winpercentage keep original (n=\",n,\") : \",win, \"%\")\n",
    "            percentages.append(win)\n",
    "            nlist.append(n)\n",
    "\n",
    "        else:\n",
    "            goatdoor = lastDoor(Prizedoor, Guess, n)\n",
    "            win = win_percentage(goatdoor, Prizedoor)\n",
    "            #print (\"Winpercentage switch goatdoor (n=\",n,\") : \",win, \"%\")\n",
    "            percentages.append(win)\n",
    "            nlist.append(n)\n",
    "    \n",
    "    return percentages, nlist\n",
    "\n",
    "switchfalse2 = simulate_games2(10000, False, 3, 20)\n",
    "switchtrue2 = simulate_games2(10000, True, 3, 20)"
   ]
  },
  {
   "cell_type": "code",
   "execution_count": 102,
   "metadata": {},
   "outputs": [
    {
     "name": "stdout",
     "output_type": "stream",
     "text": [
      "Blauw is met switchen.\n",
      "Rood is zonder switchen.\n"
     ]
    },
    {
     "data": {
      "image/png": "[encoded data removed]",
      "text/plain": [
       "<matplotlib.figure.Figure at 0x1a24d11fd0>"
      ]
     },
     "metadata": {},
     "output_type": "display_data"
    }
   ],
   "source": [
    "plt.plot(switchfalse2[1], switchfalse2[0], 'b', color='r')\n",
    "plt.plot(switchtrue2[1], switchtrue2[0], 'b', color ='b')\n",
    "plt.axis([3, 20, 0, 100])\n",
    "print (\"Blauw is met switchen.\")\n",
    "print (\"Rood is zonder switchen.\")\n",
    "plt.show()"
   ]
  },
  {
   "cell_type": "markdown",
   "metadata": {
    "slideshow": {
     "slide_type": "slide"
    }
   },
   "source": [
    "# Uitleg \n",
    "\n",
    "## Interpretation 1 explanation\n",
    "\n",
    "A simple solution to the monty hall problem concerns 3 doors. When you choose door A and the host opens door C, the probability that door A has the prize is 1/3. But by opening door C the probability that B contains the prize became 2/3 so that is why you should switch if a situation with 3 doors arises. The situation is no different than if the host offered the player the option to switch between door A or choosing door B and C combined.\n",
    "\n",
    "A simplified solution is:if you stick with your choose you get a car in 1/3 of the cases. If you switch you wil get a car if you had a door with a goat and the chances of getting a goat is 2/3.\n",
    "\n",
    "But of course this effect diminishes if you get a situation with more than 3 doors. That is why the win chance of both switching and not switching is going down when the host adds more doors. The win chance with switching diminishes a lot because the chance of winning rapidly goes down when you add more doors.\n",
    "\n",
    "## Interpretation 2\n",
    "If the host opens every N door except your door and a random door, you should always switch. Because the chance that your chosen door contains the prize is very low. The random door however must always be the prize door, the only exception when the random door does not contain the prize is when your chosen door contains the prize. That is why the win chance of switching is not 100%, it is steadily rising because the chance that your door contains the prize decreases with every door that gets added while the chance that the random door contains the price increases with every door that gets added.\n",
    "\n",
    "As said, the chance that your door contains the prize before switching decreases with every door that gets added. That is why the not switching option graph slowly goes down."
   ]
  },
  {
   "cell_type": "markdown",
   "metadata": {
    "slideshow": {
     "slide_type": "slide"
    }
   },
   "source": [
    "# Q2  (Wikipedia assignment)\n",
    "\n",
    "* Make the assignment stated in <http://nbviewer.jupyter.org/url/maartenmarx.nl/teaching/DataScience/Assignments/ASSIGNMENTS/Log_normal_distribution_of_Wikipedia.ipynb>.\n",
    "* Copy your code into this notebook and end with a MarkDown cell in which you explain what is going on.\n",
    "* **Make sure that on run-all cells your notebook does not start to (re)compute things that take a lot of time, or that your nice pictures are lost.** So comment heavy calls out! "
   ]
  },
  {
   "cell_type": "code",
   "execution_count": 103,
   "metadata": {
    "collapsed": true
   },
   "outputs": [],
   "source": [
    "import bz2\n",
    "from __future__ import division\n",
    "import codecs\n",
    "from bs4 import BeautifulSoup\n",
    "from collections import defaultdict, Counter\n",
    "import re\n",
    "import numpy as np\n",
    "import matplotlib.pyplot as plt\n",
    "import seaborn as sn\n",
    "import random\n",
    "%matplotlib inline"
   ]
  },
  {
   "cell_type": "code",
   "execution_count": 104,
   "metadata": {
    "collapsed": true
   },
   "outputs": [],
   "source": [
    "import wget\n",
    "# Als je de file niet hebt\n",
    "#wget.download('https://dumps.wikimedia.org/nlwiki/latest/nlwiki-latest-pages-articles1.xml.bz2')"
   ]
  },
  {
   "cell_type": "code",
   "execution_count": 105,
   "metadata": {},
   "outputs": [
    {
     "name": "stdout",
     "output_type": "stream",
     "text": [
      "CPU times: user 1min 45s, sys: 3.54 s, total: 1min 48s\n",
      "Wall time: 1min 50s\n"
     ]
    }
   ],
   "source": [
    "from lxml import etree as ef\n",
    "from bz2file import BZ2File\n",
    "from bs4 import BeautifulSoup\n",
    "import re\n",
    "def create_page_category_dict(f):\n",
    "    with BZ2File(f) as xml_file:\n",
    "        context = ef.iterparse(xml_file)\n",
    "        context = iter(context)\n",
    "        pages={} \n",
    "        for action, elem in context:\n",
    "            #print ('action',action)\n",
    "            #print ('elem',elem)\n",
    "            if elem.tag== '{http://www.mediawiki.org/xml/export-0.10/}page':               \n",
    "                for child_of_root in elem:\n",
    "                    if child_of_root.tag =='{http://www.mediawiki.org/xml/export-0.10/}title':\n",
    "                        title= child_of_root.text\n",
    "                    for childd in child_of_root:\n",
    "                        \n",
    "                        if childd.tag =='{http://www.mediawiki.org/xml/export-0.10/}text':                       \n",
    "                            pagetext= BeautifulSoup(childd.text, \"lxml\")\n",
    "                            zinnen = [x for x in pagetext.get_text().split(\"\\n\") if len(x)>3 and x[0] != \"|\" and x[0] != \"=\" and x[0] != \"[\" and x[0] != \"{\" and x[0] != \"*\"]\n",
    "                            newzinnen = []\n",
    "                            for x in zinnen:\n",
    "                                for y in x.split(\".\"):\n",
    "                                    if len(y) > 15:\n",
    "                                        newzinnen.append(y)\n",
    "                            pages[title] = newzinnen\n",
    "        return pages\n",
    "\n",
    "# call it (it took 1 minute on my macbook pro)\n",
    "%time articles = create_page_category_dict('nlwiki-latest-pages-articles1.xml.bz2')"
   ]
  },
  {
   "cell_type": "code",
   "execution_count": 106,
   "metadata": {},
   "outputs": [
    {
     "name": "stdout",
     "output_type": "stream",
     "text": [
      "121503\n"
     ]
    }
   ],
   "source": [
    "artikellijst= []\n",
    "for key in articles.keys():\n",
    "    artikellijst.append(key)\n",
    "print (len(artikellijst))"
   ]
  },
  {
   "cell_type": "markdown",
   "metadata": {},
   "source": [
    "# 4A"
   ]
  },
  {
   "cell_type": "code",
   "execution_count": 107,
   "metadata": {},
   "outputs": [
    {
     "name": "stdout",
     "output_type": "stream",
     "text": [
      "2842029 25276\n"
     ]
    },
    {
     "data": {
      "image/png": "[encoded data removed]",
      "text/plain": [
       "<matplotlib.figure.Figure at 0x1a23fa51d0>"
      ]
     },
     "metadata": {},
     "output_type": "display_data"
    }
   ],
   "source": [
    "lengtes = []\n",
    "count = 0\n",
    "for x in artikellijst:\n",
    "    for y in articles[x]:\n",
    "        lengtes.append(len(y))\n",
    "        count += 1\n",
    "print (count, max(lengtes))\n",
    "plt.hist(lengtes, bins=np.arange(200), histtype='step', linewidth=1);"
   ]
  },
  {
   "cell_type": "code",
   "execution_count": 108,
   "metadata": {
    "collapsed": true
   },
   "outputs": [],
   "source": [
    "from scipy import stats\n",
    "\n",
    "def lognorm_model(x, amplitude, mu, sigma):\n",
    "    return amplitude * stats.lognorm.pdf(x, scale=np.exp(mu), s=sigma)\n",
    "\n",
    "x = np.linspace(0, 100, 1000)\n",
    "#plt.plot(x, lognorm_model(x, 1000, 3.5, 0.7));"
   ]
  },
  {
   "cell_type": "code",
   "execution_count": 109,
   "metadata": {
    "collapsed": true
   },
   "outputs": [],
   "source": [
    "def hist_linelengths(lengths, ax):\n",
    "    \"\"\"Plot a histogram of lengths of unique lines in the given module\"\"\"\n",
    "    \n",
    "    h = ax.hist(lengths, bins=np.arange(2000) + 0.5, histtype='step', linewidth=1.5)\n",
    "    #ax.axvline(x=100, linestyle=':', color='black')\n",
    "    ax.set(xlim=(1, 400),\n",
    "           ylim=(0, None),\n",
    "           xlabel='characters in line',\n",
    "           ylabel='number of lines')\n",
    "    return h\n",
    "#count, bins, _ = hist_linelengths(lengtes, ax=plt.axes())"
   ]
  },
  {
   "cell_type": "code",
   "execution_count": 110,
   "metadata": {},
   "outputs": [
    {
     "name": "stdout",
     "output_type": "stream",
     "text": [
      "optimal parameters: [  3.11805717e+06   4.56393583e+00   8.70819106e-01]\n"
     ]
    },
    {
     "data": {
      "image/png": "[encoded data removed]",
      "text/plain": [
       "<matplotlib.figure.Figure at 0x1a535f3e48>"
      ]
     },
     "metadata": {},
     "output_type": "display_data"
    }
   ],
   "source": [
    "from scipy import optimize\n",
    "\n",
    "counts, bins, _ = hist_linelengths(lengtes, ax=plt.axes())\n",
    "lengths = 0.5 * (bins[:-1] + bins[1:])\n",
    "\n",
    "def minfunc(theta, lengths, counts):\n",
    "    return np.sum((counts - lognorm_model(lengths, *theta)) ** 2)\n",
    "\n",
    "opt = optimize.minimize(minfunc, x0=[10000, 4, 1],\n",
    "                        args=(lengths[:5000], counts[:5000]),\n",
    "                        method='Nelder-Mead')\n",
    "print(\"optimal parameters:\", opt.x)\n",
    "\n",
    "plt.fill_between(lengths, lognorm_model(lengths, *opt.x), alpha=0.3, color='gray');"
   ]
  },
  {
   "cell_type": "markdown",
   "metadata": {},
   "source": [
    "# 4B"
   ]
  },
  {
   "cell_type": "code",
   "execution_count": 111,
   "metadata": {},
   "outputs": [
    {
     "name": "stdout",
     "output_type": "stream",
     "text": [
      "16914\n"
     ]
    },
    {
     "data": {
      "image/png": "[encoded data removed]",
      "text/plain": [
       "<matplotlib.figure.Figure at 0x1a23860320>"
      ]
     },
     "metadata": {},
     "output_type": "display_data"
    }
   ],
   "source": [
    "lengtesB = []\n",
    "for x in artikellijst:\n",
    "    if len(articles[x]) > 1:\n",
    "        lengtesB.append(len(articles[x]))\n",
    "        \n",
    "print (max(lengtesB))\n",
    "plt.hist(lengtesB, bins=np.arange(80), histtype='step', linewidth=1);"
   ]
  },
  {
   "cell_type": "code",
   "execution_count": 112,
   "metadata": {
    "collapsed": true
   },
   "outputs": [],
   "source": [
    "from scipy import stats\n",
    "\n",
    "def lognorm_model(x, amplitude, mu, sigma):\n",
    "    return amplitude * stats.lognorm.pdf(x, scale=np.exp(mu), s=sigma)\n",
    "\n",
    "x = np.linspace(0, 100, 1000)\n",
    "#plt.plot(x, lognorm_model(x, 1000, 3.5, 0.7));"
   ]
  },
  {
   "cell_type": "code",
   "execution_count": 113,
   "metadata": {
    "collapsed": true
   },
   "outputs": [],
   "source": [
    "def hist_linelengths(lengths, ax):\n",
    "    \"\"\"Plot a histogram of lengths of unique lines in the given module\"\"\"\n",
    "    \n",
    "    h = ax.hist(lengths, bins=np.arange(80) + 0.5, histtype='step', linewidth=1.5)\n",
    "    #ax.axvline(x=100, linestyle=':', color='black')\n",
    "    ax.set(xlim=(1, 80),\n",
    "           ylim=(0, None),\n",
    "           xlabel='number of lines',\n",
    "           ylabel='number of pages')\n",
    "    return h\n",
    "#count, bins, _ = hist_linelengths(lengtes, ax=plt.axes())"
   ]
  },
  {
   "cell_type": "code",
   "execution_count": 114,
   "metadata": {},
   "outputs": [
    {
     "name": "stdout",
     "output_type": "stream",
     "text": [
      "optimal parameters: [  6.75898867e+04   2.66987082e+00   1.09422946e+00]\n"
     ]
    },
    {
     "data": {
      "image/png": "[encoded data removed]",
      "text/plain": [
       "<matplotlib.figure.Figure at 0x1a1bec5e80>"
      ]
     },
     "metadata": {},
     "output_type": "display_data"
    }
   ],
   "source": [
    "from scipy import optimize\n",
    "\n",
    "counts, bins, _ = hist_linelengths(lengtesB, ax=plt.axes())\n",
    "lengths = 0.5 * (bins[:-1] + bins[1:])\n",
    "\n",
    "def minfunc(theta, lengths, counts):\n",
    "    return np.sum((counts - lognorm_model(lengths, *theta)) ** 2)\n",
    "\n",
    "opt = optimize.minimize(minfunc, x0=[10000, 4, 1],\n",
    "                        args=(lengths[:50], counts[:50]),\n",
    "                        method='Nelder-Mead')\n",
    "print(\"optimal parameters:\", opt.x)\n",
    "\n",
    "plt.fill_between(lengths, lognorm_model(lengths, *opt.x), alpha=0.3, color='gray');"
   ]
  },
  {
   "cell_type": "markdown",
   "metadata": {},
   "source": [
    "# 4C"
   ]
  },
  {
   "cell_type": "code",
   "execution_count": 115,
   "metadata": {},
   "outputs": [
    {
     "data": {
      "image/png": "[encoded data removed]",
      "text/plain": [
       "<matplotlib.figure.Figure at 0x1a47239d30>"
      ]
     },
     "metadata": {},
     "output_type": "display_data"
    }
   ],
   "source": [
    "lengtesC = []\n",
    "for x in artikellijst:\n",
    "    pagina = 0\n",
    "    for y in articles[x]:\n",
    "        pagina += len(y)\n",
    "    if pagina > 100:\n",
    "        lengtesC.append(pagina)\n",
    "plt.hist(lengtesC, bins=np.arange(10000), histtype='step', linewidth=1);"
   ]
  },
  {
   "cell_type": "markdown",
   "metadata": {},
   "source": [
    "# Explanation\n",
    "\n",
    "We started with organizing and cleaning the wikipedia file. To organise the file we put the title and the content of every wikipedia pages in a dict and we cleaned the dataset by using beautifulsoup and removing outliners that do not make sense. We removed a lot of characters and lines that did not make any sense or did not contain anything. We splitted the sentences and only selected the lines that contained more than a few characters because lines with less than 3 characters do not contain any information. In our opinion we balanced the cleaning quite right, we did remove a lot, but we did not remove too much. The file does look a lot better now, it is not 100% cleaned but that is quite difficult to achieve.\n",
    "\n",
    "\n",
    "## 4A\n",
    "Then we used a histogram to show the distribution of line lengths on the Dutch Wikipedia (measured in number of characters) and we fitted it with a normal distribution. As seen at 4A, the line length of the dutch wikipedia does look very similar to a normal distribution. The x-axis shows the number of characters and the Y-axis the number of lines\n",
    "\n",
    "### 4B\n",
    "\n",
    "At 4B we made a distribution of article (called pages in the dump) lengths on the Dutch Wikipedia (measured in number of lines). As you can see the distribution is almost a perfect normal distribution. So that means that the Weber-Fechner law that Jake discussed does indeed correspond with this distrubion. The x-axis shows the number of lines and the y-axis shows the number of pages.\n",
    "\n",
    "\n",
    "## 4C\n",
    "At 4C we made distribution of article (called pages in the dump) lengths on the Dutch Wikipedia (measured in number of characters). If you imagine a normal distribution in your head, then this graph fill follow it quite nicely. We did get an error trying to fit the graph with a normal distribution so we decided we'd show it without because the results can still be interpreted the same way. The x-axis shows the number of lines and the y-axis the number of characters.\n",
    "\n",
    "Overal this shows that literature on message lengths on the internet and Jake van der plas are both right. Our graphs also show a clear normal distribution. But we used more than 50 characters to find these statistics."
   ]
  },
  {
   "cell_type": "code",
   "execution_count": null,
   "metadata": {
    "collapsed": true
   },
   "outputs": [],
   "source": []
  }
 ],
 "metadata": {
  "anaconda-cloud": {},
  "celltoolbar": "Slideshow",
  "kernelspec": {
   "display_name": "Python 3",
   "language": "python",
   "name": "python3"
  },
  "language_info": {
   "codemirror_mode": {
    "name": "ipython",
    "version": 3
   },
   "file_extension": ".py",
   "mimetype": "text/x-python",
   "name": "python",
   "nbconvert_exporter": "python",
   "pygments_lexer": "ipython3",
   "version": "3.6.3"
  }
 },
 "nbformat": 4,
 "nbformat_minor": 1
}
