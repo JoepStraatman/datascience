{
 "cells": [
  {
   "cell_type": "markdown",
   "metadata": {
    "slideshow": {
     "slide_type": "slide"
    }
   },
   "source": [
    "#  Assignment 6\n",
    "\n",
    "## Notebook made by  \n",
    "\n",
    "|** Name** | **Student id** | **email**|\n",
    "|: |:-|:-|\n",
    "|Hidde de Haan |11028564 |Hiddedehaan@hotmail.com |\n",
    "|Joep Straatman |11035307 |Straatmanjoep@gmail.com |\n",
    "|  | |. |\n",
    "\n",
    "\n",
    "\n",
    "### Pledge (taken from [Coursera's Honor Code](https://www.coursera.org/about/terms/honorcode) )\n",
    "\n",
    "\n",
    "\n",
    "Put here a selfie with your photo where you hold a signed paper with the following text: (if this is team work, put two selfies here). The link must be to some place on the web, not to a local file. \n",
    "\n",
    "> My answers to homework, quizzes and exams will be my own work (except for assignments that explicitly permit collaboration).\n",
    "\n",
    ">I will not make solutions to homework, quizzes or exams available to anyone else. This includes both solutions written by me, as well as any official solutions provided by the course staff.\n",
    "\n",
    ">I will not engage in any other activities that will dishonestly improve my results or dishonestly improve/hurt the results of others.\n",
    "\n",
    "<img src='http://i.imgur.com/3GMiSMB.jpg'/>\n",
    "\n",
    "### Note\n",
    "* **Assignments without the selfies or completely filled in information will not be graded and receive 0 points.**\n"
   ]
  },
  {
   "cell_type": "markdown",
   "metadata": {
    "slideshow": {
     "slide_type": "slide"
    }
   },
   "source": [
    "# Uitkomst\n",
    "\n",
    "In deze opdracht maken we de data netjes klaar  voor dit plaatje (uit een artikel in Vrij Nederland):\n",
    "\n",
    "<img src='http://politicalmashup.nl/uploads/2016/04/VN-interrupties_V3.png'/>"
   ]
  },
  {
   "cell_type": "markdown",
   "metadata": {
    "slideshow": {
     "slide_type": "slide"
    }
   },
   "source": [
    "# XML opdracht\n",
    "\n",
    "* We gaan bekijken hoe vaak Wilders onderbroken wordt in de Tweede Kamer en door wie.\n",
    "* Als input files hebben we de Handelingen van de Tweede Kamer in keurig XML formaat.\n",
    "* Je kunt die bekijken op [overheid.nl](https://zoek.officielebekendmakingen.nl/zoeken/resultaat?zkt=Uitgebreid&pst=ParlementaireDocumenten&vrt=opening&zkd=AlleenInDeTitel&dpr=AnderePeriode&spd=20140101&epd=20160930&kmr=TweedeKamerderStatenGeneraal&sdt=KenmerkendeDatum&par=Handeling&dst=Onopgemaakt%7cOpgemaakt%7cOpgemaakt+na+onopgemaakt&isp=true&pnr=1&rpp=10)\n",
    "\n",
    "* Jouw taak is code te schrijven die 2 dingen doet:\n",
    "\n",
    "\n",
    "### Data voor de opdracht\n",
    "\n",
    "<http://maartenmarx.nl/teaching/DataScience/Data/WildersXMLassignment>\n",
    "\n",
    "## Taak 1\n",
    "Maak uit de XML bestanden in `TK_Handelingen_2013-2016.zip`  een bestand `interrupties.csv` met de volgende soort data: de kolommen zijn\n",
    "`'date','termijn','spreker','rol','indegree','aantal_interrupts','interruptors','interruptie_volgorde','OnderwerpDebat','url'` en dit is een voorbeeld.\n",
    "   \n",
    "    \n",
    "```\n",
    "20122013-10-15,1,Recourt,De heer,3,8,Van Raak-Van Raak-Van Raak-Pechtold-Pechtold-Pechtold-Van Ojik-Van Ojik,Begroting Algemene Zaken en begroting van de Koning,https://zoek.officielebekendmakingen.nl/h-tk-20122013-10-15.html \n",
    "20122013-10-15,1,Van der Burg,Mevrouw,2,6,Thieme-Thieme-Pechtold-Pechtold-Pechtold-Pechtold,Begroting Algemene Zaken en begroting van de Koning,https://zoek.officielebekendmakingen.nl/h-tk-20122013-10-15.html \n",
    "20122013-10-15,1,Bosma,De heer,0,0,,Begroting Algemene Zaken en begroting van de Koning,https://zoek.officielebekendmakingen.nl/h-tk-20122013-10-15.html \n",
    "20122013-10-15,1,Van Toorenburg,Mevrouw,2,5,Pechtold-Pechtold-Pechtold-Bosma-Bosma,Begroting Algemene Zaken en begroting van de Koning,https://zoek.officielebekendmakingen.nl/h-tk-20122013-10-15.html \n",
    "20122013-10-15,1,Van Raak,De heer,2,6,Recourt-Van der Burg-Van der Burg-Van der Burg-Recourt-Recourt,Begroting Algemene Zaken en begroting van de Koning,https://zoek.officielebekendmakingen.nl/h-tk-20122013-10-15.html \n",
    "```\n",
    "* `termijn` is een integer dat de keer in het debat aangeeft dat de spreker vanaf het spreekgestoelte de zaal toespreekt. In de Kamer spreekt men van \"eerste termijn\" en \"tweede termijn\".\n",
    "* `indegree` betekent hier het aantal mensen dat `spreker` onderbroken heeft. `aantal_interrupts` is het totaal aantal keer dat een spreker onderbroken is.\n",
    "* Let op, de `date` kolom bevat niet echt een datum, maar is gemaakt van de filenaam: het is dus de periode, gevolgd door de hoeveelste vergadering in die periode, gevolgd het hoeveelste debat in die vergadering. \n",
    "* Let op, de filenamen zijn net ietsje anders dan deze waardes. Op deze manier is een eenvoudige sort voldoende om ze netjes chronologisch te krijgen.\n",
    "\n",
    "#### Let op\n",
    "Je zal zelf moeten uitvogelen hoe interrupties en sprekers etc in de XML zijn gecodeerd. Doe dit door de PDFs en HTML te bekijken, en desnoods een video van een debat. \n",
    "    \n",
    "## Taak 2\n",
    "\n",
    "Maak uit `interrupties.csv` met Pandas een dataframe wat er net zo uitziet als `Interruptors_van_Wilders.csv `.\n",
    "Die staat ook op <https://docs.google.com/spreadsheets/d/1PCOMeKV4-Y6_hZnN0o7-HxmrwSVLcP-ZP9vQK0DFLP8/edit#gid=49831024>\n",
    "\n",
    "\n",
    "## Taak 3\n",
    "\n",
    "* Plot het aantal interrupties van Wilders per debat samen met het gemiddeld aantal interrupties in dat debat.\n",
    "    * Zet de \"datums\" op de x-as, en gebruik alleen die debatten waarin Wilders ook echt gesproken heeft. \n",
    "\n",
    "\n",
    "<hr/>\n",
    "\n",
    "# Taak 4 is optioneel in 2018. Je kunt hem  doen voor je miniproject.\n",
    "\n",
    "## Taak 4\n",
    "* Verzin zelf iets bijzonders/geks/leuks met deze data, leg uit wat het betekent,  en laat je resultaat grafisch zien.\n",
    "* Verbind je onderzoeksvraag met de literatuur. \n",
    "* Je **moet** iets met tekst gaan doen. Je kunt met mutual information gaan spelen, met pos tagging, met sentiment analyse, met weet ik veel. \n",
    "\n",
    "#### Hier ben je heel vrij.\n",
    "\n",
    "Je kunt van alles doen. Dingen gaan tellen, maar allicht ook iets met de gesproken woorden doen. Wat suggesties:\n",
    "\n",
    "* Zeggen mannen andere dingen dan vrouwen? \n",
    "* Debatteren vrouwen anders dan mannen?  \n",
    "* Vind de \"stopwoordjes\" van elke politicus.\n",
    "* IR-achtig: maak een model van elke politicus op basis van de woorden die zij heeft gezegd, en\n",
    "kijk dan (bijvoorbeeld met cosine-similarity) wie er veel op elkaar lijken.\n",
    "* Maak een netwerk van politici en laat zien wie er belangrijk is.\n",
    "* Bepaal het sentiment van politici, debatten, onderwerpen, ....\n",
    "\n",
    "\n",
    "\n",
    "# Let op\n",
    "\n",
    "* Maak je code zo dat **Wilders** een variabele wordt die aan het begin wordt gezet.\n",
    "* In jouw code moet ik die variabele kunnen vervangen door **Pechtold** of **Samson** of wie dan ook, dezelfde analyses uit taken 2-4 kunnen doen. "
   ]
  },
  {
   "cell_type": "markdown",
   "metadata": {
    "collapsed": true
   },
   "source": [
    "## Taak 1\n",
    "Maak uit de XML bestanden in TK_Handelingen_2013-2016.zip een bestand interrupties.csv met de volgende soort data: de kolommen zijn 'date','termijn','spreker','rol','indegree','aantal_interrupts','interruptors','interruptie_volgorde','OnderwerpDebat','url' en dit is een voorbeeld"
   ]
  },
  {
   "cell_type": "markdown",
   "metadata": {},
   "source": [
    "# voorbeeld\n",
    "    date                 : 20122013-10-15\n",
    "    termijn              : 1\n",
    "    spreker              : Recourt\n",
    "    rol                  : De heer\n",
    "    indegree             : 3\n",
    "    aantal_interrupts    : 8\n",
    "    interruptors         : Van Raak-Van Raak-Van Raak-Pechtold-Pechtold-Pechtold-Van Ojik-Van Ojik\n",
    "    interruptie_volgorde : \n",
    "    OnderwerpDebat       : Begroting Algemene Zaken en begroting van de Koning\n",
    "    url                  : https://zoek.officielebekendmakingen.nl/h-tk-20122013-10-15.html "
   ]
  },
  {
   "cell_type": "code",
   "execution_count": 43,
   "metadata": {
    "collapsed": true
   },
   "outputs": [],
   "source": [
    "import os\n",
    "from zipfile import ZipFile\n",
    "import glob\n",
    "from bs4 import BeautifulSoup\n",
    "import re"
   ]
  },
  {
   "cell_type": "code",
   "execution_count": 27,
   "metadata": {},
   "outputs": [],
   "source": [
    "filezip = '../TK_Handelingen_2013-2016.zip'\n",
    "if not os.path.exists(\"../handelingen\"):\n",
    "    os.makedirs(\"../handelingen\")\n",
    "    \n",
    "    thefile = ZipFile(filezip)\n",
    "    thefile.extractall(\"../handelingen\")\n",
    "    thefile.close()\n",
    "    \n",
    "locatie = '../handelingen/Wilders2014/'"
   ]
  },
  {
   "cell_type": "code",
   "execution_count": 77,
   "metadata": {},
   "outputs": [
    {
     "name": "stderr",
     "output_type": "stream",
     "text": [
      "C:\\Users\\joeps\\Anaconda3\\lib\\site-packages\\bs4\\__init__.py:181: UserWarning: No parser was explicitly specified, so I'm using the best available HTML parser for this system (\"lxml\"). This usually isn't a problem, but if you run this code on another system, or in a different virtual environment, it may use a different parser and behave differently.\n",
      "\n",
      "The code that caused this warning is on line 193 of the file C:\\Users\\joeps\\Anaconda3\\lib\\runpy.py. To get rid of this warning, change code that looks like this:\n",
      "\n",
      " BeautifulSoup(YOUR_MARKUP})\n",
      "\n",
      "to this:\n",
      "\n",
      " BeautifulSoup(YOUR_MARKUP, \"lxml\")\n",
      "\n",
      "  markup_type=markup_type))\n"
     ]
    },
    {
     "name": "stdout",
     "output_type": "stream",
     "text": [
      "Wall time: 1.1 s\n"
     ]
    },
    {
     "data": {
      "text/plain": [
       "{'20122013-1-1': '1e vergadering',\n",
       " '20122013-1-2': 'Mededelingen',\n",
       " '20122013-1-3': 'Begroting 2013',\n",
       " '20122013-1-4': 'Regeling van werkzaamheden',\n",
       " '20122013-10-1': '10e vergadering',\n",
       " '20122013-10-10': 'Stemmingen Postwet',\n",
       " '20122013-10-11': 'Stemmingen ontslagen sociale werkplaatsen',\n",
       " '20122013-10-12': 'Stemmingen Beperkingengebied buitenlandse luchthaven',\n",
       " '20122013-10-13': 'Stemmingen algemene financiële beschouwingen',\n",
       " '20122013-10-14': 'Stemmingen Subsidiariteitstoets veiligheid motorvoertuigen',\n",
       " '20122013-10-15': 'Begroting Algemene Zaken en begroting van de Koning',\n",
       " '20122013-10-16': 'Openbare lichamen Bonaire, Sint Eustatius en Saba',\n",
       " '20122013-10-17': 'Ingekomen stukken',\n",
       " '20122013-10-2': 'Vragenuur',\n",
       " '20122013-10-3': 'Vragenuur',\n",
       " '20122013-10-4': 'Vragenuur',\n",
       " '20122013-10-5': 'Vragenuur',\n",
       " '20122013-10-6': 'Vragenuur',\n",
       " '20122013-10-7': 'Mededelingen',\n",
       " '20122013-10-8': 'Regeling van werkzaamheden',\n",
       " '20122013-10-9': 'Stemmingen Wet schadeloosstelling',\n",
       " '20122013-100-1': '100e vergadering',\n",
       " '20122013-100-10': 'Ingekomen stukken',\n",
       " '20122013-100-2': 'Mededelingen',\n",
       " '20122013-100-3': 'Aanbevelingen Europese Commissie extra bezuinigingen',\n",
       " '20122013-100-4': 'Mededelingen',\n",
       " '20122013-100-5': 'Regeling van werkzaamheden',\n",
       " '20122013-100-6': 'Aanbevelingen Europese Commissie bezuinigingen',\n",
       " '20122013-100-7': 'Agenda Europese top',\n",
       " '20122013-100-8': 'Stemmingen moties Europese Top',\n",
       " '20122013-100-9': 'Sluiting',\n",
       " '20122013-101-1': '101e vergadering',\n",
       " '20122013-101-10': 'Verzoekschriften',\n",
       " '20122013-101-11': 'Initiatiefvoorstel Huis voor klokkenluiders',\n",
       " '20122013-101-12': 'Schulden- en armoedebeleid',\n",
       " '20122013-101-13': 'Vreemdelingen- en asielbeleid',\n",
       " '20122013-101-14': 'Nieuwe Masterplan DJI 2013-2018',\n",
       " '20122013-101-15': 'Sluiting',\n",
       " '20122013-101-16': 'Ingekomen stukken',\n",
       " '20122013-101-2': 'Mededelingen',\n",
       " '20122013-101-3': 'Regeling van werkzaamheden',\n",
       " '20122013-101-4': 'Rapport tijdelijke commissie Huizenprijzen',\n",
       " '20122013-101-5': 'Mededelingen',\n",
       " '20122013-101-6': 'Regeling van werkzaamheden',\n",
       " '20122013-101-7': 'Stemmingen Verlaging maximumopbouw- en premiepercentages pensioen',\n",
       " '20122013-101-8': 'Stemmingen Pensioenaanvullingsregelingen',\n",
       " '20122013-101-9': 'Hamerstukken',\n",
       " '20122013-102-1': '102e vergadering',\n",
       " '20122013-102-10': 'Stemmingen Raming Tweede Kamer',\n",
       " '20122013-102-11': 'Stemming aangehouden motie Grote Merenregio',\n",
       " '20122013-102-12': 'Stemming motie Emancipatiebeleid',\n",
       " '20122013-102-13': 'Stemming motie Luchtvaart',\n",
       " '20122013-102-14': 'Stemmingen moties Windenergie op land',\n",
       " '20122013-102-15': 'Stemmingen moties Gezondheidsaspecten leefomgeving',\n",
       " '20122013-102-16': 'Stemmingen moties Leefomgeving',\n",
       " '20122013-102-17': 'Stemmingen moties Mogelijke sluiting havo-vwo-afdelingen onderbouw van vmbo-scholen',\n",
       " '20122013-102-18': 'Stemmingen moties Wijziging Mediawet 2008 stelsel publieke omroep',\n",
       " '20122013-102-19': 'Stemmingen Wijziging Mediawet 2008 stelsel publieke omroep',\n",
       " '20122013-102-2': 'Vragenuur: Vragen Leijten',\n",
       " '20122013-102-20': 'Stemmingen moties aanbevelingen Europese commissie bezuinigingen',\n",
       " '20122013-102-21': 'Stemming motie rapport Parlementair onderzoek \"Huizenprijzen\"',\n",
       " '20122013-102-22': 'Stemmingen moties Armoede- en schuldenbeleid',\n",
       " '20122013-102-23': 'Stemmingen moties Vreemdelingen- en asielbeleid',\n",
       " '20122013-102-24': 'Stemmingen moties nieuwe masterplan DJI',\n",
       " '20122013-102-25': 'Stemmingen Brief EU teeltmateriaal',\n",
       " '20122013-102-26': 'Stemmingen Brief EU markttoegang voor havendiensten',\n",
       " '20122013-102-27': 'Stemmingen Brief EU netwerk- en informatiebeveiliging in de Unie',\n",
       " '20122013-102-28': 'Stemmingen Brief Presidium tijdelijke commissie Fyra',\n",
       " '20122013-102-29': 'Stemming aangehouden motie JBZ-Raad van 6 en 7 juni',\n",
       " '20122013-102-3': 'Vragenuur: Vragen De Rouwe',\n",
       " '20122013-102-30': 'Stemmingen moties Jaarverslag ministerie van Veiligheid en Justitie 2012',\n",
       " '20122013-102-31': 'Stemmingen moties Jaarverslag ministerie van Economische Zaken 2012',\n",
       " '20122013-102-32': 'Stemming motie Beleidsnota \"Wat de wereld verdient: een nieuwe agenda voor hulp, handel en investeringen\"',\n",
       " '20122013-102-33': 'Verslag Europese top',\n",
       " '20122013-102-34': 'Naleving Handboek voor aantredende bewindspersonen',\n",
       " '20122013-102-35': 'GGZ',\n",
       " '20122013-102-36': 'Wet kwaliteit, klachten en geschillen zorg',\n",
       " '20122013-102-37': 'Sluiting',\n",
       " '20122013-102-38': 'Ingekomen stukken',\n",
       " '20122013-102-4': 'Vragenuur: Vragen Van Weyenberg',\n",
       " '20122013-102-5': 'Vragenuur: Vragen Bisschop',\n",
       " '20122013-102-6': 'Vragenuur: Vragen Sjoerdsma',\n",
       " '20122013-102-7': 'Mededelingen',\n",
       " '20122013-102-8': 'Regeling van werkzaamheden',\n",
       " '20122013-102-9': 'Stemmingen moties raming Tweede Kamer',\n",
       " '20122013-103-1': '103e vergadering',\n",
       " '20122013-103-10': 'Cultuuronderwerpen',\n",
       " '20122013-103-11': 'Mededelingen',\n",
       " '20122013-103-12': 'Regeling van werkzaamheden',\n",
       " '20122013-103-13': 'Online betalingsverkeer',\n",
       " '20122013-103-14': 'Voorjaarsnota 2013',\n",
       " '20122013-103-15': 'Verplicht schatkistbankieren',\n",
       " '20122013-103-16': 'Sluiting',\n",
       " '20122013-103-17': 'Ingekomen stukken',\n",
       " '20122013-103-2': 'Mededelingen',\n",
       " '20122013-103-3': 'Biotechnologie',\n",
       " '20122013-103-4': 'Visserij',\n",
       " '20122013-103-5': 'Ganzenbeleid',\n",
       " '20122013-103-6': 'Invulling van de subsidietaakstelling onderwijs en onderzoek',\n",
       " '20122013-103-7': 'Zorgverzekeringswet, Pakketmaatregelen en Ruwaard van Putten ziekenhuis'}"
      ]
     },
     "execution_count": 77,
     "metadata": {},
     "output_type": "execute_result"
    }
   ],
   "source": [
    "total = {}\n",
    "def Taak_1(maplocation, teller):\n",
    "    num = 0\n",
    "    dedict = {}\n",
    "    for file in glob.glob(os.path.join(maplocation, '*.xml')):\n",
    "        if num in teller:\n",
    "    \n",
    "            fileindex = os.path.basename(file).replace('.xml', '')[5:]\n",
    "            with open(file, encoding=\"utf8\") as f:\n",
    "                text = BeautifulSoup(f.read())\n",
    "                #print (text)\n",
    "                onderwerp = text.findAll('item-titel')\n",
    "                #print (re.findall(r\"(\\\\n){5,6}\\d*\\\\n(.+?)\\\\n\",text.get_text()))\n",
    "                if onderwerp:\n",
    "                    \n",
    "                    dedict[fileindex] = onderwerp[0].text\n",
    "                else:\n",
    "                    onderwerp = text.findAll('vergadering-nummer')\n",
    "                    dedict[fileindex] = onderwerp[0].text\n",
    "                \n",
    "                total[fileindex] = text.get_text() #test code\n",
    "            \n",
    "        num += 1\n",
    "    return dedict\n",
    "%time Taak_1(locatie,set(range(100)))"
   ]
  },
  {
   "cell_type": "code",
   "execution_count": 52,
   "metadata": {},
   "outputs": [
    {
     "data": {
      "text/plain": [
       "\"\\n\\n\\n\\n\\n\\n3\\nBegroting 2013\\n\\nAan de orde is de aanbieding van de begroting voor het jaar 2013.\\n\\n\\n\\nDe\\n\\nvoorzitter\\n:\\n\\nIk geef het woord aan de minister van Financiën.\\n\\n\\n\\n\\nMinister\\n\\nDe Jager\\n:\\n\\n\\nMevrouw de voorzitter. Het is deze maand precies vier jaar geleden dat in de Verenigde Staten de financiële wereld onderuitging. De crisis die daarop volgde, wil maar niet wijken. Er waren de afgelopen jaren wel periodes die rustiger leken. Dan kregen we hoop dat het voorbij was, maar steeds stuwde de gure financiële en economische tegenwind het water weer hoog tegen de dijken op. Uit internationale vergelijkingen blijkt dat we het nog altijd beter hebben dan de meeste mensen in de wereld, maar de gevoelstemperatuur ligt een stuk lager. Mensen maken zich terecht zorgen over hun baan, over de haperende woningmarkt en over de omzet van hun bedrijf. Nederland zal de komende jaren dan ook een flinke slag moeten leveren om de welvaart te behouden en de rust te laten terugkeren.\\nVorig jaar sprak ik op Prinsjesdag over een nieuwe storm die vanuit Europa opstak. Het gat dat de vorige recessie in de overheidsfinanciën sloeg, was nog niet gedicht of de volgende tijdelijke neergang stond al voor de deur. En nog altijd is het zeer onrustig, want de internationale economie en ons mondiale financiële stelsel vertonen aanhoudend grote onzekerheden. De groeiverwachtingen voor de komende jaren zijn gematigd. Nederland heeft een open economie. Dat maakt ons land gevoelig voor ontwikkelingen in de wereld. Opkomende economieën als China, Brazilië en India houden de stijgende lijn nog wel behoorlijk vast, maar de Verenigde Staten lopen vertraging op.\\nEuropa is en blijft belangrijk voor ons. Nederland is de toegangspoort tot Europa. Zelfs nu profiteren we van de export, maar tegelijkertijd drukt de worsteling binnen de eurozone als een zware last op onze schouders.\\nDe vergrijzing speelt ook een rol. Onze beroepsbevolking krimpt de komende jaren. We moeten daarom rekening houden met een langzamer economisch tempo. De inkomsten van de overheid gaan dan ook omlaag. Dat staat haaks op hoge en stijgende uitgaven, want ons uitgavenpatroon is nog altijd gebaseerd op de groeicijfers die we rond het jaar 2000 hadden. Tel dat allemaal maar bij elkaar op: minder inkomsten, te hoge uitgaven, grote risico's. De uitkomst daarvan kan alleen maar zijn dat veranderingen onontkoombaar zijn, want niemand kan op den duur meer blijven uitgeven dan er binnenkomt.\\nDe kredietcrisis en de schuldencrisis hebben de economie en de overheidsfinanciën geraakt, zoals aanhoudend hoog water de dijken aantast. Reparatie en versterking daarvan verdragen geen uitstel. Om beter bestand te zijn tegen een eventuele volgende schok in de economie moet het begrotingstekort omlaag en moet er worden hervormd, want alleen daarmee kunnen we de veerkracht van Nederland vergroten. De afgelopen jaren is de overheid een aantal malen financieel bijgesprongen, maar de overheid kan geen permanent vangnet zijn voor de hele economie. Onze economie moet juist op eigen kracht een opnieuw aanwakkerende wind kunnen weerstaan. Dat is een voorwaarde voor structureel gezonde overheidsfinanciën. Dan kunnen we ook in de toekomst zieken de zorg geven die ze nodig hebben. Dan kunnen jonge mensen op school en op de universiteit hun talenten blijven ontwikkelen.\\nDan houden we Nederland hoog als een van de beste plekken op de aardbol om te wonen, om te werken en om te leven.\\nMaar zoals gezegd: dat gaat niet vanzelf. Nadat Nederland in 2011 voor de tweede keer in een recessie belandde, was er deze lente een extra krachtsinspanning nodig. Na het mislukken van de Catshuisbespreking hebben VVD, CDA, D66, GroenLinks en ChristenUnie een dijkdoorbraak helpen voorkomen. Gezonde overheidsfinanciën als onderdeel van een schokbestendige en veerkrachtige economie waren het uitgangspunt van het begrotingsakkoord. Dat akkoord is de basis van de Miljoenennota 2013; we moderniseren de arbeidsmarkt, we verhogen de pensioenleeftijd en we hervormen de woningmarkt. Met dat extra pakket van ruim 12 miljard euro brengen we het tekort terug tot 2,7%, ruim onder de grens van 3%. Daarmee is al veel bereikt, maar we zijn er nog niet. Zoals ik vorig jaar ook al benadrukte: we gaan het allemaal voelen.\\nIk ben mij er goed van bewust dat het nu niet aan mij is om in te vullen wat er de komende jaren precies gaat gebeuren. De bal ligt primair in de Kamer en bij het nieuw te vormen kabinet, maar ik schets nog een keer de harde werkelijkheid. We brengen het tekort terug van 3,8% dit jaar naar 2,7% volgend jaar, maar ook met de maatregelen uit het begrotingsakkoord geeft de overheid volgend jaar nog elke dag 46 miljoen euro meer uit dan er binnenkomt. Met andere woorden: onze dijken hebben het gehouden maar de kustversterking is nog niet klaar.\\nHet demissionaire kabinet heeft voor zijn opvolger een analyse gemaakt van de kwetsbaarheden, de kwetsbaarheden in eigen land maar ook die in Europa. De overheidsfinanciën, de financiële sector, de huishoudens en het bedrijfsleven. De afgelopen tijd is er al veel gebeurd om Nederland schokbestendiger en veerkrachtiger te maken. In deze Miljoenennota staat ook welke er nog liggen voor een volgend kabinet, want de storm is nog niet geluwd en er moet nog veel werk worden verzet om ons land in alle opzichten hoog en droog te houden. Maar daar zijn wij Nederlanders heel goed in.\\nMevrouw de voorzitter. Ik heb nog een laatste punt. Dit is voor een minister van Financiën natuurlijk een uitgelezen moment om met iets nieuws te komen. Zo laat je zien dat je weet waar de moderne tijd om vraagt, om slimme en goed doordachte oplossingen. Ik ga zo meteen de Miljoenennota 2013 en alle andere begrotingsstukken en de Prinsjesdagstukken tevoorschijn halen om aan u te overhandigen. Dat is een van de mooiste tradities van dit land, een traditie die we uiteraard in ere houden. Maar ik voeg er vandaag nog iets aan toe. In het beroemde prachtige Prinsjesdagkoffertje zit vandaag ook een Prinsjesdagtablet.\\n\\n\\n\\n\\n(applaus en geroffel op de bankjes)\\n\\n\\n\\nMinister\\n\\nDe Jager\\n:\\n\\n\\nZodra u de rijksbegrotingsstukken in ontvangst hebt genomen – u krijgt ze eerst – zet ik de digitale versie in één beweging online in de app Prinsjesdag 2012. Dat scheelt, zo is berekend – het past in de fact checker – zo'n 10.000 kilo aan drukwerk. En dat levert dus ook een besparing op, want alle beetjes helpen.\\nMevrouw de voorzitter. De begroting voor 2013 is op een bijzondere manier tot stand gekomen. De basis ervan is immers eind april in dit huis gelegd. Het zijn dagen en nachten waaraan ik met een zeer positief gevoel terugdenk. Het proces was vlot, doelgericht en open. Hieruit sprak een gedeeld gevoel van urgentie. U en uw Kamer maken zich nu op voor de wisseling van de wacht. Daarom wil ik de Kamer bedanken voor de goede samenwerking van de afgelopen jaren en u voor uw prettige voorzitterschap.\\nHet doet mij genoegen u nog eenmaal de begroting van het volgende jaar te kunnen aanbieden.\\n\\n\\n\\n\\n(applaus)\\n\\n\\n\\nDe\\n\\nvoorzitter\\n:\\n\\nGaat u de digitale versie nu online in de app zetten terwijl wij kijken? Ik merk dat het al is gebeurd. U leidde de aandacht dus af van de strik?\\n\\n\\n\\n\\nMinister\\n\\nDe Jager\\n:\\n\\nIk heb de stukken eerst aan u aangeboden en daarna heb ik dit gedaan.\\n\\n\\n\\n\\nDe\\n\\nvoorzitter\\n:\\n\\n\\nHet is een mooie nieuwe ontwikkeling!\\nIk dank de minister van Financiën. De behandeling van de begroting is aan de nieuwe Kamer.\\n\\n\\n\\n\\n\\n\""
      ]
     },
     "execution_count": 52,
     "metadata": {},
     "output_type": "execute_result"
    }
   ],
   "source": [
    "total['20122013-1-3']"
   ]
  },
  {
   "cell_type": "code",
   "execution_count": null,
   "metadata": {
    "collapsed": true
   },
   "outputs": [],
   "source": []
  },
  {
   "cell_type": "code",
   "execution_count": null,
   "metadata": {
    "collapsed": true
   },
   "outputs": [],
   "source": []
  }
 ],
 "metadata": {
  "celltoolbar": "Slideshow",
  "kernelspec": {
   "display_name": "Python 3",
   "language": "python",
   "name": "python3"
  },
  "language_info": {
   "codemirror_mode": {
    "name": "ipython",
    "version": 3
   },
   "file_extension": ".py",
   "mimetype": "text/x-python",
   "name": "python",
   "nbconvert_exporter": "python",
   "pygments_lexer": "ipython3",
   "version": "3.6.3"
  }
 },
 "nbformat": 4,
 "nbformat_minor": 1
}
