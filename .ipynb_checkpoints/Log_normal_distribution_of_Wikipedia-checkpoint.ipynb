{
 "cells": [
  {
   "cell_type": "markdown",
   "metadata": {},
   "source": [
    "# Log normal distribution of Wikipedia\n",
    "\n",
    "1. Read the article by Jake van der Plas about the [line lengths in Python modules](http://jakevdp.github.io/blog/2017/11/09/exploring-line-lengths-in-python-packages)\n",
    "2. Download [the  notebook](http://nbviewer.jupyter.org/url/jakevdp.github.io/downloads/notebooks/PEP8LineLengths.ipynb), and run it on your local copy of e.g., pandas.\n",
    "3. Now we will do a similar analysis on the Dutch Wikipedia. You can find mediawiki dumps on <https://dumps.wikimedia.org/nlwiki/latest/>. Look for files starting with `nlwiki-latest-pages-articles`. There is one big one containing the complete Wikipedia and several smaller ones containing parts. \n",
    "    * It is a good idea to start with the smallest one. That one is still quite large (e.g., the command `!bzcat $wikifile |wc -l` counting the number of lines in the file took 40 seconds on a MacBook)\n",
    "    * you may even start working with the first 10K lines in it or so. \n",
    "4. We are interested in the following things:\n",
    "    1. distribution of line lengths on the Dutch Wikipedia (measured in number of characters)\n",
    "    2. distribution of article (called pages in the dump) lengths on the Dutch Wikipedia (measured in number of lines)\n",
    "    3. distribution of article (called pages in the dump) lengths on the Dutch Wikipedia (measured  in number of characters)\n",
    "5. Your task is to find out if they follow a lognormal distribution, using the example code in the given blogpost. \n",
    "\n",
    "### Requirements\n",
    "\n",
    "1. Think about cleaning up HTML and possibly mediawiki code. And about removing non-functional whitespace.\n",
    "    * Describe what you did and provide a short evaluation of the quality of it. Did you remove all non-content code? Didn't you remove too much?\n",
    "2. Indicate in words how you managed to \"tokenize the file into Wikipedia articles\". \n",
    "3. Make plots which give insight and try to fit the lognormal distribution, and explain what is going on. \n",
    "4. Relate your findings to those of Jake van der Plas and possibly earlier work on lengths in statistical linguistics.\n",
    "\n",
    "### Hints\n",
    "\n",
    "It may be handy to use defaultdicts as follows:\n",
    "> `line_lengthdict= Counter(defaultdict(int)) # count for every length how often it occurs`\n",
    "in which you store for every length how many lines exist with that length.\n",
    "\n",
    "Below some example code to get you started"
   ]
  },
  {
   "cell_type": "code",
   "execution_count": 1,
   "metadata": {},
   "outputs": [],
   "source": [
    "import bz2\n",
    "from __future__ import division\n",
    "import codecs\n",
    "from bs4 import BeautifulSoup\n",
    "from collections import defaultdict, Counter\n",
    "import re\n",
    "import numpy as np\n",
    "import matplotlib.pyplot as plt\n",
    "import seaborn as sn\n",
    "import random\n",
    "%matplotlib inline"
   ]
  },
  {
   "cell_type": "code",
   "execution_count": 2,
   "metadata": {},
   "outputs": [
    {
     "name": "stderr",
     "output_type": "stream",
     "text": [
      "  % Total    % Received % Xferd  Average Speed   Time    Time     Time  Current\n",
      "                                 Dload  Upload   Total   Spent    Left  Speed\n",
      "\n",
      "  0     0    0     0    0     0      0      0 --:--:-- --:--:-- --:--:--     0\n",
      "  0     0    0     0    0     0      0      0 --:--:-- --:--:-- --:--:--     0\n",
      "curl: (60) SSL certificate problem: unable to get local issuer certificate\n",
      "More details here: http://curl.haxx.se/docs/sslcerts.html\n",
      "\n",
      "curl performs SSL certificate verification by default, using a \"bundle\"\n",
      " of Certificate Authority (CA) public keys (CA certs). If the default\n",
      " bundle file isn't adequate, you can specify an alternate file\n",
      " using the --cacert option.\n",
      "If this HTTPS server uses a certificate signed by a CA represented in\n",
      " the bundle, the certificate verification probably failed due to a\n",
      " problem with the certificate (it might be expired, or the name might\n",
      " not match the domain name in the URL).\n",
      "If you'd like to turn off curl's verification of the certificate, use\n",
      " the -k (or --insecure) option.\n"
     ]
    }
   ],
   "source": [
    "# collect data\n",
    "\n",
    "!curl https://dumps.wikimedia.org/nlwiki/latest/nlwiki-latest-pages-articles1.xml.bz2 > nlwiki_small.xml.bz2"
   ]
  },
  {
   "cell_type": "code",
   "execution_count": null,
   "metadata": {},
   "outputs": [],
   "source": [
    "# create a small piece of the file for inspection purposes\n",
    "ef =!bzcat $wikifile |head -10000\n",
    "len(ef),ef[:5]"
   ]
  },
  {
   "cell_type": "code",
   "execution_count": null,
   "metadata": {},
   "outputs": [],
   "source": [
    "# read the file line by line and count the number of lines and characters in the whole file\n",
    "\n",
    "\n",
    "wikifile= 'nlwiki_small.xml.bz2'\n",
    "with bz2.BZ2File(wikifile) as source_file:\n",
    "    l= 0\n",
    "    c=0\n",
    "    for line in  source_file:\n",
    "        l+=1\n",
    "        c+=len(line)\n",
    "        \n",
    "print (c,l, c/l)        "
   ]
  },
  {
   "cell_type": "code",
   "execution_count": null,
   "metadata": {},
   "outputs": [],
   "source": [
    "%time !bzcat $wikifile |wc "
   ]
  },
  {
   "cell_type": "code",
   "execution_count": null,
   "metadata": {
    "collapsed": true
   },
   "outputs": [],
   "source": [
    "!rm nlwiki_small.xml.bz2"
   ]
  },
  {
   "cell_type": "markdown",
   "metadata": {},
   "source": [
    "# Plotting distributions"
   ]
  },
  {
   "cell_type": "code",
   "execution_count": 47,
   "metadata": {},
   "outputs": [
    {
     "name": "stdout",
     "output_type": "stream",
     "text": [
      "10000 [  0.97417951  12.35409805   0.54929267   4.83381164   0.18645606]\n"
     ]
    },
    {
     "data": {
      "image/png": "[encoded data removed]",
      "text/plain": [
       "<matplotlib.figure.Figure at 0x1a148a8630>"
      ]
     },
     "metadata": {},
     "output_type": "display_data"
    }
   ],
   "source": [
    "x= np.random.lognormal(size=10000)  # take a random lognormally distributed distribution\n",
    "print(len(x),x[:5])\n",
    "\n",
    "sn.kdeplot(x); # or sn.distplot(x)"
   ]
  },
  {
   "cell_type": "code",
   "execution_count": 48,
   "metadata": {},
   "outputs": [
    {
     "data": {
      "image/png": "[encoded data removed]",
      "text/plain": [
       "<matplotlib.figure.Figure at 0x1a14d38e48>"
      ]
     },
     "metadata": {},
     "output_type": "display_data"
    }
   ],
   "source": [
    "sn.kdeplot(np.log(x));"
   ]
  },
  {
   "cell_type": "markdown",
   "metadata": {},
   "source": [
    "# Python 3 lists etc\n",
    "\n",
    "* In Python 3 many things which were lists in Python 2 aren't anymore. \n",
    "* The \"trick\" to apply Python 2 techniques is simply to apply the  `list()` function.\n",
    "* As an example"
   ]
  },
  {
   "cell_type": "code",
   "execution_count": null,
   "metadata": {},
   "outputs": [],
   "source": [
    "mydict= {1:'a', 2:'b'}\n",
    "my_values=mydict.values()\n",
    "print(my_values)\n",
    "\n",
    "# try my_values[0]"
   ]
  },
  {
   "cell_type": "code",
   "execution_count": null,
   "metadata": {},
   "outputs": [],
   "source": [
    "list(my_values)[0]"
   ]
  },
  {
   "cell_type": "code",
   "execution_count": null,
   "metadata": {},
   "outputs": [],
   "source": [
    "print(mydict.keys())\n",
    "#np.array(mydict.keys())*2  # gives an error\n",
    "\n",
    "\n",
    "np.array(list(mydict.keys())) *2"
   ]
  }
 ],
 "metadata": {
  "anaconda-cloud": {},
  "kernelspec": {
   "display_name": "Python 3",
   "language": "python",
   "name": "python3"
  },
  "language_info": {
   "codemirror_mode": {
    "name": "ipython",
    "version": 3
   },
   "file_extension": ".py",
   "mimetype": "text/x-python",
   "name": "python",
   "nbconvert_exporter": "python",
   "pygments_lexer": "ipython3",
   "version": "3.6.3"
  }
 },
 "nbformat": 4,
 "nbformat_minor": 2
}
