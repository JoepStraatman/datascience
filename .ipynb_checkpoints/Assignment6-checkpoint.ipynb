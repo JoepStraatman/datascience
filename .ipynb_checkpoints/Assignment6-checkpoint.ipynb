{
 "cells": [
  {
   "cell_type": "markdown",
   "metadata": {
    "slideshow": {
     "slide_type": "slide"
    }
   },
   "source": [
    "#  Assignment 4\n",
    "\n",
    "## Notebook made by  \n",
    "\n",
    "|** Name** | **Student id** | **email**|\n",
    "|:- |:-|:-|\n",
    "|. | | |\n",
    "|  | |. |\n",
    "\n",
    "### Pledge (taken from [Coursera's Honor Code](https://www.coursera.org/about/terms/honorcode) )\n",
    "\n",
    "\n",
    "\n",
    "Put here a selfie with your photo where you hold a signed paper with the following text: (if this is team work, put two selfies here). The link must be to some place on the web, not to a local file. \n",
    "\n",
    "> My answers to homework, quizzes and exams will be my own work (except for assignments that explicitly permit collaboration).\n",
    "\n",
    ">I will not make solutions to homework, quizzes or exams available to anyone else. This includes both solutions written by me, as well as any official solutions provided by the course staff.\n",
    "\n",
    ">I will not engage in any other activities that will dishonestly improve my results or dishonestly improve/hurt the results of others.\n",
    "\n",
    "<img src='link to your selfie'/>\n",
    "\n",
    "### Note\n",
    "* **Assignments without the selfies or completely filled in information will not be graded and receive 0 points.**\n"
   ]
  },
  {
   "cell_type": "markdown",
   "metadata": {
    "collapsed": true,
    "slideshow": {
     "slide_type": "slide"
    }
   },
   "source": [
    "# P1 Parsing wikipedia\n",
    "\n",
    "#### Hints: \n",
    "1. Gebruik de code uit `ParseWikipediaDump.ipynb` in de NoteBook folder.\n",
    "2. Ontwikkel voor opgave 2:\n",
    "    * eerst een versie met alleen pageid, titel en aantal woorden\n",
    "    * ontwikkel de \"sectie-extractor\" apart op een stukje test file\n",
    "    * voeg de sectie-extractor dan in je eerdere code in.\n",
    "\n",
    "\n",
    "#### Opgaven\n",
    "1. Haal de laatste NL wikipedia dump op van <https://dumps.wikimedia.org/nlwiki/20160111/>. **update: dit is van een eerder jaar. Verwijder de datum uit de URL, kijke wat je krijgt,  en klik op de laatste datum. Wij werken in 2017 met <https://dumps.wikimedia.org/nlwiki/20170301/>**  Je hebt de file <https://dumps.wikimedia.org/nlwiki/20160111/nlwiki-20160111-pages-articles.xml.bz2> nodig, maar kunt als je dat wat groot vindt eerst beginnen met <https://dumps.wikimedia.org/nlwiki/20160111/nlwiki-20160111-pages-articles1.xml.bz2>\n",
    "2. We gaan een dataframe maken met informatie over **elke** pagina in de NL wikipedia. Dit dataframe bevat voor elke pagina de volgende 4 kolommen:\n",
    "    1. page id (dit wordt de index)\n",
    "    2. titel van de pagina\n",
    "    3. het aantal secties  (dus geen subsecties en dergelijke)\n",
    "    4. een lijst met alle namen van de secties.\n",
    "    5. het aantal woorden op de pagina (geef duidelijk in woorden aan wat je hieronder verstaat).\n",
    "2. Gebuik `%time` om te timen hoe lang je programma er over doet. Zorg dat dit duidelijk in je notebook staat. Laat ook zien hoe groot je bestand is. \n",
    "    * aantal regels, aantal kolommen, aantal cellen met missende data. \n",
    "3. Sla dit dataframe op als pickle bestand. Laat met een commando (denk aan magics) zien hoe groot het is in een voor mensen leesbare eenheid (dus niet in Bytes als het meerdere Mb groot is.\n",
    "3. Sla je dataframe op als csv bestand en probeer het in te lezen in Word of Openoffice en in Google spreadsheets. Rapporteer exact wat er gebeurt.\n",
    "4. Maak een plot waarin je op de x-as het aantal secties zet en op de y-as het aantal paginas met zoveel secties. Zorg dat het goed leesbaar is door eventueel een log schaal te gebruiken.\n",
    "5. Bereken het gemiddeld aantal secties, de mediaan, en de standaard deviatie, en geef de titel van (een?) pagina met het maximale aantal secties, en geef dat maximale aantal natuurlijk. \n",
    "    * Hoeveel paginas hebben geen secties? \n",
    "    * Is dat dan een missing data (`NaN`) of `0`. Wat is eigenlijk het verschil?\n",
    "6. Plot het aantal secties tegen het aantal woorden en bereken de correlatie.\n",
    "7. Wat is het gemiddeld aantal woorden per sectie op NL Wikipedia?\n",
    "    * Geef eerst een sluitende definitie in woorden van dit begrip. En programmeer die dan. Wees niet te snel blij en klaar. Dit is nog best tricky. \n",
    "8. **Sectie namen**\n",
    "    1. Tel voor alle sectie titels hoe vaak ze voorkomen. Laat de top 10 meest voorkomende secties zien. \n",
    "    2. Plot de sectietitels (x-as) tegen hun count (y-as) in loglog style en ga na of dat min of meer een rechte lijn is. \n",
    "        * Zo ja, dan is dit hoogstwaarschijnlijk een _power law_ (ook wel _Zipf_-verdeling genoemd) verdeling.\n",
    "        * Kan je verklaren waarom sectietitels powerlaw verdeeld zijn?\n",
    "\n",
    "#### Hint\n",
    "* Denk na of de waarden die je vind ergens op slaan.\n",
    "* Het is echt niet voldoende dat je het commando `df.mean()` kent. Het is echt de bedoeling dat je nadenkt.\n",
    "\n",
    "#### Voorbeeld\n",
    "Voor <https://nl.wikipedia.org/wiki/Albert_Speer> ziet dit er (op dit moment van schrijven) als volgt uit:\n",
    "1. page id is $1$\n",
    "2. titel is _Albert Speer_\n",
    "3. Aantal secties is 12\n",
    "4. Sectie titels zijn (maar dan zonder de nummering)\n",
    "```\n",
    "1\tVoor 1933\n",
    "2\tIn dienst van Hitler\n",
    "3\tSpeer de organisator\n",
    "4\tHitlers laatste bevelen aan Speer\n",
    "5\tArrestatie en gevangenisstraf\n",
    "6\tSpeer als de 'nette nazi'\n",
    "7\tNalatenschap\n",
    "8\tHet einde van de mythe\n",
    "9\tWetenswaardig\n",
    "10\tPublicaties\n",
    "11\tLiteratuur\n",
    "12\tFilm\n",
    "```\n",
    "\n",
    "\n",
    " \n",
    "    \n",
    "    "
   ]
  },
  {
   "cell_type": "code",
   "execution_count": 1,
   "metadata": {
    "collapsed": true
   },
   "outputs": [],
   "source": [
    "%matplotlib inline\n",
    "import pandas as pd\n",
    "import numpy as np\n",
    "\n",
    "import re\n",
    "from lxml import etree \n",
    "from bz2file import BZ2File\n",
    "import codecs\n",
    "import nltk\n",
    "import pickle"
   ]
  },
  {
   "cell_type": "code",
   "execution_count": 2,
   "metadata": {
    "collapsed": true
   },
   "outputs": [],
   "source": [
    "file_klein = '../nlwiki-20180301-pages-articles1.xml.bz2'\n",
    "file_groot = ''\n",
    "reference_extractor=r'[^=]={2}([^=]{1,})=='"
   ]
  },
  {
   "cell_type": "code",
   "execution_count": 3,
   "metadata": {
    "scrolled": true
   },
   "outputs": [
    {
     "name": "stdout",
     "output_type": "stream",
     "text": [
      "CPU times: user 1min 34s, sys: 1.7 s, total: 1min 36s\n",
      "Wall time: 1min 38s\n"
     ]
    }
   ],
   "source": [
    "def count_references(f,inset): # ,outfile):\n",
    "    '''With f a wikipedia dump and inset a list of pageids, count for each page in the dump \\cap inset the number of references\n",
    "    on the page and return as a dict with pageid:reference_count key-value pairs.'''\n",
    "    with BZ2File(f) as xml_file:\n",
    "        context = etree.iterparse(xml_file,  tag= '{http://www.mediawiki.org/xml/export-0.10/}page')\n",
    "        pages_dict={}\n",
    "            \n",
    "        c=0\n",
    "        for _, elem in context:\n",
    "            \n",
    "                page_id = elem.findtext('{http://www.mediawiki.org/xml/export-0.10/}id')\n",
    "                try:  \n",
    "                    page_id= int(page_id)\n",
    "                    if  page_id in inset: # we only do this for pages in  inset\n",
    "                        pagetitle= elem.findtext('{http://www.mediawiki.org/xml/export-0.10/}title')\n",
    "                        pagetext=elem.findtext('{http://www.mediawiki.org/xml/export-0.10/}revision/{http://www.mediawiki.org/xml/export-0.10/}text')\n",
    "                        \n",
    "                        abc = len(nltk.tokenize.wordpunct_tokenize(pagetext))\n",
    "                        refs= (re.findall(reference_extractor, pagetext))\n",
    "                        ref_count= sum ( 1 for _ in refs)\n",
    "                        \n",
    "                        pages_dict[page_id] = [pagetitle, ref_count, refs, abc]\n",
    "                        \n",
    "                        #if page_id  and ref_count: # just store those with a count > 0\n",
    "                        ##pages_references_dict[page_id]= ref_count \n",
    "                        # use this when you want to write away the results to file\n",
    "                        #f.write(str(page_id)+';'+str(ref_count)+'\\n')\n",
    "                except:\n",
    "                    True\n",
    "                elem.clear()\n",
    "                \n",
    "                for ancestor in elem.xpath('ancestor-or-self::*'):\n",
    "                    while ancestor.getprevious() is not None:\n",
    "                        del ancestor.getparent()[0]    \n",
    "                \n",
    "                c+=1\n",
    "        del context\n",
    "\n",
    "    df = pd.DataFrame.from_dict(pages_dict,orient='index')\n",
    "\n",
    "    df.columns=['Pagetitel', 'Sectieaantal','Sectienaam','Woordaantal']\n",
    "    return df\n",
    "%time dfp = count_references(file_klein, set(range(10000000)))\n"
   ]
  },
  {
   "cell_type": "code",
   "execution_count": 4,
   "metadata": {},
   "outputs": [
    {
     "data": {
      "text/html": [
       "<div>\n",
       "<style>\n",
       "    .dataframe thead tr:only-child th {\n",
       "        text-align: right;\n",
       "    }\n",
       "\n",
       "    .dataframe thead th {\n",
       "        text-align: left;\n",
       "    }\n",
       "\n",
       "    .dataframe tbody tr th {\n",
       "        vertical-align: top;\n",
       "    }\n",
       "</style>\n",
       "<table border=\"1\" class=\"dataframe\">\n",
       "  <thead>\n",
       "    <tr style=\"text-align: right;\">\n",
       "      <th></th>\n",
       "      <th>Pagetitel</th>\n",
       "      <th>Sectieaantal</th>\n",
       "      <th>Sectienaam</th>\n",
       "      <th>Woordaantal</th>\n",
       "    </tr>\n",
       "  </thead>\n",
       "  <tbody>\n",
       "    <tr>\n",
       "      <th>1</th>\n",
       "      <td>Albert Speer</td>\n",
       "      <td>10</td>\n",
       "      <td>[ Voor 1933 ,  Architect in dienst van Hitler ...</td>\n",
       "      <td>4864</td>\n",
       "    </tr>\n",
       "    <tr>\n",
       "      <th>2</th>\n",
       "      <td>Andre Agassi</td>\n",
       "      <td>5</td>\n",
       "      <td>[ Biografie ,  Palmares ,  Onderscheidingen , ...</td>\n",
       "      <td>22053</td>\n",
       "    </tr>\n",
       "    <tr>\n",
       "      <th>5</th>\n",
       "      <td>Groen (partij)</td>\n",
       "      <td>5</td>\n",
       "      <td>[ Geschiedenis ,  Structuur ,  Politieke manda...</td>\n",
       "      <td>6068</td>\n",
       "    </tr>\n",
       "    <tr>\n",
       "      <th>6</th>\n",
       "      <td>Anthony Fokker</td>\n",
       "      <td>4</td>\n",
       "      <td>[ Levensloop ,  Trivia ,  Bibliografie ,  Exte...</td>\n",
       "      <td>1571</td>\n",
       "    </tr>\n",
       "    <tr>\n",
       "      <th>7</th>\n",
       "      <td>Albert Plesman</td>\n",
       "      <td>4</td>\n",
       "      <td>[Levensloop, Eerbewijzen, Diversen, Zijn gezin]</td>\n",
       "      <td>1746</td>\n",
       "    </tr>\n",
       "  </tbody>\n",
       "</table>\n",
       "</div>"
      ],
      "text/plain": [
       "        Pagetitel  Sectieaantal  \\\n",
       "1    Albert Speer            10   \n",
       "2    Andre Agassi             5   \n",
       "5  Groen (partij)             5   \n",
       "6  Anthony Fokker             4   \n",
       "7  Albert Plesman             4   \n",
       "\n",
       "                                          Sectienaam  Woordaantal  \n",
       "1  [ Voor 1933 ,  Architect in dienst van Hitler ...         4864  \n",
       "2  [ Biografie ,  Palmares ,  Onderscheidingen , ...        22053  \n",
       "5  [ Geschiedenis ,  Structuur ,  Politieke manda...         6068  \n",
       "6  [ Levensloop ,  Trivia ,  Bibliografie ,  Exte...         1571  \n",
       "7    [Levensloop, Eerbewijzen, Diversen, Zijn gezin]         1746  "
      ]
     },
     "execution_count": 4,
     "metadata": {},
     "output_type": "execute_result"
    }
   ],
   "source": [
    "dfp.head()"
   ]
  },
  {
   "cell_type": "code",
   "execution_count": 5,
   "metadata": {
    "scrolled": true
   },
   "outputs": [
    {
     "name": "stdout",
     "output_type": "stream",
     "text": [
      "/bin/sh: dir: command not found\r\n"
     ]
    }
   ],
   "source": [
    "picklebestand = dfp.to_pickle('pikkel.pkl')\n",
    "!dir pikkel.pkl"
   ]
  },
  {
   "cell_type": "code",
   "execution_count": null,
   "metadata": {},
   "outputs": [],
   "source": []
  },
  {
   "cell_type": "markdown",
   "metadata": {},
   "source": [
    "## Sla je dataframe op als csv bestand en probeer het in te lezen in Word of Openoffice en in Google spreadsheets. Rapporteer exact wat er gebeurt."
   ]
  },
  {
   "cell_type": "code",
   "execution_count": 63,
   "metadata": {},
   "outputs": [
    {
     "name": "stderr",
     "output_type": "stream",
     "text": [
      "IOPub data rate exceeded.\n",
      "The notebook server will temporarily stop sending output\n",
      "to the client in order to avoid crashing it.\n",
      "To change this limit, set the config variable\n",
      "`--NotebookApp.iopub_data_rate_limit`.\n"
     ]
    }
   ],
   "source": [
    "#pd.DataFrame.to_csv(dfp)"
   ]
  },
  {
   "cell_type": "markdown",
   "metadata": {},
   "source": [
    "## Maak een plot waarin je op de x-as het aantal secties zet en op de y-as het aantal paginas met zoveel secties. Zorg dat het goed leesbaar is door eventueel een log schaal te gebruiken."
   ]
  },
  {
   "cell_type": "code",
   "execution_count": 52,
   "metadata": {
    "scrolled": true
   },
   "outputs": [
    {
     "data": {
      "text/plain": [
       "<matplotlib.axes._subplots.AxesSubplot at 0x1a1f628b38>"
      ]
     },
     "execution_count": 52,
     "metadata": {},
     "output_type": "execute_result"
    },
    {
     "data": {
      "image/png": "[encoded data removed]",
      "text/plain": [
       "<matplotlib.figure.Figure at 0x1a1f4895f8>"
      ]
     },
     "metadata": {},
     "output_type": "display_data"
    }
   ],
   "source": [
    "\n",
    "dfp['Sectieaantal'].value_counts().plot()\n"
   ]
  },
  {
   "cell_type": "markdown",
   "metadata": {},
   "source": [
    "## Bereken het gemiddeld aantal secties, de mediaan, en de standaard deviatie, en geef de titel van (een?) pagina met het maximale aantal secties, en geef dat maximale aantal natuurlijk."
   ]
  },
  {
   "cell_type": "code",
   "execution_count": 31,
   "metadata": {},
   "outputs": [
    {
     "name": "stdout",
     "output_type": "stream",
     "text": [
      "gemiddelde 2.1063598567488575 mediaan 1.0 standaard deviatie 3.592110071664292\n"
     ]
    }
   ],
   "source": [
    "print('gemiddelde',dfp['Sectieaantal'].mean(),'mediaan',dfp['Sectieaantal'].median(),'standaard deviatie',pd.DataFrame.std(dfp['Sectieaantal']))"
   ]
  },
  {
   "cell_type": "code",
   "execution_count": 53,
   "metadata": {
    "scrolled": true
   },
   "outputs": [
    {
     "name": "stdout",
     "output_type": "stream",
     "text": [
      "De titel met het maximale aantal secties, is lijst van balletten met 402 secties Pagetitel                                      Lijst van balletten\n",
      "Sectieaantal                                                   402\n",
      "Sectienaam       [ A ,  [[Komei Abe]] ,  [[Jean Absil]] ,  [[Ad...\n",
      "Woordaantal                                                  11063\n",
      "woordensectie                                              27.5199\n",
      "aantal                                                         NaN\n",
      "Name: 215903, dtype: object\n"
     ]
    }
   ],
   "source": [
    "print('De titel met het maximale aantal secties, is lijst van balletten met 402 secties',dfp.loc[dfp['Sectieaantal'].argmax()])"
   ]
  },
  {
   "cell_type": "markdown",
   "metadata": {},
   "source": [
    "## 8 Plot het aantal secties tegen het aantal woorden en bereken de correlatie."
   ]
  },
  {
   "cell_type": "code",
   "execution_count": 59,
   "metadata": {},
   "outputs": [
    {
     "data": {
      "text/plain": [
       "0.23977784660853715"
      ]
     },
     "execution_count": 59,
     "metadata": {},
     "output_type": "execute_result"
    },
    {
     "data": {
      "image/png": "[encoded data removed]",
      "text/plain": [
       "<matplotlib.figure.Figure at 0x1a2cfcef28>"
      ]
     },
     "metadata": {},
     "output_type": "display_data"
    }
   ],
   "source": [
    "dfp.plot(x='Sectieaantal',y='woordensectie')\n",
    "dfp['Sectieaantal'].corr(dfp['woordensectie'])\n"
   ]
  },
  {
   "cell_type": "markdown",
   "metadata": {},
   "source": [
    "## Wat is het gemiddeld aantal woorden per sectie op NL Wikipedia? Geef eerst een sluitende definitie in woorden van dit begrip. En programmeer die dan. Wees niet te snel blij en klaar. Dit is nog best tricky."
   ]
  },
  {
   "cell_type": "markdown",
   "metadata": {},
   "source": [
    "Het gemiddeld aantal woorden per sectie is het aantal woorden van een pagina gedeeld door het aantal secties van diezelfde pagina"
   ]
  },
  {
   "cell_type": "code",
   "execution_count": 61,
   "metadata": {},
   "outputs": [
    {
     "data": {
      "text/html": [
       "<div>\n",
       "<style>\n",
       "    .dataframe thead tr:only-child th {\n",
       "        text-align: right;\n",
       "    }\n",
       "\n",
       "    .dataframe thead th {\n",
       "        text-align: left;\n",
       "    }\n",
       "\n",
       "    .dataframe tbody tr th {\n",
       "        vertical-align: top;\n",
       "    }\n",
       "</style>\n",
       "<table border=\"1\" class=\"dataframe\">\n",
       "  <thead>\n",
       "    <tr style=\"text-align: right;\">\n",
       "      <th></th>\n",
       "      <th>Pagetitel</th>\n",
       "      <th>Sectieaantal</th>\n",
       "      <th>Sectienaam</th>\n",
       "      <th>Woordaantal</th>\n",
       "      <th>woordensectie</th>\n",
       "      <th>aantal</th>\n",
       "    </tr>\n",
       "  </thead>\n",
       "  <tbody>\n",
       "    <tr>\n",
       "      <th>1</th>\n",
       "      <td>Albert Speer</td>\n",
       "      <td>10</td>\n",
       "      <td>[ Voor 1933 ,  Architect in dienst van Hitler ...</td>\n",
       "      <td>4864</td>\n",
       "      <td>486.40</td>\n",
       "      <td>13880.0</td>\n",
       "    </tr>\n",
       "    <tr>\n",
       "      <th>2</th>\n",
       "      <td>Andre Agassi</td>\n",
       "      <td>5</td>\n",
       "      <td>[ Biografie ,  Palmares ,  Onderscheidingen , ...</td>\n",
       "      <td>22053</td>\n",
       "      <td>4410.60</td>\n",
       "      <td>9314.0</td>\n",
       "    </tr>\n",
       "    <tr>\n",
       "      <th>5</th>\n",
       "      <td>Groen (partij)</td>\n",
       "      <td>5</td>\n",
       "      <td>[ Geschiedenis ,  Structuur ,  Politieke manda...</td>\n",
       "      <td>6068</td>\n",
       "      <td>1213.60</td>\n",
       "      <td>6320.0</td>\n",
       "    </tr>\n",
       "    <tr>\n",
       "      <th>6</th>\n",
       "      <td>Anthony Fokker</td>\n",
       "      <td>4</td>\n",
       "      <td>[ Levensloop ,  Trivia ,  Bibliografie ,  Exte...</td>\n",
       "      <td>1571</td>\n",
       "      <td>392.75</td>\n",
       "      <td>4491.0</td>\n",
       "    </tr>\n",
       "    <tr>\n",
       "      <th>7</th>\n",
       "      <td>Albert Plesman</td>\n",
       "      <td>4</td>\n",
       "      <td>[Levensloop, Eerbewijzen, Diversen, Zijn gezin]</td>\n",
       "      <td>1746</td>\n",
       "      <td>436.50</td>\n",
       "      <td>3256.0</td>\n",
       "    </tr>\n",
       "  </tbody>\n",
       "</table>\n",
       "</div>"
      ],
      "text/plain": [
       "        Pagetitel  Sectieaantal  \\\n",
       "1    Albert Speer            10   \n",
       "2    Andre Agassi             5   \n",
       "5  Groen (partij)             5   \n",
       "6  Anthony Fokker             4   \n",
       "7  Albert Plesman             4   \n",
       "\n",
       "                                          Sectienaam  Woordaantal  \\\n",
       "1  [ Voor 1933 ,  Architect in dienst van Hitler ...         4864   \n",
       "2  [ Biografie ,  Palmares ,  Onderscheidingen , ...        22053   \n",
       "5  [ Geschiedenis ,  Structuur ,  Politieke manda...         6068   \n",
       "6  [ Levensloop ,  Trivia ,  Bibliografie ,  Exte...         1571   \n",
       "7    [Levensloop, Eerbewijzen, Diversen, Zijn gezin]         1746   \n",
       "\n",
       "   woordensectie   aantal  \n",
       "1         486.40  13880.0  \n",
       "2        4410.60   9314.0  \n",
       "5        1213.60   6320.0  \n",
       "6         392.75   4491.0  \n",
       "7         436.50   3256.0  "
      ]
     },
     "execution_count": 61,
     "metadata": {},
     "output_type": "execute_result"
    }
   ],
   "source": [
    "dfp['woordensectie'] = dfp['Woordaantal']  / dfp['Sectieaantal']\n",
    "dfp.head()"
   ]
  },
  {
   "cell_type": "code",
   "execution_count": 66,
   "metadata": {
    "scrolled": true
   },
   "outputs": [
    {
     "data": {
      "text/plain": [
       "207.6780293148639"
      ]
     },
     "execution_count": 66,
     "metadata": {},
     "output_type": "execute_result"
    }
   ],
   "source": [
    "dfp = dfp.replace([np.inf, -np.inf], 0)\n",
    "dfp.head()\n",
    "dfp['woordensectie'].mean()"
   ]
  },
  {
   "cell_type": "code",
   "execution_count": 8,
   "metadata": {},
   "outputs": [
    {
     "name": "stdout",
     "output_type": "stream",
     "text": [
      "       country  year        pop continent  lifeExp   gdpPercap\n",
      "0  Afghanistan  1952  8425333.0      Asia   28.801  779.445314\n",
      "1  Afghanistan  1957  9240934.0      Asia   30.332  820.853030\n"
     ]
    },
    {
     "data": {
      "image/png": "[encoded data removed]",
      "text/plain": [
       "<matplotlib.figure.Figure at 0x1a4556b518>"
      ]
     },
     "metadata": {},
     "output_type": "display_data"
    },
    {
     "data": {
      "image/png": "[encoded data removed]",
      "text/plain": [
       "<matplotlib.figure.Figure at 0x1a1b9a1438>"
      ]
     },
     "metadata": {},
     "output_type": "display_data"
    }
   ],
   "source": [
    "# Voorbeeld plot code  # Haal dit uit je antwoorden\n",
    "import pandas as pd\n",
    "%matplotlib inline\n",
    "df = pd.read_csv('http://www.stat.ubc.ca/~jenny/notOcto/STAT545A/examples/gapminder/data/gapminderDataFiveYear.txt', sep='\\t')\n",
    "df2007 = df[df.year==2007]\n",
    "df1952 = df[df.year==1952]\n",
    "print (df.head(2))\n",
    "\n",
    "df.plot(x='year', y='pop');\n",
    "\n",
    "df.plot.scatter(x='gdpPercap', y='lifeExp', logx=True); # upgrade to pandas 17.0"
   ]
  },
  {
   "cell_type": "code",
   "execution_count": 9,
   "metadata": {},
   "outputs": [
    {
     "data": {
      "text/html": [
       "<div>\n",
       "<style>\n",
       "    .dataframe thead tr:only-child th {\n",
       "        text-align: right;\n",
       "    }\n",
       "\n",
       "    .dataframe thead th {\n",
       "        text-align: left;\n",
       "    }\n",
       "\n",
       "    .dataframe tbody tr th {\n",
       "        vertical-align: top;\n",
       "    }\n",
       "</style>\n",
       "<table border=\"1\" class=\"dataframe\">\n",
       "  <thead>\n",
       "    <tr style=\"text-align: right;\">\n",
       "      <th></th>\n",
       "      <th>0</th>\n",
       "      <th>1</th>\n",
       "      <th>2</th>\n",
       "      <th>3</th>\n",
       "    </tr>\n",
       "  </thead>\n",
       "  <tbody>\n",
       "    <tr>\n",
       "      <th>2</th>\n",
       "      <td>fdsfsd</td>\n",
       "      <td>sadsa</td>\n",
       "      <td>321</td>\n",
       "      <td>[dsf, dsfsfds]</td>\n",
       "    </tr>\n",
       "    <tr>\n",
       "      <th>1</th>\n",
       "      <td>fdsfsd</td>\n",
       "      <td>sadsa</td>\n",
       "      <td>321</td>\n",
       "      <td>[dsf, dsfsfds]</td>\n",
       "    </tr>\n",
       "  </tbody>\n",
       "</table>\n",
       "</div>"
      ],
      "text/plain": [
       "        0      1    2               3\n",
       "2  fdsfsd  sadsa  321  [dsf, dsfsfds]\n",
       "1  fdsfsd  sadsa  321  [dsf, dsfsfds]"
      ]
     },
     "execution_count": 9,
     "metadata": {},
     "output_type": "execute_result"
    }
   ],
   "source": [
    "t = 'fdsfsd'\n",
    "h = 'sadsa'\n",
    "l = 321\n",
    "k = ['dsf', 'dsfsfds']\n",
    "lel = {}\n",
    "lel[2] = [t,h,l,k]\n",
    "lel[1] = [t,h,l,k]\n",
    "dfwordcount = pd.DataFrame.from_dict(lel,orient='index')\n",
    "dfwordcount"
   ]
  },
  {
   "cell_type": "code",
   "execution_count": 10,
   "metadata": {},
   "outputs": [
    {
     "ename": "NameError",
     "evalue": "name 'word_tokenize' is not defined",
     "output_type": "error",
     "traceback": [
      "\u001b[0;31m---------------------------------------------------------------------------\u001b[0m",
      "\u001b[0;31mNameError\u001b[0m                                 Traceback (most recent call last)",
      "\u001b[0;32m<ipython-input-10-32188c2a0f14>\u001b[0m in \u001b[0;36m<module>\u001b[0;34m()\u001b[0m\n\u001b[0;32m----> 1\u001b[0;31m \u001b[0mword_tokenize\u001b[0m\u001b[0;34m\u001b[0m\u001b[0m\n\u001b[0m",
      "\u001b[0;31mNameError\u001b[0m: name 'word_tokenize' is not defined"
     ]
    }
   ],
   "source": [
    "word_tokenize"
   ]
  }
 ],
 "metadata": {
  "anaconda-cloud": {},
  "celltoolbar": "Slideshow",
  "kernelspec": {
   "display_name": "Python 3",
   "language": "python",
   "name": "python3"
  },
  "language_info": {
   "codemirror_mode": {
    "name": "ipython",
    "version": 3
   },
   "file_extension": ".py",
   "mimetype": "text/x-python",
   "name": "python",
   "nbconvert_exporter": "python",
   "pygments_lexer": "ipython3",
   "version": "3.6.3"
  }
 },
 "nbformat": 4,
 "nbformat_minor": 1
}
