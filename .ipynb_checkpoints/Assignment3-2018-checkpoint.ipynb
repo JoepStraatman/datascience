{
 "cells": [
  {
   "cell_type": "markdown",
   "metadata": {
    "slideshow": {
     "slide_type": "slide"
    }
   },
   "source": [
    "# Assignment3\n",
    "\n",
    "## Notebook made by  \n",
    "\n",
    "\n",
    "\n",
    "|** Name** | **Student id** | **email**|\n",
    "|: |:-|:-|\n",
    "|Hidde de Haan |11028564 |Hiddedehaan@hotmail.com |\n",
    "|Joep Straatman |11035307 |Straatmanjoep@gmail.com |\n",
    "|  | |. |\n",
    "\n",
    "### Pledge (taken from [Coursera's Honor Code](https://www.coursera.org/about/terms/honorcode) )\n",
    "\n",
    "\n",
    "\n",
    "Put here a selfie with your photo where you hold a signed paper with the following text: (if this is team work, put two selfies here). The link must be to some place on the web, not to a local file. \n",
    "\n",
    "> My answers to homework, quizzes and exams will be my own work (except for assignments that explicitly permit collaboration).\n",
    "\n",
    ">I will not make solutions to homework, quizzes or exams available to anyone else. This includes both solutions written by me, as well as any official solutions provided by the course staff.\n",
    "\n",
    ">I will not engage in any other activities that will dishonestly improve my results or dishonestly improve/hurt the results of others.\n",
    "\n",
    "<img src='http://i.imgur.com/3GMiSMB.jpg'/>\n",
    "\n",
    "### Note\n",
    "* **Assignments without the selfies or completely filled in information will not be graded and receive 0 points.**\n",
    "\n",
    "\n",
    "### Two \"big\" questions this week."
   ]
  },
  {
   "cell_type": "markdown",
   "metadata": {
    "slideshow": {
     "slide_type": "slide"
    }
   },
   "source": [
    "# Pandas assignment\n",
    "\n",
    "Both parts count for half of your mark.\n",
    "\n",
    "\n",
    "## Part one: the pandas part of a previous  exam\n",
    " \n",
    " \n",
    "Maak de volgende vragen. Open een nieuwe cel voor elke vraag en copieer de vraag in een MarkDown cel erboven. Zo is het duidelijk welke vraag je waar beantwoord. (Hint: met ctrl underscore kan je een cel in tweeen knippen). \n",
    " \n",
    "\n",
    "1. (.5 pt) Lees in 1 regel `http://maartenmarx.nl/teaching/DataScience/Data/KVR.csv.gz` in als dataframe `kvr` zonder hem eerst uit te pakken of met de hand te downloaden en zorg dat de eerste kolom de index wordt.  \n",
    "    * Toon vervolgens de dimensies van het dataframe en laat de laatste 5 regels zien van kolommen 1,2,3 en 6 zien. \n",
    "    *  Bekijk het dataframe, probeer het te begrijpen en geef zinvolle namen aan alle kolommen.\n",
    "    * HINT. Om de file even snel te bekijken, doe je `!gunzip -c KVR.csv.gz|head -10`.\n",
    "3. (.5 pt) Maak een kruistabel van de jaren tegen de partijen. Neem alleen de 10 partijen die het vaakst voorkomen in de tabel in de kruistabel mee. Zet de partijen in de kolommen. \n",
    "    * Maak er ook een plotje van. \n",
    "4. (1 pt) Hoeveel verschillende partijen zitten er eigenlijk in het dataframe? Hoeveel zijn het er wel niet?\n",
    "    1. Print de unieke waardes in die partij kolom eens uit. Natuurlijk netjes alfabetisch geordend.\n",
    "    1. Hier zitten flink wat varianten van dezelfde partij bij. Schoon het eens flink op waarbij je string methodes gebruikt die alleen varianten op elkaar afbeelden, maar nooit van twee verschillende partijen dezelfde string maken. Hoeveel heb je er nu, en print de unieke waardes  nu eens uit. \n",
    "    2. Vind alle verschillende manieren om naar de 'Partij van de Arbeid' te refereren. Laat die zien samen met hoe vaak die manier voorkomt.\n",
    "5. (1 pt) Welke ministeries bevraagt de Partij voor de Dieren vooral? Maak een horizontaal bar plotje waarin je alleen de ministeries vermeldt die minstens 5 keer door deze partij bevraagt zijn. Print ook het percentage vragen uit die deze partij stelt aan de winnaar (het ministerie dat ze het meest bevragen). Zorg dat je netjes afrondt op slechts 1 cijfer achter de komma.\n",
    "6. (1.5pt) Hoeveel vragen worden er gesteld over varkens? Als je problemen krijgt gooi dan de regels weg waarin de waarde op de vraag kolom \"missing\" is. Laat weer netjes in een histogram zien welke partijen vooral over varkens vragen. Laat ook eens zien hoe die vragen over de tijd verdeeld zijn. Natuurlijk orden je de tijd netjes chronologisch.\n",
    "7. (1.5pt) Elke vraag bestaat vaak uit een aantal deelvragen.\n",
    "    1. Verzin een manier om het aantal deelvragen in een vraag te meten en te tellen. Wat is het gemiddeld aantal deelvragen, wat is de mediaan en de modus? Maak een histogram: hoe vaak komt een aantal deelvragen voor?\n",
    "    2. Beargumenteer dat jouw manier om deelvragen te tellen echt ergens op slaat.\n",
    "    3. Er lijken gekke outliers tussen te zitten. Benoem ze en verwijder ze voor de volgende vragen. \n",
    "    3. Laat het verband zien tussen het aantal deelvragen en de lengte van de hele vraag (bijvoorbeeld gemeten in aantal karakters). Doe dit bijvoorbeeld met een mooi regressieplotje.\n",
    "    4. Bereken de correlaties tussen het aantal deelvragen, de lengte van de vraag en de lengte van het antwoord. Beschrijf wat je hebt berekend en interpreteer het. \n",
    "\n",
    "## Part two: American baby names\n",
    "\n",
    "We continue the analysis of American baby names started in <http://nbviewer.jupyter.org/url/maartenmarx.nl/teaching/DataScience/Slides/Week1_slides.ipynb#Chapter-2:-analyse-baby-names>\n",
    "\n",
    "You must copy some of the pandas commands from the slides to get started. Do that here too. \n",
    "\n",
    "#### Downland the data\n",
    "You can download the data files from <https://github.com/wesm/pydata-book> (datasets--> babynames)"
   ]
  },
  {
   "cell_type": "code",
   "execution_count": 2,
   "metadata": {},
   "outputs": [],
   "source": [
    "import pandas as pd\n"
   ]
  },
  {
   "cell_type": "markdown",
   "metadata": {},
   "source": [
    "# Pandas"
   ]
  },
  {
   "cell_type": "markdown",
   "metadata": {},
   "source": [
    "1. (.5 pt) Lees in 1 regel `http://maartenmarx.nl/teaching/DataScience/Data/KVR.csv.gz` in als dataframe `kvr` zonder hem eerst uit te pakken of met de hand te downloaden en zorg dat de eerste kolom de index wordt.  \n",
    "    * Toon vervolgens de dimensies van het dataframe en laat de laatste 5 regels zien van kolommen 1,2,3 en 6 zien. \n",
    "    *  Bekijk het dataframe, probeer het te begrijpen en geef zinvolle namen aan alle kolommen.\n",
    "    * HINT. Om de file even snel te bekijken, doe je `!gunzip -c KVR.csv.gz|head -10`."
   ]
  },
  {
   "cell_type": "code",
   "execution_count": 3,
   "metadata": {},
   "outputs": [],
   "source": [
    "kvr = pd.read_table(\"http://maartenmarx.nl/teaching/DataScience/Data/KVR.csv.gz\", header=None, index_col=0)"
   ]
  },
  {
   "cell_type": "code",
   "execution_count": 4,
   "metadata": {},
   "outputs": [
    {
     "data": {
      "text/html": [
       "<div>\n",
       "<style scoped>\n",
       "    .dataframe tbody tr th:only-of-type {\n",
       "        vertical-align: middle;\n",
       "    }\n",
       "\n",
       "    .dataframe tbody tr th {\n",
       "        vertical-align: top;\n",
       "    }\n",
       "\n",
       "    .dataframe thead th {\n",
       "        text-align: right;\n",
       "    }\n",
       "</style>\n",
       "<table border=\"1\" class=\"dataframe\">\n",
       "  <thead>\n",
       "    <tr style=\"text-align: right;\">\n",
       "      <th></th>\n",
       "      <th>1</th>\n",
       "      <th>2</th>\n",
       "      <th>3</th>\n",
       "      <th>4</th>\n",
       "      <th>5</th>\n",
       "      <th>6</th>\n",
       "    </tr>\n",
       "    <tr>\n",
       "      <th>0</th>\n",
       "      <th></th>\n",
       "      <th></th>\n",
       "      <th></th>\n",
       "      <th></th>\n",
       "      <th></th>\n",
       "      <th></th>\n",
       "    </tr>\n",
       "  </thead>\n",
       "  <tbody>\n",
       "    <tr>\n",
       "      <th>KVR1000.xml</th>\n",
       "      <td>1994</td>\n",
       "      <td>PvdA</td>\n",
       "      <td>De vragen betreffen de betrouwbaarheid van de...</td>\n",
       "      <td>Hebt u kennisgenomen van het televisieprogram...</td>\n",
       "      <td>Ja. Het bedoelde geluidmeetpunt is eigendom v...</td>\n",
       "      <td>Verkeer en Waterstaat</td>\n",
       "    </tr>\n",
       "    <tr>\n",
       "      <th>KVR10000.xml</th>\n",
       "      <td>1999</td>\n",
       "      <td>PvdA</td>\n",
       "      <td>Vragen naar aanleiding van berichten (uitzend...</td>\n",
       "      <td>Kent u de berichten over de situatie in de Me...</td>\n",
       "      <td></td>\n",
       "      <td>Justitie</td>\n",
       "    </tr>\n",
       "    <tr>\n",
       "      <th>KVR10001.xml</th>\n",
       "      <td>1999</td>\n",
       "      <td>SP</td>\n",
       "      <td>Vragen naar aanleiding van de berichten \"Nede...</td>\n",
       "      <td>Kent u de berichten «Nederland steunt de Soeh...</td>\n",
       "      <td></td>\n",
       "      <td>Financien</td>\n",
       "    </tr>\n",
       "    <tr>\n",
       "      <th>KVR10002.xml</th>\n",
       "      <td>1999</td>\n",
       "      <td>PvdA</td>\n",
       "      <td>Vragen over de gebrekkige opvang van verpleeg...</td>\n",
       "      <td>Kent u het bericht over onderzoek van Nu91 me...</td>\n",
       "      <td>Ja. Het onderzoek van NU’91 wijst uit dat het...</td>\n",
       "      <td>Volksgezondheid, Welzijn en Sport</td>\n",
       "    </tr>\n",
       "    <tr>\n",
       "      <th>KVR10003.xml</th>\n",
       "      <td>1999</td>\n",
       "      <td>PvdA</td>\n",
       "      <td>Vragen over onbetrouwbaarheid van filemeldingen.</td>\n",
       "      <td>Hebt u kennisgenomen van de berichten over de...</td>\n",
       "      <td>Ja. Nee. Door de waarnemers van het Algemeen ...</td>\n",
       "      <td>Verkeer en Waterstaat</td>\n",
       "    </tr>\n",
       "  </tbody>\n",
       "</table>\n",
       "</div>"
      ],
      "text/plain": [
       "                   1      2  \\\n",
       "0                             \n",
       "KVR1000.xml     1994   PvdA   \n",
       " KVR10000.xml   1999   PvdA   \n",
       " KVR10001.xml   1999     SP   \n",
       " KVR10002.xml   1999   PvdA   \n",
       " KVR10003.xml   1999   PvdA   \n",
       "\n",
       "                                                               3  \\\n",
       "0                                                                  \n",
       "KVR1000.xml     De vragen betreffen de betrouwbaarheid van de...   \n",
       " KVR10000.xml   Vragen naar aanleiding van berichten (uitzend...   \n",
       " KVR10001.xml   Vragen naar aanleiding van de berichten \"Nede...   \n",
       " KVR10002.xml   Vragen over de gebrekkige opvang van verpleeg...   \n",
       " KVR10003.xml   Vragen over onbetrouwbaarheid van filemeldingen.   \n",
       "\n",
       "                                                               4  \\\n",
       "0                                                                  \n",
       "KVR1000.xml     Hebt u kennisgenomen van het televisieprogram...   \n",
       " KVR10000.xml   Kent u de berichten over de situatie in de Me...   \n",
       " KVR10001.xml   Kent u de berichten «Nederland steunt de Soeh...   \n",
       " KVR10002.xml   Kent u het bericht over onderzoek van Nu91 me...   \n",
       " KVR10003.xml   Hebt u kennisgenomen van de berichten over de...   \n",
       "\n",
       "                                                               5  \\\n",
       "0                                                                  \n",
       "KVR1000.xml     Ja. Het bedoelde geluidmeetpunt is eigendom v...   \n",
       " KVR10000.xml                                                      \n",
       " KVR10001.xml                                                      \n",
       " KVR10002.xml   Ja. Het onderzoek van NU’91 wijst uit dat het...   \n",
       " KVR10003.xml   Ja. Nee. Door de waarnemers van het Algemeen ...   \n",
       "\n",
       "                                                6  \n",
       "0                                                  \n",
       "KVR1000.xml                 Verkeer en Waterstaat  \n",
       " KVR10000.xml                            Justitie  \n",
       " KVR10001.xml                           Financien  \n",
       " KVR10002.xml   Volksgezondheid, Welzijn en Sport  \n",
       " KVR10003.xml               Verkeer en Waterstaat  "
      ]
     },
     "execution_count": 4,
     "metadata": {},
     "output_type": "execute_result"
    }
   ],
   "source": [
    "kvr.head()"
   ]
  },
  {
   "cell_type": "code",
   "execution_count": 5,
   "metadata": {},
   "outputs": [
    {
     "name": "stdout",
     "output_type": "stream",
     "text": [
      "(40516, 6)\n"
     ]
    }
   ],
   "source": [
    "print (kvr.shape)"
   ]
  },
  {
   "cell_type": "code",
   "execution_count": 6,
   "metadata": {
    "scrolled": true
   },
   "outputs": [
    {
     "data": {
      "text/html": [
       "<div>\n",
       "<style scoped>\n",
       "    .dataframe tbody tr th:only-of-type {\n",
       "        vertical-align: middle;\n",
       "    }\n",
       "\n",
       "    .dataframe tbody tr th {\n",
       "        vertical-align: top;\n",
       "    }\n",
       "\n",
       "    .dataframe thead th {\n",
       "        text-align: right;\n",
       "    }\n",
       "</style>\n",
       "<table border=\"1\" class=\"dataframe\">\n",
       "  <thead>\n",
       "    <tr style=\"text-align: right;\">\n",
       "      <th></th>\n",
       "      <th>1</th>\n",
       "      <th>2</th>\n",
       "      <th>3</th>\n",
       "      <th>6</th>\n",
       "    </tr>\n",
       "    <tr>\n",
       "      <th>0</th>\n",
       "      <th></th>\n",
       "      <th></th>\n",
       "      <th></th>\n",
       "      <th></th>\n",
       "    </tr>\n",
       "  </thead>\n",
       "  <tbody>\n",
       "    <tr>\n",
       "      <th>V989905550.xml</th>\n",
       "      <td>1999</td>\n",
       "      <td>D66</td>\n",
       "      <td>Vragen over het standpunt van de Nederlandse ...</td>\n",
       "      <td>NaN</td>\n",
       "    </tr>\n",
       "    <tr>\n",
       "      <th>V989912330.xml</th>\n",
       "      <td>1999</td>\n",
       "      <td>CDA</td>\n",
       "      <td>Herdruk in verband met correctie van de vraag...</td>\n",
       "      <td>NaN</td>\n",
       "    </tr>\n",
       "    <tr>\n",
       "      <th>V989913250.xml</th>\n",
       "      <td>1999</td>\n",
       "      <td>GroenLinks</td>\n",
       "      <td>Gevraagd wordt om kamervragen gesteld op 4 me...</td>\n",
       "      <td>NaN</td>\n",
       "    </tr>\n",
       "    <tr>\n",
       "      <th>V990015090.xml</th>\n",
       "      <td>2000</td>\n",
       "      <td>VVD</td>\n",
       "      <td>Vragen naar aanleiding van een bericht in het...</td>\n",
       "      <td>NaN</td>\n",
       "    </tr>\n",
       "    <tr>\n",
       "      <th>V990015520.xml</th>\n",
       "      <td>2000</td>\n",
       "      <td>PvdA</td>\n",
       "      <td>Vragen naar aanleiding van artikel in Volkskr...</td>\n",
       "      <td>NaN</td>\n",
       "    </tr>\n",
       "  </tbody>\n",
       "</table>\n",
       "</div>"
      ],
      "text/plain": [
       "                     1            2  \\\n",
       "0                                     \n",
       " V989905550.xml   1999          D66   \n",
       " V989912330.xml   1999          CDA   \n",
       " V989913250.xml   1999   GroenLinks   \n",
       " V990015090.xml   2000          VVD   \n",
       " V990015520.xml   2000         PvdA   \n",
       "\n",
       "                                                                 3    6  \n",
       "0                                                                        \n",
       " V989905550.xml   Vragen over het standpunt van de Nederlandse ...  NaN  \n",
       " V989912330.xml   Herdruk in verband met correctie van de vraag...  NaN  \n",
       " V989913250.xml   Gevraagd wordt om kamervragen gesteld op 4 me...  NaN  \n",
       " V990015090.xml   Vragen naar aanleiding van een bericht in het...  NaN  \n",
       " V990015520.xml   Vragen naar aanleiding van artikel in Volkskr...  NaN  "
      ]
     },
     "execution_count": 6,
     "metadata": {},
     "output_type": "execute_result"
    }
   ],
   "source": [
    "kvr5 = kvr[kvr.columns[[0,1,2,5]]][-5:]\n",
    "kvr5"
   ]
  },
  {
   "cell_type": "code",
   "execution_count": 7,
   "metadata": {},
   "outputs": [
    {
     "data": {
      "text/html": [
       "<div>\n",
       "<style scoped>\n",
       "    .dataframe tbody tr th:only-of-type {\n",
       "        vertical-align: middle;\n",
       "    }\n",
       "\n",
       "    .dataframe tbody tr th {\n",
       "        vertical-align: top;\n",
       "    }\n",
       "\n",
       "    .dataframe thead th {\n",
       "        text-align: right;\n",
       "    }\n",
       "</style>\n",
       "<table border=\"1\" class=\"dataframe\">\n",
       "  <thead>\n",
       "    <tr style=\"text-align: right;\">\n",
       "      <th></th>\n",
       "      <th>3</th>\n",
       "    </tr>\n",
       "    <tr>\n",
       "      <th>0</th>\n",
       "      <th></th>\n",
       "    </tr>\n",
       "  </thead>\n",
       "  <tbody>\n",
       "    <tr>\n",
       "      <th>V989905550.xml</th>\n",
       "      <td>Vragen over het standpunt van de Nederlandse ...</td>\n",
       "    </tr>\n",
       "    <tr>\n",
       "      <th>V989912330.xml</th>\n",
       "      <td>Herdruk in verband met correctie van de vraag...</td>\n",
       "    </tr>\n",
       "    <tr>\n",
       "      <th>V989913250.xml</th>\n",
       "      <td>Gevraagd wordt om kamervragen gesteld op 4 me...</td>\n",
       "    </tr>\n",
       "    <tr>\n",
       "      <th>V990015090.xml</th>\n",
       "      <td>Vragen naar aanleiding van een bericht in het...</td>\n",
       "    </tr>\n",
       "    <tr>\n",
       "      <th>V990015520.xml</th>\n",
       "      <td>Vragen naar aanleiding van artikel in Volkskr...</td>\n",
       "    </tr>\n",
       "  </tbody>\n",
       "</table>\n",
       "</div>"
      ],
      "text/plain": [
       "                                                                 3\n",
       "0                                                                 \n",
       " V989905550.xml   Vragen over het standpunt van de Nederlandse ...\n",
       " V989912330.xml   Herdruk in verband met correctie van de vraag...\n",
       " V989913250.xml   Gevraagd wordt om kamervragen gesteld op 4 me...\n",
       " V990015090.xml   Vragen naar aanleiding van een bericht in het...\n",
       " V990015520.xml   Vragen naar aanleiding van artikel in Volkskr..."
      ]
     },
     "execution_count": 7,
     "metadata": {},
     "output_type": "execute_result"
    }
   ],
   "source": [
    "kvr5 = kvr[kvr.columns[[2]]][-5:]\n",
    "kvr5"
   ]
  },
  {
   "cell_type": "code",
   "execution_count": 8,
   "metadata": {
    "scrolled": true
   },
   "outputs": [
    {
     "data": {
      "text/html": [
       "<div>\n",
       "<style scoped>\n",
       "    .dataframe tbody tr th:only-of-type {\n",
       "        vertical-align: middle;\n",
       "    }\n",
       "\n",
       "    .dataframe tbody tr th {\n",
       "        vertical-align: top;\n",
       "    }\n",
       "\n",
       "    .dataframe thead th {\n",
       "        text-align: right;\n",
       "    }\n",
       "</style>\n",
       "<table border=\"1\" class=\"dataframe\">\n",
       "  <thead>\n",
       "    <tr style=\"text-align: right;\">\n",
       "      <th></th>\n",
       "      <th>Jaar</th>\n",
       "      <th>Partij</th>\n",
       "      <th>Onderwerp</th>\n",
       "      <th>Vraag</th>\n",
       "      <th>Antwoord</th>\n",
       "      <th>Appartement</th>\n",
       "    </tr>\n",
       "    <tr>\n",
       "      <th>Bestand</th>\n",
       "      <th></th>\n",
       "      <th></th>\n",
       "      <th></th>\n",
       "      <th></th>\n",
       "      <th></th>\n",
       "      <th></th>\n",
       "    </tr>\n",
       "  </thead>\n",
       "  <tbody>\n",
       "    <tr>\n",
       "      <th>KVR1000.xml</th>\n",
       "      <td>1994</td>\n",
       "      <td>PvdA</td>\n",
       "      <td>De vragen betreffen de betrouwbaarheid van de...</td>\n",
       "      <td>Hebt u kennisgenomen van het televisieprogram...</td>\n",
       "      <td>Ja. Het bedoelde geluidmeetpunt is eigendom v...</td>\n",
       "      <td>Verkeer en Waterstaat</td>\n",
       "    </tr>\n",
       "    <tr>\n",
       "      <th>KVR10000.xml</th>\n",
       "      <td>1999</td>\n",
       "      <td>PvdA</td>\n",
       "      <td>Vragen naar aanleiding van berichten (uitzend...</td>\n",
       "      <td>Kent u de berichten over de situatie in de Me...</td>\n",
       "      <td></td>\n",
       "      <td>Justitie</td>\n",
       "    </tr>\n",
       "    <tr>\n",
       "      <th>KVR10001.xml</th>\n",
       "      <td>1999</td>\n",
       "      <td>SP</td>\n",
       "      <td>Vragen naar aanleiding van de berichten \"Nede...</td>\n",
       "      <td>Kent u de berichten «Nederland steunt de Soeh...</td>\n",
       "      <td></td>\n",
       "      <td>Financien</td>\n",
       "    </tr>\n",
       "    <tr>\n",
       "      <th>KVR10002.xml</th>\n",
       "      <td>1999</td>\n",
       "      <td>PvdA</td>\n",
       "      <td>Vragen over de gebrekkige opvang van verpleeg...</td>\n",
       "      <td>Kent u het bericht over onderzoek van Nu91 me...</td>\n",
       "      <td>Ja. Het onderzoek van NU’91 wijst uit dat het...</td>\n",
       "      <td>Volksgezondheid, Welzijn en Sport</td>\n",
       "    </tr>\n",
       "    <tr>\n",
       "      <th>KVR10003.xml</th>\n",
       "      <td>1999</td>\n",
       "      <td>PvdA</td>\n",
       "      <td>Vragen over onbetrouwbaarheid van filemeldingen.</td>\n",
       "      <td>Hebt u kennisgenomen van de berichten over de...</td>\n",
       "      <td>Ja. Nee. Door de waarnemers van het Algemeen ...</td>\n",
       "      <td>Verkeer en Waterstaat</td>\n",
       "    </tr>\n",
       "  </tbody>\n",
       "</table>\n",
       "</div>"
      ],
      "text/plain": [
       "                Jaar Partij  \\\n",
       "Bestand                       \n",
       "KVR1000.xml     1994   PvdA   \n",
       " KVR10000.xml   1999   PvdA   \n",
       " KVR10001.xml   1999     SP   \n",
       " KVR10002.xml   1999   PvdA   \n",
       " KVR10003.xml   1999   PvdA   \n",
       "\n",
       "                                                       Onderwerp  \\\n",
       "Bestand                                                            \n",
       "KVR1000.xml     De vragen betreffen de betrouwbaarheid van de...   \n",
       " KVR10000.xml   Vragen naar aanleiding van berichten (uitzend...   \n",
       " KVR10001.xml   Vragen naar aanleiding van de berichten \"Nede...   \n",
       " KVR10002.xml   Vragen over de gebrekkige opvang van verpleeg...   \n",
       " KVR10003.xml   Vragen over onbetrouwbaarheid van filemeldingen.   \n",
       "\n",
       "                                                           Vraag  \\\n",
       "Bestand                                                            \n",
       "KVR1000.xml     Hebt u kennisgenomen van het televisieprogram...   \n",
       " KVR10000.xml   Kent u de berichten over de situatie in de Me...   \n",
       " KVR10001.xml   Kent u de berichten «Nederland steunt de Soeh...   \n",
       " KVR10002.xml   Kent u het bericht over onderzoek van Nu91 me...   \n",
       " KVR10003.xml   Hebt u kennisgenomen van de berichten over de...   \n",
       "\n",
       "                                                        Antwoord  \\\n",
       "Bestand                                                            \n",
       "KVR1000.xml     Ja. Het bedoelde geluidmeetpunt is eigendom v...   \n",
       " KVR10000.xml                                                      \n",
       " KVR10001.xml                                                      \n",
       " KVR10002.xml   Ja. Het onderzoek van NU’91 wijst uit dat het...   \n",
       " KVR10003.xml   Ja. Nee. Door de waarnemers van het Algemeen ...   \n",
       "\n",
       "                                      Appartement  \n",
       "Bestand                                            \n",
       "KVR1000.xml                 Verkeer en Waterstaat  \n",
       " KVR10000.xml                            Justitie  \n",
       " KVR10001.xml                           Financien  \n",
       " KVR10002.xml   Volksgezondheid, Welzijn en Sport  \n",
       " KVR10003.xml               Verkeer en Waterstaat  "
      ]
     },
     "execution_count": 8,
     "metadata": {},
     "output_type": "execute_result"
    }
   ],
   "source": [
    "kvr.columns = [\"Jaar\", \"Partij\", \"Onderwerp\", \"Vraag\", \"Antwoord\",\"Appartement\"]\n",
    "kvr.index.name = \"Bestand\"\n",
    "kvr[:5]"
   ]
  },
  {
   "cell_type": "markdown",
   "metadata": {},
   "source": [
    "2 . (.5 pt) Maak een kruistabel van de jaren tegen de partijen. Neem alleen de 10 partijen die het vaakst voorkomen in de tabel in de kruistabel mee. Zet de partijen in de kolommen.\n",
    "Maak er ook een plotje van."
   ]
  },
  {
   "cell_type": "code",
   "execution_count": 9,
   "metadata": {
    "scrolled": true
   },
   "outputs": [
    {
     "name": "stdout",
     "output_type": "stream",
     "text": [
      "[' PvdA', ' CDA', ' SP', ' VVD', ' GroenLinks', ' D66', ' PVV', ' SGP', ' PvdD', ' RPF']\n"
     ]
    }
   ],
   "source": [
    "from collections import Counter\n",
    "import numpy as np\n",
    "partijen = kvr[\"Partij\"].tolist()\n",
    "partijenTot = Counter(partijen)\n",
    "mostCommon = partijenTot.most_common(11)\n",
    "\n",
    "top10 = [x[0] for x in mostCommon if x[0] != ' ']\n",
    "print (top10)"
   ]
  },
  {
   "cell_type": "code",
   "execution_count": 10,
   "metadata": {},
   "outputs": [],
   "source": [
    "partijlijst = kvr['Partij'].tolist()\n",
    "jaarlijst = kvr['Jaar'].tolist()\n",
    "lijst = list(zip(partijlijst,jaarlijst))\n",
    "newlist = [item for item in lijst if item[0] in top10]\n",
    "newpartijlijst = np.asarray([item[0] for item in newlist])\n",
    "newjaarlijst = np.asarray([item[1] for item in newlist])"
   ]
  },
  {
   "cell_type": "code",
   "execution_count": 11,
   "metadata": {},
   "outputs": [
    {
     "data": {
      "text/html": [
       "<div>\n",
       "<style scoped>\n",
       "    .dataframe tbody tr th:only-of-type {\n",
       "        vertical-align: middle;\n",
       "    }\n",
       "\n",
       "    .dataframe tbody tr th {\n",
       "        vertical-align: top;\n",
       "    }\n",
       "\n",
       "    .dataframe thead th {\n",
       "        text-align: right;\n",
       "    }\n",
       "</style>\n",
       "<table border=\"1\" class=\"dataframe\">\n",
       "  <thead>\n",
       "    <tr style=\"text-align: right;\">\n",
       "      <th>Partij</th>\n",
       "      <th>CDA</th>\n",
       "      <th>D66</th>\n",
       "      <th>GroenLinks</th>\n",
       "      <th>PVV</th>\n",
       "      <th>PvdA</th>\n",
       "      <th>PvdD</th>\n",
       "      <th>RPF</th>\n",
       "      <th>SGP</th>\n",
       "      <th>SP</th>\n",
       "      <th>VVD</th>\n",
       "    </tr>\n",
       "    <tr>\n",
       "      <th>Jaar</th>\n",
       "      <th></th>\n",
       "      <th></th>\n",
       "      <th></th>\n",
       "      <th></th>\n",
       "      <th></th>\n",
       "      <th></th>\n",
       "      <th></th>\n",
       "      <th></th>\n",
       "      <th></th>\n",
       "      <th></th>\n",
       "    </tr>\n",
       "  </thead>\n",
       "  <tbody>\n",
       "    <tr>\n",
       "      <th></th>\n",
       "      <td>1</td>\n",
       "      <td>0</td>\n",
       "      <td>1</td>\n",
       "      <td>0</td>\n",
       "      <td>0</td>\n",
       "      <td>0</td>\n",
       "      <td>0</td>\n",
       "      <td>0</td>\n",
       "      <td>0</td>\n",
       "      <td>0</td>\n",
       "    </tr>\n",
       "    <tr>\n",
       "      <th>1951</th>\n",
       "      <td>0</td>\n",
       "      <td>0</td>\n",
       "      <td>0</td>\n",
       "      <td>0</td>\n",
       "      <td>0</td>\n",
       "      <td>0</td>\n",
       "      <td>0</td>\n",
       "      <td>0</td>\n",
       "      <td>0</td>\n",
       "      <td>1</td>\n",
       "    </tr>\n",
       "    <tr>\n",
       "      <th>1984</th>\n",
       "      <td>59</td>\n",
       "      <td>0</td>\n",
       "      <td>0</td>\n",
       "      <td>0</td>\n",
       "      <td>128</td>\n",
       "      <td>0</td>\n",
       "      <td>5</td>\n",
       "      <td>5</td>\n",
       "      <td>0</td>\n",
       "      <td>59</td>\n",
       "    </tr>\n",
       "    <tr>\n",
       "      <th>1985</th>\n",
       "      <td>118</td>\n",
       "      <td>0</td>\n",
       "      <td>0</td>\n",
       "      <td>0</td>\n",
       "      <td>287</td>\n",
       "      <td>0</td>\n",
       "      <td>12</td>\n",
       "      <td>6</td>\n",
       "      <td>0</td>\n",
       "      <td>161</td>\n",
       "    </tr>\n",
       "    <tr>\n",
       "      <th>1986</th>\n",
       "      <td>93</td>\n",
       "      <td>18</td>\n",
       "      <td>0</td>\n",
       "      <td>0</td>\n",
       "      <td>273</td>\n",
       "      <td>0</td>\n",
       "      <td>22</td>\n",
       "      <td>9</td>\n",
       "      <td>0</td>\n",
       "      <td>96</td>\n",
       "    </tr>\n",
       "    <tr>\n",
       "      <th>1987</th>\n",
       "      <td>110</td>\n",
       "      <td>45</td>\n",
       "      <td>0</td>\n",
       "      <td>0</td>\n",
       "      <td>253</td>\n",
       "      <td>0</td>\n",
       "      <td>23</td>\n",
       "      <td>14</td>\n",
       "      <td>0</td>\n",
       "      <td>109</td>\n",
       "    </tr>\n",
       "    <tr>\n",
       "      <th>1988</th>\n",
       "      <td>106</td>\n",
       "      <td>33</td>\n",
       "      <td>0</td>\n",
       "      <td>0</td>\n",
       "      <td>271</td>\n",
       "      <td>0</td>\n",
       "      <td>23</td>\n",
       "      <td>9</td>\n",
       "      <td>0</td>\n",
       "      <td>91</td>\n",
       "    </tr>\n",
       "    <tr>\n",
       "      <th>1989</th>\n",
       "      <td>110</td>\n",
       "      <td>57</td>\n",
       "      <td>0</td>\n",
       "      <td>0</td>\n",
       "      <td>256</td>\n",
       "      <td>0</td>\n",
       "      <td>22</td>\n",
       "      <td>9</td>\n",
       "      <td>0</td>\n",
       "      <td>115</td>\n",
       "    </tr>\n",
       "    <tr>\n",
       "      <th>1990</th>\n",
       "      <td>121</td>\n",
       "      <td>78</td>\n",
       "      <td>1</td>\n",
       "      <td>0</td>\n",
       "      <td>159</td>\n",
       "      <td>0</td>\n",
       "      <td>20</td>\n",
       "      <td>4</td>\n",
       "      <td>0</td>\n",
       "      <td>143</td>\n",
       "    </tr>\n",
       "    <tr>\n",
       "      <th>1991</th>\n",
       "      <td>99</td>\n",
       "      <td>95</td>\n",
       "      <td>0</td>\n",
       "      <td>0</td>\n",
       "      <td>120</td>\n",
       "      <td>0</td>\n",
       "      <td>29</td>\n",
       "      <td>8</td>\n",
       "      <td>0</td>\n",
       "      <td>171</td>\n",
       "    </tr>\n",
       "    <tr>\n",
       "      <th>1992</th>\n",
       "      <td>90</td>\n",
       "      <td>73</td>\n",
       "      <td>37</td>\n",
       "      <td>0</td>\n",
       "      <td>157</td>\n",
       "      <td>0</td>\n",
       "      <td>28</td>\n",
       "      <td>11</td>\n",
       "      <td>0</td>\n",
       "      <td>173</td>\n",
       "    </tr>\n",
       "    <tr>\n",
       "      <th>1993</th>\n",
       "      <td>88</td>\n",
       "      <td>90</td>\n",
       "      <td>107</td>\n",
       "      <td>0</td>\n",
       "      <td>177</td>\n",
       "      <td>0</td>\n",
       "      <td>26</td>\n",
       "      <td>12</td>\n",
       "      <td>0</td>\n",
       "      <td>141</td>\n",
       "    </tr>\n",
       "    <tr>\n",
       "      <th>1994</th>\n",
       "      <td>137</td>\n",
       "      <td>102</td>\n",
       "      <td>122</td>\n",
       "      <td>0</td>\n",
       "      <td>149</td>\n",
       "      <td>0</td>\n",
       "      <td>33</td>\n",
       "      <td>18</td>\n",
       "      <td>52</td>\n",
       "      <td>141</td>\n",
       "    </tr>\n",
       "    <tr>\n",
       "      <th>1995</th>\n",
       "      <td>303</td>\n",
       "      <td>135</td>\n",
       "      <td>179</td>\n",
       "      <td>0</td>\n",
       "      <td>263</td>\n",
       "      <td>0</td>\n",
       "      <td>43</td>\n",
       "      <td>18</td>\n",
       "      <td>114</td>\n",
       "      <td>258</td>\n",
       "    </tr>\n",
       "    <tr>\n",
       "      <th>1996</th>\n",
       "      <td>412</td>\n",
       "      <td>173</td>\n",
       "      <td>246</td>\n",
       "      <td>0</td>\n",
       "      <td>332</td>\n",
       "      <td>0</td>\n",
       "      <td>60</td>\n",
       "      <td>30</td>\n",
       "      <td>162</td>\n",
       "      <td>256</td>\n",
       "    </tr>\n",
       "    <tr>\n",
       "      <th>1997</th>\n",
       "      <td>471</td>\n",
       "      <td>197</td>\n",
       "      <td>229</td>\n",
       "      <td>0</td>\n",
       "      <td>283</td>\n",
       "      <td>0</td>\n",
       "      <td>68</td>\n",
       "      <td>15</td>\n",
       "      <td>184</td>\n",
       "      <td>277</td>\n",
       "    </tr>\n",
       "    <tr>\n",
       "      <th>1998</th>\n",
       "      <td>448</td>\n",
       "      <td>140</td>\n",
       "      <td>219</td>\n",
       "      <td>0</td>\n",
       "      <td>236</td>\n",
       "      <td>0</td>\n",
       "      <td>38</td>\n",
       "      <td>22</td>\n",
       "      <td>225</td>\n",
       "      <td>246</td>\n",
       "    </tr>\n",
       "    <tr>\n",
       "      <th>1999</th>\n",
       "      <td>453</td>\n",
       "      <td>133</td>\n",
       "      <td>276</td>\n",
       "      <td>0</td>\n",
       "      <td>217</td>\n",
       "      <td>0</td>\n",
       "      <td>31</td>\n",
       "      <td>25</td>\n",
       "      <td>371</td>\n",
       "      <td>224</td>\n",
       "    </tr>\n",
       "    <tr>\n",
       "      <th>2000</th>\n",
       "      <td>423</td>\n",
       "      <td>150</td>\n",
       "      <td>238</td>\n",
       "      <td>0</td>\n",
       "      <td>287</td>\n",
       "      <td>0</td>\n",
       "      <td>40</td>\n",
       "      <td>16</td>\n",
       "      <td>265</td>\n",
       "      <td>230</td>\n",
       "    </tr>\n",
       "    <tr>\n",
       "      <th>2001</th>\n",
       "      <td>425</td>\n",
       "      <td>188</td>\n",
       "      <td>203</td>\n",
       "      <td>0</td>\n",
       "      <td>456</td>\n",
       "      <td>0</td>\n",
       "      <td>9</td>\n",
       "      <td>19</td>\n",
       "      <td>259</td>\n",
       "      <td>301</td>\n",
       "    </tr>\n",
       "    <tr>\n",
       "      <th>2002</th>\n",
       "      <td>395</td>\n",
       "      <td>178</td>\n",
       "      <td>223</td>\n",
       "      <td>0</td>\n",
       "      <td>447</td>\n",
       "      <td>0</td>\n",
       "      <td>0</td>\n",
       "      <td>32</td>\n",
       "      <td>363</td>\n",
       "      <td>216</td>\n",
       "    </tr>\n",
       "    <tr>\n",
       "      <th>2003</th>\n",
       "      <td>404</td>\n",
       "      <td>128</td>\n",
       "      <td>298</td>\n",
       "      <td>0</td>\n",
       "      <td>542</td>\n",
       "      <td>0</td>\n",
       "      <td>0</td>\n",
       "      <td>44</td>\n",
       "      <td>432</td>\n",
       "      <td>265</td>\n",
       "    </tr>\n",
       "    <tr>\n",
       "      <th>2004</th>\n",
       "      <td>422</td>\n",
       "      <td>115</td>\n",
       "      <td>345</td>\n",
       "      <td>0</td>\n",
       "      <td>895</td>\n",
       "      <td>0</td>\n",
       "      <td>0</td>\n",
       "      <td>53</td>\n",
       "      <td>623</td>\n",
       "      <td>417</td>\n",
       "    </tr>\n",
       "    <tr>\n",
       "      <th>2005</th>\n",
       "      <td>381</td>\n",
       "      <td>144</td>\n",
       "      <td>246</td>\n",
       "      <td>0</td>\n",
       "      <td>775</td>\n",
       "      <td>0</td>\n",
       "      <td>0</td>\n",
       "      <td>63</td>\n",
       "      <td>627</td>\n",
       "      <td>277</td>\n",
       "    </tr>\n",
       "    <tr>\n",
       "      <th>2006</th>\n",
       "      <td>349</td>\n",
       "      <td>141</td>\n",
       "      <td>245</td>\n",
       "      <td>13</td>\n",
       "      <td>616</td>\n",
       "      <td>0</td>\n",
       "      <td>0</td>\n",
       "      <td>73</td>\n",
       "      <td>551</td>\n",
       "      <td>208</td>\n",
       "    </tr>\n",
       "    <tr>\n",
       "      <th>2007</th>\n",
       "      <td>547</td>\n",
       "      <td>220</td>\n",
       "      <td>266</td>\n",
       "      <td>661</td>\n",
       "      <td>352</td>\n",
       "      <td>323</td>\n",
       "      <td>0</td>\n",
       "      <td>81</td>\n",
       "      <td>960</td>\n",
       "      <td>441</td>\n",
       "    </tr>\n",
       "    <tr>\n",
       "      <th>2008</th>\n",
       "      <td>326</td>\n",
       "      <td>119</td>\n",
       "      <td>154</td>\n",
       "      <td>318</td>\n",
       "      <td>217</td>\n",
       "      <td>213</td>\n",
       "      <td>0</td>\n",
       "      <td>46</td>\n",
       "      <td>555</td>\n",
       "      <td>216</td>\n",
       "    </tr>\n",
       "  </tbody>\n",
       "</table>\n",
       "</div>"
      ],
      "text/plain": [
       "Partij   CDA   D66   GroenLinks   PVV   PvdA   PvdD   RPF   SGP   SP   VVD\n",
       "Jaar                                                                      \n",
       "           1     0            1     0      0      0     0     0    0     0\n",
       " 1951      0     0            0     0      0      0     0     0    0     1\n",
       " 1984     59     0            0     0    128      0     5     5    0    59\n",
       " 1985    118     0            0     0    287      0    12     6    0   161\n",
       " 1986     93    18            0     0    273      0    22     9    0    96\n",
       " 1987    110    45            0     0    253      0    23    14    0   109\n",
       " 1988    106    33            0     0    271      0    23     9    0    91\n",
       " 1989    110    57            0     0    256      0    22     9    0   115\n",
       " 1990    121    78            1     0    159      0    20     4    0   143\n",
       " 1991     99    95            0     0    120      0    29     8    0   171\n",
       " 1992     90    73           37     0    157      0    28    11    0   173\n",
       " 1993     88    90          107     0    177      0    26    12    0   141\n",
       " 1994    137   102          122     0    149      0    33    18   52   141\n",
       " 1995    303   135          179     0    263      0    43    18  114   258\n",
       " 1996    412   173          246     0    332      0    60    30  162   256\n",
       " 1997    471   197          229     0    283      0    68    15  184   277\n",
       " 1998    448   140          219     0    236      0    38    22  225   246\n",
       " 1999    453   133          276     0    217      0    31    25  371   224\n",
       " 2000    423   150          238     0    287      0    40    16  265   230\n",
       " 2001    425   188          203     0    456      0     9    19  259   301\n",
       " 2002    395   178          223     0    447      0     0    32  363   216\n",
       " 2003    404   128          298     0    542      0     0    44  432   265\n",
       " 2004    422   115          345     0    895      0     0    53  623   417\n",
       " 2005    381   144          246     0    775      0     0    63  627   277\n",
       " 2006    349   141          245    13    616      0     0    73  551   208\n",
       " 2007    547   220          266   661    352    323     0    81  960   441\n",
       " 2008    326   119          154   318    217    213     0    46  555   216"
      ]
     },
     "execution_count": 11,
     "metadata": {},
     "output_type": "execute_result"
    }
   ],
   "source": [
    "kruistabel = pd.crosstab(newjaarlijst,newpartijlijst, rownames=['Jaar'], colnames=['Partij'])\n",
    "kruistabel"
   ]
  },
  {
   "cell_type": "code",
   "execution_count": 82,
   "metadata": {
    "scrolled": true
   },
   "outputs": [
    {
     "ename": "AttributeError",
     "evalue": "'NoneType' object has no attribute 'seq'",
     "output_type": "error",
     "traceback": [
      "\u001b[1;31m---------------------------------------------------------------------------\u001b[0m",
      "\u001b[1;31mAttributeError\u001b[0m                            Traceback (most recent call last)",
      "\u001b[1;32mc:\\users\\gebruiker\\appdata\\local\\programs\\python\\python36\\lib\\site-packages\\IPython\\core\\formatters.py\u001b[0m in \u001b[0;36m__call__\u001b[1;34m(self, obj)\u001b[0m\n\u001b[0;32m    339\u001b[0m                 \u001b[1;32mpass\u001b[0m\u001b[1;33m\u001b[0m\u001b[0m\n\u001b[0;32m    340\u001b[0m             \u001b[1;32melse\u001b[0m\u001b[1;33m:\u001b[0m\u001b[1;33m\u001b[0m\u001b[0m\n\u001b[1;32m--> 341\u001b[1;33m                 \u001b[1;32mreturn\u001b[0m \u001b[0mprinter\u001b[0m\u001b[1;33m(\u001b[0m\u001b[0mobj\u001b[0m\u001b[1;33m)\u001b[0m\u001b[1;33m\u001b[0m\u001b[0m\n\u001b[0m\u001b[0;32m    342\u001b[0m             \u001b[1;31m# Finally look for special method names\u001b[0m\u001b[1;33m\u001b[0m\u001b[1;33m\u001b[0m\u001b[0m\n\u001b[0;32m    343\u001b[0m             \u001b[0mmethod\u001b[0m \u001b[1;33m=\u001b[0m \u001b[0mget_real_method\u001b[0m\u001b[1;33m(\u001b[0m\u001b[0mobj\u001b[0m\u001b[1;33m,\u001b[0m \u001b[0mself\u001b[0m\u001b[1;33m.\u001b[0m\u001b[0mprint_method\u001b[0m\u001b[1;33m)\u001b[0m\u001b[1;33m\u001b[0m\u001b[0m\n",
      "\u001b[1;32mc:\\users\\gebruiker\\appdata\\local\\programs\\python\\python36\\lib\\site-packages\\IPython\\core\\pylabtools.py\u001b[0m in \u001b[0;36m<lambda>\u001b[1;34m(fig)\u001b[0m\n\u001b[0;32m    236\u001b[0m \u001b[1;33m\u001b[0m\u001b[0m\n\u001b[0;32m    237\u001b[0m     \u001b[1;32mif\u001b[0m \u001b[1;34m'png'\u001b[0m \u001b[1;32min\u001b[0m \u001b[0mformats\u001b[0m\u001b[1;33m:\u001b[0m\u001b[1;33m\u001b[0m\u001b[0m\n\u001b[1;32m--> 238\u001b[1;33m         \u001b[0mpng_formatter\u001b[0m\u001b[1;33m.\u001b[0m\u001b[0mfor_type\u001b[0m\u001b[1;33m(\u001b[0m\u001b[0mFigure\u001b[0m\u001b[1;33m,\u001b[0m \u001b[1;32mlambda\u001b[0m \u001b[0mfig\u001b[0m\u001b[1;33m:\u001b[0m \u001b[0mprint_figure\u001b[0m\u001b[1;33m(\u001b[0m\u001b[0mfig\u001b[0m\u001b[1;33m,\u001b[0m \u001b[1;34m'png'\u001b[0m\u001b[1;33m,\u001b[0m \u001b[1;33m**\u001b[0m\u001b[0mkwargs\u001b[0m\u001b[1;33m)\u001b[0m\u001b[1;33m)\u001b[0m\u001b[1;33m\u001b[0m\u001b[0m\n\u001b[0m\u001b[0;32m    239\u001b[0m     \u001b[1;32mif\u001b[0m \u001b[1;34m'retina'\u001b[0m \u001b[1;32min\u001b[0m \u001b[0mformats\u001b[0m \u001b[1;32mor\u001b[0m \u001b[1;34m'png2x'\u001b[0m \u001b[1;32min\u001b[0m \u001b[0mformats\u001b[0m\u001b[1;33m:\u001b[0m\u001b[1;33m\u001b[0m\u001b[0m\n\u001b[0;32m    240\u001b[0m         \u001b[0mpng_formatter\u001b[0m\u001b[1;33m.\u001b[0m\u001b[0mfor_type\u001b[0m\u001b[1;33m(\u001b[0m\u001b[0mFigure\u001b[0m\u001b[1;33m,\u001b[0m \u001b[1;32mlambda\u001b[0m \u001b[0mfig\u001b[0m\u001b[1;33m:\u001b[0m \u001b[0mretina_figure\u001b[0m\u001b[1;33m(\u001b[0m\u001b[0mfig\u001b[0m\u001b[1;33m,\u001b[0m \u001b[1;33m**\u001b[0m\u001b[0mkwargs\u001b[0m\u001b[1;33m)\u001b[0m\u001b[1;33m)\u001b[0m\u001b[1;33m\u001b[0m\u001b[0m\n",
      "\u001b[1;32mc:\\users\\gebruiker\\appdata\\local\\programs\\python\\python36\\lib\\site-packages\\IPython\\core\\pylabtools.py\u001b[0m in \u001b[0;36mprint_figure\u001b[1;34m(fig, fmt, bbox_inches, **kwargs)\u001b[0m\n\u001b[0;32m    120\u001b[0m \u001b[1;33m\u001b[0m\u001b[0m\n\u001b[0;32m    121\u001b[0m     \u001b[0mbytes_io\u001b[0m \u001b[1;33m=\u001b[0m \u001b[0mBytesIO\u001b[0m\u001b[1;33m(\u001b[0m\u001b[1;33m)\u001b[0m\u001b[1;33m\u001b[0m\u001b[0m\n\u001b[1;32m--> 122\u001b[1;33m     \u001b[0mfig\u001b[0m\u001b[1;33m.\u001b[0m\u001b[0mcanvas\u001b[0m\u001b[1;33m.\u001b[0m\u001b[0mprint_figure\u001b[0m\u001b[1;33m(\u001b[0m\u001b[0mbytes_io\u001b[0m\u001b[1;33m,\u001b[0m \u001b[1;33m**\u001b[0m\u001b[0mkw\u001b[0m\u001b[1;33m)\u001b[0m\u001b[1;33m\u001b[0m\u001b[0m\n\u001b[0m\u001b[0;32m    123\u001b[0m     \u001b[0mdata\u001b[0m \u001b[1;33m=\u001b[0m \u001b[0mbytes_io\u001b[0m\u001b[1;33m.\u001b[0m\u001b[0mgetvalue\u001b[0m\u001b[1;33m(\u001b[0m\u001b[1;33m)\u001b[0m\u001b[1;33m\u001b[0m\u001b[0m\n\u001b[0;32m    124\u001b[0m     \u001b[1;32mif\u001b[0m \u001b[0mfmt\u001b[0m \u001b[1;33m==\u001b[0m \u001b[1;34m'svg'\u001b[0m\u001b[1;33m:\u001b[0m\u001b[1;33m\u001b[0m\u001b[0m\n",
      "\u001b[1;32mc:\\users\\gebruiker\\appdata\\local\\programs\\python\\python36\\lib\\site-packages\\matplotlib\\backend_bases.py\u001b[0m in \u001b[0;36mprint_figure\u001b[1;34m(self, filename, dpi, facecolor, edgecolor, orientation, format, **kwargs)\u001b[0m\n\u001b[0;32m   2206\u001b[0m                     \u001b[0morientation\u001b[0m\u001b[1;33m=\u001b[0m\u001b[0morientation\u001b[0m\u001b[1;33m,\u001b[0m\u001b[1;33m\u001b[0m\u001b[0m\n\u001b[0;32m   2207\u001b[0m                     \u001b[0mdryrun\u001b[0m\u001b[1;33m=\u001b[0m\u001b[1;32mTrue\u001b[0m\u001b[1;33m,\u001b[0m\u001b[1;33m\u001b[0m\u001b[0m\n\u001b[1;32m-> 2208\u001b[1;33m                     **kwargs)\n\u001b[0m\u001b[0;32m   2209\u001b[0m                 \u001b[0mrenderer\u001b[0m \u001b[1;33m=\u001b[0m \u001b[0mself\u001b[0m\u001b[1;33m.\u001b[0m\u001b[0mfigure\u001b[0m\u001b[1;33m.\u001b[0m\u001b[0m_cachedRenderer\u001b[0m\u001b[1;33m\u001b[0m\u001b[0m\n\u001b[0;32m   2210\u001b[0m                 \u001b[0mbbox_inches\u001b[0m \u001b[1;33m=\u001b[0m \u001b[0mself\u001b[0m\u001b[1;33m.\u001b[0m\u001b[0mfigure\u001b[0m\u001b[1;33m.\u001b[0m\u001b[0mget_tightbbox\u001b[0m\u001b[1;33m(\u001b[0m\u001b[0mrenderer\u001b[0m\u001b[1;33m)\u001b[0m\u001b[1;33m\u001b[0m\u001b[0m\n",
      "\u001b[1;32mc:\\users\\gebruiker\\appdata\\local\\programs\\python\\python36\\lib\\site-packages\\matplotlib\\backends\\backend_agg.py\u001b[0m in \u001b[0;36mprint_png\u001b[1;34m(self, filename_or_obj, *args, **kwargs)\u001b[0m\n\u001b[0;32m    505\u001b[0m \u001b[1;33m\u001b[0m\u001b[0m\n\u001b[0;32m    506\u001b[0m     \u001b[1;32mdef\u001b[0m \u001b[0mprint_png\u001b[0m\u001b[1;33m(\u001b[0m\u001b[0mself\u001b[0m\u001b[1;33m,\u001b[0m \u001b[0mfilename_or_obj\u001b[0m\u001b[1;33m,\u001b[0m \u001b[1;33m*\u001b[0m\u001b[0margs\u001b[0m\u001b[1;33m,\u001b[0m \u001b[1;33m**\u001b[0m\u001b[0mkwargs\u001b[0m\u001b[1;33m)\u001b[0m\u001b[1;33m:\u001b[0m\u001b[1;33m\u001b[0m\u001b[0m\n\u001b[1;32m--> 507\u001b[1;33m         \u001b[0mFigureCanvasAgg\u001b[0m\u001b[1;33m.\u001b[0m\u001b[0mdraw\u001b[0m\u001b[1;33m(\u001b[0m\u001b[0mself\u001b[0m\u001b[1;33m)\u001b[0m\u001b[1;33m\u001b[0m\u001b[0m\n\u001b[0m\u001b[0;32m    508\u001b[0m         \u001b[0mrenderer\u001b[0m \u001b[1;33m=\u001b[0m \u001b[0mself\u001b[0m\u001b[1;33m.\u001b[0m\u001b[0mget_renderer\u001b[0m\u001b[1;33m(\u001b[0m\u001b[1;33m)\u001b[0m\u001b[1;33m\u001b[0m\u001b[0m\n\u001b[0;32m    509\u001b[0m         \u001b[0moriginal_dpi\u001b[0m \u001b[1;33m=\u001b[0m \u001b[0mrenderer\u001b[0m\u001b[1;33m.\u001b[0m\u001b[0mdpi\u001b[0m\u001b[1;33m\u001b[0m\u001b[0m\n",
      "\u001b[1;32mc:\\users\\gebruiker\\appdata\\local\\programs\\python\\python36\\lib\\site-packages\\matplotlib\\backends\\backend_agg.py\u001b[0m in \u001b[0;36mdraw\u001b[1;34m(self)\u001b[0m\n\u001b[0;32m    428\u001b[0m             \u001b[1;32mif\u001b[0m \u001b[0mtoolbar\u001b[0m\u001b[1;33m:\u001b[0m\u001b[1;33m\u001b[0m\u001b[0m\n\u001b[0;32m    429\u001b[0m                 \u001b[0mtoolbar\u001b[0m\u001b[1;33m.\u001b[0m\u001b[0mset_cursor\u001b[0m\u001b[1;33m(\u001b[0m\u001b[0mcursors\u001b[0m\u001b[1;33m.\u001b[0m\u001b[0mWAIT\u001b[0m\u001b[1;33m)\u001b[0m\u001b[1;33m\u001b[0m\u001b[0m\n\u001b[1;32m--> 430\u001b[1;33m             \u001b[0mself\u001b[0m\u001b[1;33m.\u001b[0m\u001b[0mfigure\u001b[0m\u001b[1;33m.\u001b[0m\u001b[0mdraw\u001b[0m\u001b[1;33m(\u001b[0m\u001b[0mself\u001b[0m\u001b[1;33m.\u001b[0m\u001b[0mrenderer\u001b[0m\u001b[1;33m)\u001b[0m\u001b[1;33m\u001b[0m\u001b[0m\n\u001b[0m\u001b[0;32m    431\u001b[0m         \u001b[1;32mfinally\u001b[0m\u001b[1;33m:\u001b[0m\u001b[1;33m\u001b[0m\u001b[0m\n\u001b[0;32m    432\u001b[0m             \u001b[1;32mif\u001b[0m \u001b[0mtoolbar\u001b[0m\u001b[1;33m:\u001b[0m\u001b[1;33m\u001b[0m\u001b[0m\n",
      "\u001b[1;32mc:\\users\\gebruiker\\appdata\\local\\programs\\python\\python36\\lib\\site-packages\\matplotlib\\artist.py\u001b[0m in \u001b[0;36mdraw_wrapper\u001b[1;34m(artist, renderer, *args, **kwargs)\u001b[0m\n\u001b[0;32m     53\u001b[0m                 \u001b[0mrenderer\u001b[0m\u001b[1;33m.\u001b[0m\u001b[0mstart_filter\u001b[0m\u001b[1;33m(\u001b[0m\u001b[1;33m)\u001b[0m\u001b[1;33m\u001b[0m\u001b[0m\n\u001b[0;32m     54\u001b[0m \u001b[1;33m\u001b[0m\u001b[0m\n\u001b[1;32m---> 55\u001b[1;33m             \u001b[1;32mreturn\u001b[0m \u001b[0mdraw\u001b[0m\u001b[1;33m(\u001b[0m\u001b[0martist\u001b[0m\u001b[1;33m,\u001b[0m \u001b[0mrenderer\u001b[0m\u001b[1;33m,\u001b[0m \u001b[1;33m*\u001b[0m\u001b[0margs\u001b[0m\u001b[1;33m,\u001b[0m \u001b[1;33m**\u001b[0m\u001b[0mkwargs\u001b[0m\u001b[1;33m)\u001b[0m\u001b[1;33m\u001b[0m\u001b[0m\n\u001b[0m\u001b[0;32m     56\u001b[0m         \u001b[1;32mfinally\u001b[0m\u001b[1;33m:\u001b[0m\u001b[1;33m\u001b[0m\u001b[0m\n\u001b[0;32m     57\u001b[0m             \u001b[1;32mif\u001b[0m \u001b[0martist\u001b[0m\u001b[1;33m.\u001b[0m\u001b[0mget_agg_filter\u001b[0m\u001b[1;33m(\u001b[0m\u001b[1;33m)\u001b[0m \u001b[1;32mis\u001b[0m \u001b[1;32mnot\u001b[0m \u001b[1;32mNone\u001b[0m\u001b[1;33m:\u001b[0m\u001b[1;33m\u001b[0m\u001b[0m\n",
      "\u001b[1;32mc:\\users\\gebruiker\\appdata\\local\\programs\\python\\python36\\lib\\site-packages\\matplotlib\\figure.py\u001b[0m in \u001b[0;36mdraw\u001b[1;34m(self, renderer)\u001b[0m\n\u001b[0;32m   1293\u001b[0m \u001b[1;33m\u001b[0m\u001b[0m\n\u001b[0;32m   1294\u001b[0m             mimage._draw_list_compositing_images(\n\u001b[1;32m-> 1295\u001b[1;33m                 renderer, self, artists, self.suppressComposite)\n\u001b[0m\u001b[0;32m   1296\u001b[0m \u001b[1;33m\u001b[0m\u001b[0m\n\u001b[0;32m   1297\u001b[0m             \u001b[0mrenderer\u001b[0m\u001b[1;33m.\u001b[0m\u001b[0mclose_group\u001b[0m\u001b[1;33m(\u001b[0m\u001b[1;34m'figure'\u001b[0m\u001b[1;33m)\u001b[0m\u001b[1;33m\u001b[0m\u001b[0m\n",
      "\u001b[1;32mc:\\users\\gebruiker\\appdata\\local\\programs\\python\\python36\\lib\\site-packages\\matplotlib\\image.py\u001b[0m in \u001b[0;36m_draw_list_compositing_images\u001b[1;34m(renderer, parent, artists, suppress_composite)\u001b[0m\n\u001b[0;32m    136\u001b[0m     \u001b[1;32mif\u001b[0m \u001b[0mnot_composite\u001b[0m \u001b[1;32mor\u001b[0m \u001b[1;32mnot\u001b[0m \u001b[0mhas_images\u001b[0m\u001b[1;33m:\u001b[0m\u001b[1;33m\u001b[0m\u001b[0m\n\u001b[0;32m    137\u001b[0m         \u001b[1;32mfor\u001b[0m \u001b[0ma\u001b[0m \u001b[1;32min\u001b[0m \u001b[0martists\u001b[0m\u001b[1;33m:\u001b[0m\u001b[1;33m\u001b[0m\u001b[0m\n\u001b[1;32m--> 138\u001b[1;33m             \u001b[0ma\u001b[0m\u001b[1;33m.\u001b[0m\u001b[0mdraw\u001b[0m\u001b[1;33m(\u001b[0m\u001b[0mrenderer\u001b[0m\u001b[1;33m)\u001b[0m\u001b[1;33m\u001b[0m\u001b[0m\n\u001b[0m\u001b[0;32m    139\u001b[0m     \u001b[1;32melse\u001b[0m\u001b[1;33m:\u001b[0m\u001b[1;33m\u001b[0m\u001b[0m\n\u001b[0;32m    140\u001b[0m         \u001b[1;31m# Composite any adjacent images together\u001b[0m\u001b[1;33m\u001b[0m\u001b[1;33m\u001b[0m\u001b[0m\n",
      "\u001b[1;32mc:\\users\\gebruiker\\appdata\\local\\programs\\python\\python36\\lib\\site-packages\\matplotlib\\artist.py\u001b[0m in \u001b[0;36mdraw_wrapper\u001b[1;34m(artist, renderer, *args, **kwargs)\u001b[0m\n\u001b[0;32m     53\u001b[0m                 \u001b[0mrenderer\u001b[0m\u001b[1;33m.\u001b[0m\u001b[0mstart_filter\u001b[0m\u001b[1;33m(\u001b[0m\u001b[1;33m)\u001b[0m\u001b[1;33m\u001b[0m\u001b[0m\n\u001b[0;32m     54\u001b[0m \u001b[1;33m\u001b[0m\u001b[0m\n\u001b[1;32m---> 55\u001b[1;33m             \u001b[1;32mreturn\u001b[0m \u001b[0mdraw\u001b[0m\u001b[1;33m(\u001b[0m\u001b[0martist\u001b[0m\u001b[1;33m,\u001b[0m \u001b[0mrenderer\u001b[0m\u001b[1;33m,\u001b[0m \u001b[1;33m*\u001b[0m\u001b[0margs\u001b[0m\u001b[1;33m,\u001b[0m \u001b[1;33m**\u001b[0m\u001b[0mkwargs\u001b[0m\u001b[1;33m)\u001b[0m\u001b[1;33m\u001b[0m\u001b[0m\n\u001b[0m\u001b[0;32m     56\u001b[0m         \u001b[1;32mfinally\u001b[0m\u001b[1;33m:\u001b[0m\u001b[1;33m\u001b[0m\u001b[0m\n\u001b[0;32m     57\u001b[0m             \u001b[1;32mif\u001b[0m \u001b[0martist\u001b[0m\u001b[1;33m.\u001b[0m\u001b[0mget_agg_filter\u001b[0m\u001b[1;33m(\u001b[0m\u001b[1;33m)\u001b[0m \u001b[1;32mis\u001b[0m \u001b[1;32mnot\u001b[0m \u001b[1;32mNone\u001b[0m\u001b[1;33m:\u001b[0m\u001b[1;33m\u001b[0m\u001b[0m\n",
      "\u001b[1;32mc:\\users\\gebruiker\\appdata\\local\\programs\\python\\python36\\lib\\site-packages\\matplotlib\\axes\\_base.py\u001b[0m in \u001b[0;36mdraw\u001b[1;34m(self, renderer, inframe)\u001b[0m\n\u001b[0;32m   2397\u001b[0m             \u001b[0mrenderer\u001b[0m\u001b[1;33m.\u001b[0m\u001b[0mstop_rasterizing\u001b[0m\u001b[1;33m(\u001b[0m\u001b[1;33m)\u001b[0m\u001b[1;33m\u001b[0m\u001b[0m\n\u001b[0;32m   2398\u001b[0m \u001b[1;33m\u001b[0m\u001b[0m\n\u001b[1;32m-> 2399\u001b[1;33m         \u001b[0mmimage\u001b[0m\u001b[1;33m.\u001b[0m\u001b[0m_draw_list_compositing_images\u001b[0m\u001b[1;33m(\u001b[0m\u001b[0mrenderer\u001b[0m\u001b[1;33m,\u001b[0m \u001b[0mself\u001b[0m\u001b[1;33m,\u001b[0m \u001b[0martists\u001b[0m\u001b[1;33m)\u001b[0m\u001b[1;33m\u001b[0m\u001b[0m\n\u001b[0m\u001b[0;32m   2400\u001b[0m \u001b[1;33m\u001b[0m\u001b[0m\n\u001b[0;32m   2401\u001b[0m         \u001b[0mrenderer\u001b[0m\u001b[1;33m.\u001b[0m\u001b[0mclose_group\u001b[0m\u001b[1;33m(\u001b[0m\u001b[1;34m'axes'\u001b[0m\u001b[1;33m)\u001b[0m\u001b[1;33m\u001b[0m\u001b[0m\n",
      "\u001b[1;32mc:\\users\\gebruiker\\appdata\\local\\programs\\python\\python36\\lib\\site-packages\\matplotlib\\image.py\u001b[0m in \u001b[0;36m_draw_list_compositing_images\u001b[1;34m(renderer, parent, artists, suppress_composite)\u001b[0m\n\u001b[0;32m    136\u001b[0m     \u001b[1;32mif\u001b[0m \u001b[0mnot_composite\u001b[0m \u001b[1;32mor\u001b[0m \u001b[1;32mnot\u001b[0m \u001b[0mhas_images\u001b[0m\u001b[1;33m:\u001b[0m\u001b[1;33m\u001b[0m\u001b[0m\n\u001b[0;32m    137\u001b[0m         \u001b[1;32mfor\u001b[0m \u001b[0ma\u001b[0m \u001b[1;32min\u001b[0m \u001b[0martists\u001b[0m\u001b[1;33m:\u001b[0m\u001b[1;33m\u001b[0m\u001b[0m\n\u001b[1;32m--> 138\u001b[1;33m             \u001b[0ma\u001b[0m\u001b[1;33m.\u001b[0m\u001b[0mdraw\u001b[0m\u001b[1;33m(\u001b[0m\u001b[0mrenderer\u001b[0m\u001b[1;33m)\u001b[0m\u001b[1;33m\u001b[0m\u001b[0m\n\u001b[0m\u001b[0;32m    139\u001b[0m     \u001b[1;32melse\u001b[0m\u001b[1;33m:\u001b[0m\u001b[1;33m\u001b[0m\u001b[0m\n\u001b[0;32m    140\u001b[0m         \u001b[1;31m# Composite any adjacent images together\u001b[0m\u001b[1;33m\u001b[0m\u001b[1;33m\u001b[0m\u001b[0m\n",
      "\u001b[1;32mc:\\users\\gebruiker\\appdata\\local\\programs\\python\\python36\\lib\\site-packages\\matplotlib\\artist.py\u001b[0m in \u001b[0;36mdraw_wrapper\u001b[1;34m(artist, renderer, *args, **kwargs)\u001b[0m\n\u001b[0;32m     53\u001b[0m                 \u001b[0mrenderer\u001b[0m\u001b[1;33m.\u001b[0m\u001b[0mstart_filter\u001b[0m\u001b[1;33m(\u001b[0m\u001b[1;33m)\u001b[0m\u001b[1;33m\u001b[0m\u001b[0m\n\u001b[0;32m     54\u001b[0m \u001b[1;33m\u001b[0m\u001b[0m\n\u001b[1;32m---> 55\u001b[1;33m             \u001b[1;32mreturn\u001b[0m \u001b[0mdraw\u001b[0m\u001b[1;33m(\u001b[0m\u001b[0martist\u001b[0m\u001b[1;33m,\u001b[0m \u001b[0mrenderer\u001b[0m\u001b[1;33m,\u001b[0m \u001b[1;33m*\u001b[0m\u001b[0margs\u001b[0m\u001b[1;33m,\u001b[0m \u001b[1;33m**\u001b[0m\u001b[0mkwargs\u001b[0m\u001b[1;33m)\u001b[0m\u001b[1;33m\u001b[0m\u001b[0m\n\u001b[0m\u001b[0;32m     56\u001b[0m         \u001b[1;32mfinally\u001b[0m\u001b[1;33m:\u001b[0m\u001b[1;33m\u001b[0m\u001b[0m\n\u001b[0;32m     57\u001b[0m             \u001b[1;32mif\u001b[0m \u001b[0martist\u001b[0m\u001b[1;33m.\u001b[0m\u001b[0mget_agg_filter\u001b[0m\u001b[1;33m(\u001b[0m\u001b[1;33m)\u001b[0m \u001b[1;32mis\u001b[0m \u001b[1;32mnot\u001b[0m \u001b[1;32mNone\u001b[0m\u001b[1;33m:\u001b[0m\u001b[1;33m\u001b[0m\u001b[0m\n",
      "\u001b[1;32mc:\\users\\gebruiker\\appdata\\local\\programs\\python\\python36\\lib\\site-packages\\matplotlib\\patches.py\u001b[0m in \u001b[0;36mdraw\u001b[1;34m(self, renderer)\u001b[0m\n\u001b[0;32m    564\u001b[0m \u001b[1;33m\u001b[0m\u001b[0m\n\u001b[0;32m    565\u001b[0m         \u001b[0mpath\u001b[0m \u001b[1;33m=\u001b[0m \u001b[0mself\u001b[0m\u001b[1;33m.\u001b[0m\u001b[0mget_path\u001b[0m\u001b[1;33m(\u001b[0m\u001b[1;33m)\u001b[0m\u001b[1;33m\u001b[0m\u001b[0m\n\u001b[1;32m--> 566\u001b[1;33m         \u001b[0mtransform\u001b[0m \u001b[1;33m=\u001b[0m \u001b[0mself\u001b[0m\u001b[1;33m.\u001b[0m\u001b[0mget_transform\u001b[0m\u001b[1;33m(\u001b[0m\u001b[1;33m)\u001b[0m\u001b[1;33m\u001b[0m\u001b[0m\n\u001b[0m\u001b[0;32m    567\u001b[0m         \u001b[0mtpath\u001b[0m \u001b[1;33m=\u001b[0m \u001b[0mtransform\u001b[0m\u001b[1;33m.\u001b[0m\u001b[0mtransform_path_non_affine\u001b[0m\u001b[1;33m(\u001b[0m\u001b[0mpath\u001b[0m\u001b[1;33m)\u001b[0m\u001b[1;33m\u001b[0m\u001b[0m\n\u001b[0;32m    568\u001b[0m         \u001b[0maffine\u001b[0m \u001b[1;33m=\u001b[0m \u001b[0mtransform\u001b[0m\u001b[1;33m.\u001b[0m\u001b[0mget_affine\u001b[0m\u001b[1;33m(\u001b[0m\u001b[1;33m)\u001b[0m\u001b[1;33m\u001b[0m\u001b[0m\n",
      "\u001b[1;32mc:\\users\\gebruiker\\appdata\\local\\programs\\python\\python36\\lib\\site-packages\\matplotlib\\patches.py\u001b[0m in \u001b[0;36mget_transform\u001b[1;34m(self)\u001b[0m\n\u001b[0;32m    219\u001b[0m         \u001b[0mto\u001b[0m \u001b[0mthe\u001b[0m \u001b[1;33m:\u001b[0m\u001b[1;32mclass\u001b[0m\u001b[1;33m:\u001b[0m\u001b[0;31m`\u001b[0m\u001b[0mPatch\u001b[0m\u001b[0;31m`\u001b[0m\u001b[1;33m.\u001b[0m\u001b[1;33m\u001b[0m\u001b[0m\n\u001b[0;32m    220\u001b[0m         \"\"\"\n\u001b[1;32m--> 221\u001b[1;33m         \u001b[1;32mreturn\u001b[0m \u001b[0mself\u001b[0m\u001b[1;33m.\u001b[0m\u001b[0mget_patch_transform\u001b[0m\u001b[1;33m(\u001b[0m\u001b[1;33m)\u001b[0m \u001b[1;33m+\u001b[0m \u001b[0martist\u001b[0m\u001b[1;33m.\u001b[0m\u001b[0mArtist\u001b[0m\u001b[1;33m.\u001b[0m\u001b[0mget_transform\u001b[0m\u001b[1;33m(\u001b[0m\u001b[0mself\u001b[0m\u001b[1;33m)\u001b[0m\u001b[1;33m\u001b[0m\u001b[0m\n\u001b[0m\u001b[0;32m    222\u001b[0m \u001b[1;33m\u001b[0m\u001b[0m\n\u001b[0;32m    223\u001b[0m     \u001b[1;32mdef\u001b[0m \u001b[0mget_data_transform\u001b[0m\u001b[1;33m(\u001b[0m\u001b[0mself\u001b[0m\u001b[1;33m)\u001b[0m\u001b[1;33m:\u001b[0m\u001b[1;33m\u001b[0m\u001b[0m\n",
      "\u001b[1;32mc:\\users\\gebruiker\\appdata\\local\\programs\\python\\python36\\lib\\site-packages\\matplotlib\\patches.py\u001b[0m in \u001b[0;36mget_patch_transform\u001b[1;34m(self)\u001b[0m\n\u001b[0;32m    720\u001b[0m \u001b[1;33m\u001b[0m\u001b[0m\n\u001b[0;32m    721\u001b[0m     \u001b[1;32mdef\u001b[0m \u001b[0mget_patch_transform\u001b[0m\u001b[1;33m(\u001b[0m\u001b[0mself\u001b[0m\u001b[1;33m)\u001b[0m\u001b[1;33m:\u001b[0m\u001b[1;33m\u001b[0m\u001b[0m\n\u001b[1;32m--> 722\u001b[1;33m         \u001b[0mself\u001b[0m\u001b[1;33m.\u001b[0m\u001b[0m_update_patch_transform\u001b[0m\u001b[1;33m(\u001b[0m\u001b[1;33m)\u001b[0m\u001b[1;33m\u001b[0m\u001b[0m\n\u001b[0m\u001b[0;32m    723\u001b[0m         \u001b[1;32mreturn\u001b[0m \u001b[0mself\u001b[0m\u001b[1;33m.\u001b[0m\u001b[0m_rect_transform\u001b[0m\u001b[1;33m\u001b[0m\u001b[0m\n\u001b[0;32m    724\u001b[0m \u001b[1;33m\u001b[0m\u001b[0m\n",
      "\u001b[1;32mc:\\users\\gebruiker\\appdata\\local\\programs\\python\\python36\\lib\\site-packages\\matplotlib\\patches.py\u001b[0m in \u001b[0;36m_update_patch_transform\u001b[1;34m(self)\u001b[0m\n\u001b[0;32m    709\u001b[0m                  \u001b[1;32mnot\u001b[0m \u001b[0mdirectly\u001b[0m \u001b[0maccess\u001b[0m \u001b[0mthe\u001b[0m \u001b[0mtransformation\u001b[0m \u001b[0mmember\u001b[0m \u001b[0mvariable\u001b[0m\u001b[1;33m.\u001b[0m\u001b[1;33m\u001b[0m\u001b[0m\n\u001b[0;32m    710\u001b[0m         \"\"\"\n\u001b[1;32m--> 711\u001b[1;33m         \u001b[0mx\u001b[0m \u001b[1;33m=\u001b[0m \u001b[0mself\u001b[0m\u001b[1;33m.\u001b[0m\u001b[0mconvert_xunits\u001b[0m\u001b[1;33m(\u001b[0m\u001b[0mself\u001b[0m\u001b[1;33m.\u001b[0m\u001b[0m_x\u001b[0m\u001b[1;33m)\u001b[0m\u001b[1;33m\u001b[0m\u001b[0m\n\u001b[0m\u001b[0;32m    712\u001b[0m         \u001b[0my\u001b[0m \u001b[1;33m=\u001b[0m \u001b[0mself\u001b[0m\u001b[1;33m.\u001b[0m\u001b[0mconvert_yunits\u001b[0m\u001b[1;33m(\u001b[0m\u001b[0mself\u001b[0m\u001b[1;33m.\u001b[0m\u001b[0m_y\u001b[0m\u001b[1;33m)\u001b[0m\u001b[1;33m\u001b[0m\u001b[0m\n\u001b[0;32m    713\u001b[0m         \u001b[0mwidth\u001b[0m \u001b[1;33m=\u001b[0m \u001b[0mself\u001b[0m\u001b[1;33m.\u001b[0m\u001b[0mconvert_xunits\u001b[0m\u001b[1;33m(\u001b[0m\u001b[0mself\u001b[0m\u001b[1;33m.\u001b[0m\u001b[0m_width\u001b[0m\u001b[1;33m)\u001b[0m\u001b[1;33m\u001b[0m\u001b[0m\n",
      "\u001b[1;32mc:\\users\\gebruiker\\appdata\\local\\programs\\python\\python36\\lib\\site-packages\\matplotlib\\artist.py\u001b[0m in \u001b[0;36mconvert_xunits\u001b[1;34m(self, x)\u001b[0m\n\u001b[0;32m    189\u001b[0m         \u001b[1;32mif\u001b[0m \u001b[0max\u001b[0m \u001b[1;32mis\u001b[0m \u001b[1;32mNone\u001b[0m \u001b[1;32mor\u001b[0m \u001b[0max\u001b[0m\u001b[1;33m.\u001b[0m\u001b[0mxaxis\u001b[0m \u001b[1;32mis\u001b[0m \u001b[1;32mNone\u001b[0m\u001b[1;33m:\u001b[0m\u001b[1;33m\u001b[0m\u001b[0m\n\u001b[0;32m    190\u001b[0m             \u001b[1;32mreturn\u001b[0m \u001b[0mx\u001b[0m\u001b[1;33m\u001b[0m\u001b[0m\n\u001b[1;32m--> 191\u001b[1;33m         \u001b[1;32mreturn\u001b[0m \u001b[0max\u001b[0m\u001b[1;33m.\u001b[0m\u001b[0mxaxis\u001b[0m\u001b[1;33m.\u001b[0m\u001b[0mconvert_units\u001b[0m\u001b[1;33m(\u001b[0m\u001b[0mx\u001b[0m\u001b[1;33m)\u001b[0m\u001b[1;33m\u001b[0m\u001b[0m\n\u001b[0m\u001b[0;32m    192\u001b[0m \u001b[1;33m\u001b[0m\u001b[0m\n\u001b[0;32m    193\u001b[0m     \u001b[1;32mdef\u001b[0m \u001b[0mconvert_yunits\u001b[0m\u001b[1;33m(\u001b[0m\u001b[0mself\u001b[0m\u001b[1;33m,\u001b[0m \u001b[0my\u001b[0m\u001b[1;33m)\u001b[0m\u001b[1;33m:\u001b[0m\u001b[1;33m\u001b[0m\u001b[0m\n",
      "\u001b[1;32mc:\\users\\gebruiker\\appdata\\local\\programs\\python\\python36\\lib\\site-packages\\matplotlib\\axis.py\u001b[0m in \u001b[0;36mconvert_units\u001b[1;34m(self, x)\u001b[0m\n\u001b[0;32m   1489\u001b[0m             \u001b[1;32mreturn\u001b[0m \u001b[0mx\u001b[0m\u001b[1;33m\u001b[0m\u001b[0m\n\u001b[0;32m   1490\u001b[0m \u001b[1;33m\u001b[0m\u001b[0m\n\u001b[1;32m-> 1491\u001b[1;33m         \u001b[0mret\u001b[0m \u001b[1;33m=\u001b[0m \u001b[0mself\u001b[0m\u001b[1;33m.\u001b[0m\u001b[0mconverter\u001b[0m\u001b[1;33m.\u001b[0m\u001b[0mconvert\u001b[0m\u001b[1;33m(\u001b[0m\u001b[0mx\u001b[0m\u001b[1;33m,\u001b[0m \u001b[0mself\u001b[0m\u001b[1;33m.\u001b[0m\u001b[0munits\u001b[0m\u001b[1;33m,\u001b[0m \u001b[0mself\u001b[0m\u001b[1;33m)\u001b[0m\u001b[1;33m\u001b[0m\u001b[0m\n\u001b[0m\u001b[0;32m   1492\u001b[0m         \u001b[1;32mreturn\u001b[0m \u001b[0mret\u001b[0m\u001b[1;33m\u001b[0m\u001b[0m\n\u001b[0;32m   1493\u001b[0m \u001b[1;33m\u001b[0m\u001b[0m\n",
      "\u001b[1;32mc:\\users\\gebruiker\\appdata\\local\\programs\\python\\python36\\lib\\site-packages\\matplotlib\\category.py\u001b[0m in \u001b[0;36mconvert\u001b[1;34m(value, unit, axis)\u001b[0m\n\u001b[0;32m     41\u001b[0m         \u001b[0mdata\u001b[0m \u001b[1;32mas\u001b[0m \u001b[0mfloats\u001b[0m\u001b[1;33m\u001b[0m\u001b[0m\n\u001b[0;32m     42\u001b[0m         \"\"\"\n\u001b[1;32m---> 43\u001b[1;33m         \u001b[0mvmap\u001b[0m \u001b[1;33m=\u001b[0m \u001b[0mdict\u001b[0m\u001b[1;33m(\u001b[0m\u001b[0mzip\u001b[0m\u001b[1;33m(\u001b[0m\u001b[0maxis\u001b[0m\u001b[1;33m.\u001b[0m\u001b[0munit_data\u001b[0m\u001b[1;33m.\u001b[0m\u001b[0mseq\u001b[0m\u001b[1;33m,\u001b[0m \u001b[0maxis\u001b[0m\u001b[1;33m.\u001b[0m\u001b[0munit_data\u001b[0m\u001b[1;33m.\u001b[0m\u001b[0mlocs\u001b[0m\u001b[1;33m)\u001b[0m\u001b[1;33m)\u001b[0m\u001b[1;33m\u001b[0m\u001b[0m\n\u001b[0m\u001b[0;32m     44\u001b[0m \u001b[1;33m\u001b[0m\u001b[0m\n\u001b[0;32m     45\u001b[0m         \u001b[1;32mif\u001b[0m \u001b[0misinstance\u001b[0m\u001b[1;33m(\u001b[0m\u001b[0mvalue\u001b[0m\u001b[1;33m,\u001b[0m \u001b[0msix\u001b[0m\u001b[1;33m.\u001b[0m\u001b[0mstring_types\u001b[0m\u001b[1;33m)\u001b[0m\u001b[1;33m:\u001b[0m\u001b[1;33m\u001b[0m\u001b[0m\n",
      "\u001b[1;31mAttributeError\u001b[0m: 'NoneType' object has no attribute 'seq'"
     ]
    },
    {
     "data": {
      "text/plain": [
       "<matplotlib.figure.Figure at 0x1a095489550>"
      ]
     },
     "metadata": {},
     "output_type": "display_data"
    },
    {
     "data": {
      "image/png": "[encoded data removed]",
      "text/plain": [
       "<matplotlib.figure.Figure at 0x1a092ede748>"
      ]
     },
     "metadata": {},
     "output_type": "display_data"
    }
   ],
   "source": [
    "import matplotlib.pyplot as plt\n",
    "kruistabel.plot(kind=\"bar\", \n",
    "                 figsize=(8,8),\n",
    "                 stacked=True)\n",
    "plt.show()"
   ]
  },
  {
   "cell_type": "markdown",
   "metadata": {},
   "source": [
    "3 . (1 pt) Hoeveel verschillende partijen zitten er eigenlijk in het dataframe? Hoeveel zijn het er wel niet?<br>\n",
    "    A. Print de unieke waardes in die partij kolom eens uit. Natuurlijk netjes alfabetisch geordend.<br>\n",
    "    B. Hier zitten flink wat varianten van dezelfde partij bij. Schoon het eens flink op waarbij je string methodes gebruikt die alleen varianten op elkaar afbeelden, maar nooit van twee verschillende partijen dezelfde string maken. Hoeveel heb je er nu, en print de unieke waardes  nu eens uit. <br>\n",
    "    C. Vind alle verschillende manieren om naar de 'Partij van de Arbeid' te refereren. Laat die zien samen met hoe vaak die manier voorkomt."
   ]
  },
  {
   "cell_type": "markdown",
   "metadata": {},
   "source": [
    "#### A"
   ]
  },
  {
   "cell_type": "code",
   "execution_count": 23,
   "metadata": {},
   "outputs": [
    {
     "name": "stdout",
     "output_type": "stream",
     "text": [
      "Lengte unique zonder filter:  108\n",
      "\n",
      " PvdA\n",
      " SP\n",
      " D66\n",
      " GroenLinks\n",
      " CDA\n",
      " SGP\n",
      " GPV\n",
      " VVD\n",
      " AOV\n",
      " RPF\n",
      " Hendriks\n",
      " Groenlinks\n",
      " Unie 55+\n",
      " SPG\n",
      " GVP\n",
      " OSF\n",
      " Justitie\n",
      " RPF-GPV\n",
      " GL\n",
      " ChristenUnie\n",
      " Partij van de Arbeid\n",
      " Onafhankelijke Senaatsfractie\n",
      " Leefbaar Nederland\n",
      " LPF\n",
      " LN\n",
      " Groen Links\n",
      " VDD\n",
      " Ouderen Unie 55+\n",
      " Verkerk\n",
      " groep Nijpels\n",
      " GroepLazrak\n",
      " Groep Nijpels\n",
      " Groep Lazrak\n",
      " Groep Wilders\n",
      " Groep-Hendriks\n",
      " GroepWilders\n",
      " Groep Nawijn\n",
      " PvdA-fractie\n",
      " groep-Hendriks\n",
      " CU\n",
      " Groep van Oudenallen\n",
      " Groep Van Oudenallen\n",
      " Groep Eerdmans/Van Schijndel\n",
      " PVV\n",
      " Partij voor de Dieren\n",
      " Groep Eerdmans-van Schijndel\n",
      " Partij voor de Vrijheid\n",
      " PvdD\n",
      " fractie Hendriks\n",
      " SP-fractie\n",
      " Verdonk\n",
      " Vragen over de toenemende haat van moslims tegen homo''s, naar aanleiding van het bericht ''Homomodel van catwalk getrokken'' (website ad).\n",
      "nan\n",
      " Vragen naar aanleiding van het artikel in de Gelderlander van 1 april 2008 over de onrechtmatigheid van het hanteren van het verzamelinkomen als norm bij alle vormen van uitkering of eigenbijdrage die werknemers die een onkostenvergoeding ontvangen.\n",
      " Vragen naar aanleiding bericht (Wereldomroep) dat de ISLA-raffinaderij op Curaçao recent tot twee keer toe is stilgelegd, met uitstoot van grote hoeveelheden roet en zwavel, wat leidde tot grote overlast en evacuatie van scholen. De Antilliaanse overheid zou de burgers tot op heden niet geïnformeerd hebben tegen de gevaren als gevolg van stelselmatige overschrijding van de zwaveldioxidenorm. Indieners vragen om inzet van de staatssecretaris van BZK.\n",
      " CD\n",
      " Vragen naar aanleiding van het bericht ''Gevangenen in Uruzgan na overdracht geslagen'' op de website van NRC, 29 april 2008. Deze vragen dienen ter aanvulling op eerdere vragen hierover van de leden Peters en Duyvendak (GroenLinks), ingezonden 7 mei 2008, en van het lid Pechtold (D66), ingezonden 7 mei 2008.\n",
      " HDRK\n",
      " Onderwijscommissie\n",
      " Fractie-Bierman\n",
      " Unie55+\n",
      " Fr. Hendriks\n",
      " GroepNijpels\n",
      " Fractie Hendriks\n",
      " groep-Nijpels\n",
      " fractie Verkerk\n",
      " Martin Batenburg\n",
      " MartinBatenburg\n",
      " \n",
      " FVdA\n",
      " PvDA\n",
      " GroenLmks\n",
      " groep-Ockels\n",
      " beiden CDA\n",
      " allen D66\n",
      " beiden VVD\n",
      " fractie D66\n",
      " beiden D66\n",
      " (CDA\n",
      " beiden GroenLinks\n",
      " Groen links\n",
      " beiden PvdA\n",
      " (VVD\n",
      " beiden Groen Links\n",
      " lid CDA\n",
      " (PvdA\n",
      " CD-A\n",
      " 066\n",
      " Centrumdemocraten\n",
      " PPR\n",
      " PSP\n",
      " D'66\n",
      " V VD\n",
      " FSP\n",
      " C DA\n",
      " CDA,\n",
      " (PPR\n",
      " EVP\n",
      " pvdA\n",
      " CPN\n",
      " R,P,F\n",
      " G,P,V\n",
      " PvdA,\n",
      " CD,A\n",
      " groep Scholten\n",
      " d'66\n",
      " Vragen naar aanleiding van een bericht in De Telegraaf van 15 mei 2008, waarin melding wordt gemaakt van gestolen goederen die ongewild door consumenten in Nederlandse winkels worden gekocht.\n",
      " Indieners vragen zich af waarom de Koninklijke Marechaussee op dit moment geen actieve rol speelt bij de aanpak van de ernstige drugsprblematiek in Maastricht en omgeving, die veroorzaakt wordt door het drugstoerisme. De Marechaussee wordt bij de uitoefening van het mobiel vreemdelingentoezicht ook geconfronteerd met drugstoerisme, maar grijp daar op grond van het takenpakket nog niet op in.\n"
     ]
    }
   ],
   "source": [
    "partijunique = kvr[\"Partij\"].unique()\n",
    "print (\"Lengte unique zonder filter: \" ,len(partijunique))\n",
    "print ()\n",
    "for x in partijunique:\n",
    "    print (x)\n",
    "# Doet een beetje moeilijk door de speciale leestekens, dus niet 100% goed geordend."
   ]
  },
  {
   "cell_type": "markdown",
   "metadata": {},
   "source": [
    "#### B"
   ]
  },
  {
   "cell_type": "code",
   "execution_count": 24,
   "metadata": {},
   "outputs": [
    {
     "name": "stdout",
     "output_type": "stream",
     "text": [
      "\n",
      "sp\n",
      "spg\n",
      "fractiehendriks\n",
      "pvdafractie\n",
      "cpn\n",
      "onafhankelijkesenaatsfractie\n",
      "hdrk\n",
      "vdd\n",
      "fsp\n",
      "gvp\n",
      "aov\n",
      "d66\n",
      "allend66\n",
      "gl\n",
      "onderwijscommissie\n",
      "groenlinks\n",
      "066\n",
      "cu\n",
      "justitie\n",
      "leefbaarnederland\n",
      "christenunie\n",
      "frhendriks\n",
      "rpfgpv\n",
      "spfractie\n",
      "groeplazrak\n",
      "martinbatenburg\n",
      "ln\n",
      "fractied66\n",
      "pvv\n",
      "unie55\n",
      "groepvanoudenallen\n",
      "psp\n",
      "groepockels\n",
      "groenlmks\n",
      "lpf\n",
      "partijvoordedieren\n",
      "groepnijpels\n",
      "ppr\n",
      "groephendriks\n",
      "sgp\n",
      "fvda\n",
      "groepwilders\n",
      "hendriks\n",
      "ouderenunie55\n",
      "partijvandearbeid\n",
      "partijvoordevrijheid\n",
      "cda\n",
      "groepscholten\n",
      "pvdd\n",
      "lidcda\n",
      "fractieverkerk\n",
      "cd\n",
      "pvda\n",
      "gpv\n",
      "groepeerdmansvanschijndel\n",
      "fractiebierman\n",
      "rpf\n",
      "centrumdemocraten\n",
      "osf\n",
      "groepnawijn\n",
      "verdonk\n",
      "vvd\n",
      "verkerk\n",
      "evp\n",
      "\n",
      "Nu zijn het er nog maar:  65\n",
      "Dat zijn er 43 minder!\n"
     ]
    }
   ],
   "source": [
    "#Zoveel mogelijk automatisch gefilterd! Je kan handmatig nog meer samenvoegen, maar daar gaat het nu niet om.\n",
    "partijensorted = sorted(partijunique, key=str)\n",
    "\n",
    "partijenl = [''.join(e for e in str(x).lower() if e.isalnum()) for x in partijensorted if len(str(x))< 40][:-1]\n",
    "partijenl = set(partijenl)\n",
    "newpartijenl= []\n",
    "for x in partijenl:\n",
    "    if \"beiden\" in x:\n",
    "        newpartijenl.append(x.replace(\"beiden\", \"\"))\n",
    "    else:\n",
    "        newpartijenl.append(x)\n",
    "\n",
    "for y in set(newpartijenl):\n",
    "    print (y)\n",
    "\n",
    "print ()\n",
    "print (\"Nu zijn het er nog maar: \",len(set(newpartijenl)))\n",
    "print (\"Dat zijn er\",(len(partijunique)-len(set(newpartijenl))),\"minder!\")"
   ]
  },
  {
   "cell_type": "markdown",
   "metadata": {},
   "source": [
    "#### C"
   ]
  },
  {
   "cell_type": "code",
   "execution_count": 25,
   "metadata": {},
   "outputs": [
    {
     "name": "stdout",
     "output_type": "stream",
     "text": [
      "Counter({'PvdA': 8148, 'beiden PvdA': 3, 'PvdA-fractie': 2, 'Partij van de Arbeid': 1, 'PvDA': 1, '(PvdA': 1, 'pvdA': 1, 'PvdA,': 1})\n"
     ]
    }
   ],
   "source": [
    "partijlijst = kvr['Partij'].tolist()\n",
    "pvdalijst = ['PvdA','Partij van de Arbeid','PvdA-fractie', 'PvDA', 'beiden PvdA', '(PvdA', 'pvdA', 'PvdA,']\n",
    "partijlijst = [str(x)[1:] for x in partijlijst if str(x)[1:] in pvdalijst]\n",
    "\n",
    "print (Counter(partijlijst))"
   ]
  },
  {
   "cell_type": "markdown",
   "metadata": {},
   "source": [
    "4 . (1 pt) Welke ministeries bevraagt de Partij voor de Dieren vooral?<br>\n",
    "Maak een horizontaal bar plotje waarin je alleen de ministeries vermeldt die minstens 5 keer door deze partij bevraagt zijn.<br>\n",
    "Print ook het percentage vragen uit die deze partij stelt aan de winnaar (het ministerie dat ze het meest bevragen).<br> Zorg dat je netjes afrondt op slechts 1 cijfer achter de komma."
   ]
  },
  {
   "cell_type": "code",
   "execution_count": 92,
   "metadata": {},
   "outputs": [
    {
     "data": {
      "text/plain": [
       "383"
      ]
     },
     "execution_count": 92,
     "metadata": {},
     "output_type": "execute_result"
    }
   ],
   "source": [
    "import math\n",
    "pvdd= [' Partij voor de Dieren', ' PvdD']\n",
    "\n",
    "kvr4 = kvr.loc[(kvr['Partij'].isin(pvdd))]\n",
    "\n",
    "ministerielijst = kvr4['Appartement'].tolist()\n",
    "ministerielijst = [x for x in ministerielijst if str(x) != 'nan']\n",
    "min5 = list(Counter(ministerielijst).most_common(7))\n",
    "#print (kvr4)"
   ]
  },
  {
   "cell_type": "code",
   "execution_count": 85,
   "metadata": {},
   "outputs": [],
   "source": [
    "x = [minis[0][1:] for minis in min5]\n",
    "y= [minis[1] for minis in min5]"
   ]
  },
  {
   "cell_type": "code",
   "execution_count": 86,
   "metadata": {},
   "outputs": [
    {
     "data": {
      "image/png": "[encoded data removed]",
      "text/plain": [
       "<matplotlib.figure.Figure at 0x1a095012940>"
      ]
     },
     "metadata": {},
     "output_type": "display_data"
    }
   ],
   "source": [
    "import matplotlib.pyplot as plt\n",
    " \n",
    "objects = x\n",
    "y_pos = np.arange(len(objects))\n",
    "performance = y\n",
    " \n",
    "plt.bar(y_pos, performance, align='center', alpha=0.5)\n",
    "plt.xticks(y_pos, objects, rotation='vertical')\n",
    "plt.ylabel('Vragen')\n",
    "plt.title('Ministeries')\n",
    " \n",
    "plt.show()"
   ]
  },
  {
   "cell_type": "code",
   "execution_count": 100,
   "metadata": {},
   "outputs": [
    {
     "name": "stdout",
     "output_type": "stream",
     "text": [
      "Percentage vragen aan LNV:  70.0 %\n"
     ]
    }
   ],
   "source": [
    "print ('Percentage vragen aan LNV: ', round(y[0]/len(ministerielijst) *100,1), \"%\")"
   ]
  },
  {
   "cell_type": "markdown",
   "metadata": {},
   "source": [
    "5 . (1.5pt) Hoeveel vragen worden er gesteld over varkens? <br>\n",
    "Als je problemen krijgt gooi dan de regels weg waarin de waarde op de vraag kolom \"missing\" is. <br>\n",
    "Laat weer netjes in een histogram zien welke partijen vooral over varkens vragen. <br>\n",
    "Laat ook eens zien hoe die vragen over de tijd verdeeld zijn.<br>\n",
    "Natuurlijk orden je de tijd netjes chronologisch."
   ]
  },
  {
   "cell_type": "code",
   "execution_count": 127,
   "metadata": {},
   "outputs": [],
   "source": [
    "varkenteller =kvr['Vraag'].str.contains('Varken', flags=re.IGNORECASE)"
   ]
  },
  {
   "cell_type": "code",
   "execution_count": 128,
   "metadata": {},
   "outputs": [
    {
     "name": "stdout",
     "output_type": "stream",
     "text": [
      "Er worden 245 vragen gesteld over varkens!\n"
     ]
    }
   ],
   "source": [
    "print ('Er worden', varkenteller.sum(), 'vragen gesteld over varkens!')"
   ]
  },
  {
   "cell_type": "code",
   "execution_count": 171,
   "metadata": {},
   "outputs": [],
   "source": [
    "varkenlijst = []\n",
    "tijdlijst= []\n",
    "teller = 0\n",
    "\n",
    "for rec in kvr[\"Vraag\"].iteritems():\n",
    "    if ('varken') in str(rec[1]).lower():\n",
    "        varkenlijst.append(kvr[\"Partij\"][teller][1:])\n",
    "        tijdlijst.append(kvr[\"Jaar\"][teller][1:])\n",
    "    teller += 1"
   ]
  },
  {
   "cell_type": "code",
   "execution_count": 172,
   "metadata": {},
   "outputs": [],
   "source": [
    "varklmostcommon = list(Counter(varkenlijst).most_common(7))\n",
    "x = [partij[0] for partij in varklmostcommon]\n",
    "y = [partij[1] for partij in varklmostcommon]\n",
    "#print (x,y)"
   ]
  },
  {
   "cell_type": "code",
   "execution_count": 173,
   "metadata": {
    "scrolled": false
   },
   "outputs": [
    {
     "data": {
      "image/png": "[encoded data removed]",
      "text/plain": [
       "<matplotlib.figure.Figure at 0x1a086d29f28>"
      ]
     },
     "metadata": {},
     "output_type": "display_data"
    }
   ],
   "source": [
    "import matplotlib.pyplot as plt\n",
    " \n",
    "objects = x\n",
    "y_pos = np.arange(len(objects))\n",
    "performance = y\n",
    " \n",
    "plt.bar(y_pos, performance, align='center', alpha=0.5)\n",
    "plt.xticks(y_pos, objects, rotation='vertical')\n",
    "plt.ylabel('Vragen')\n",
    "plt.title('Ministeries')\n",
    " \n",
    "plt.show()"
   ]
  },
  {
   "cell_type": "code",
   "execution_count": 189,
   "metadata": {},
   "outputs": [],
   "source": [
    "tijdlmostcommon = (Counter(tijdlijst).most_common(len(Counter(tijdlijst))))\n",
    "x = [partij[0] for partij in tijdlmostcommon]\n",
    "y = [partij[1] for partij in tijdlmostcommon]"
   ]
  },
  {
   "cell_type": "code",
   "execution_count": 190,
   "metadata": {
    "scrolled": true
   },
   "outputs": [
    {
     "data": {
      "image/png": "[encoded data removed]",
      "text/plain": [
       "<matplotlib.figure.Figure at 0x1a0a31b9d30>"
      ]
     },
     "metadata": {},
     "output_type": "display_data"
    }
   ],
   "source": [
    "import matplotlib.pyplot as plt\n",
    " \n",
    "objects = x\n",
    "y_pos = np.arange(len(objects))\n",
    "performance = y\n",
    " \n",
    "plt.bar(y_pos, performance, align='center', alpha=0.5)\n",
    "plt.xticks(y_pos, objects, rotation='vertical')\n",
    "plt.ylabel('Vragen')\n",
    "plt.title('Ministeries')\n",
    " \n",
    "plt.show()"
   ]
  },
  {
   "cell_type": "markdown",
   "metadata": {},
   "source": [
    "6 . (1.5pt) Elke vraag bestaat vaak uit een aantal deelvragen.<br>\n",
    "    A. Verzin een manier om het aantal deelvragen in een vraag te meten en te tellen. Wat is het gemiddeld aantal deelvragen, wat is de mediaan en de modus? Maak een histogram: hoe vaak komt een aantal deelvragen voor?<br>\n",
    "    B. Beargumenteer dat jouw manier om deelvragen te tellen echt ergens op slaat.<br>\n",
    "    C. Er lijken gekke outliers tussen te zitten. Benoem ze en verwijder ze voor de volgende vragen.<br> \n",
    "    D. Laat het verband zien tussen het aantal deelvragen en de lengte van de hele vraag (bijvoorbeeld gemeten in aantal karakters). Doe dit bijvoorbeeld met een mooi regressieplotje.<br>\n",
    "    E. Bereken de correlaties tussen het aantal deelvragen, de lengte van de vraag en de lengte van het antwoord. Beschrijf wat je hebt berekend en interpreteer het. "
   ]
  },
  {
   "cell_type": "markdown",
   "metadata": {},
   "source": [
    "#### A"
   ]
  },
  {
   "cell_type": "code",
   "execution_count": 243,
   "metadata": {},
   "outputs": [
    {
     "name": "stdout",
     "output_type": "stream",
     "text": [
      "Het gemiddelde is 7.21855374593\n",
      "De mediaan is 6.0\n",
      "De modus is 4\n"
     ]
    }
   ],
   "source": [
    "from scipy import stats\n",
    "lijst = []\n",
    "lijstlengte = []\n",
    "teller = 0\n",
    "for vraag in list(kvr['Vraag']):\n",
    "    if str(vraag).count('?') > 0: # we filteren de lege counts, want dat zijn geen vragen!\n",
    "        lijst.append(str(vraag).count('?')-1) # we halen er 1 af, want 1 vraagteken is de originele vraag.\n",
    "        lijstlengte.append(len(str(vraag)))\n",
    "    teller += 1\n",
    "    \n",
    "mean = np.mean(lijst)\n",
    "median = np.median(lijst)\n",
    "mode = stats.mode(lijst)[0][0]\n",
    "print ('Het gemiddelde is',mean)\n",
    "print ('De mediaan is',median)\n",
    "print ('De modus is', mode)"
   ]
  },
  {
   "cell_type": "code",
   "execution_count": 236,
   "metadata": {},
   "outputs": [
    {
     "name": "stdout",
     "output_type": "stream",
     "text": [
      "[4, 5, 3, 6, 7, 8, 2, 9, 10, 11, 12, 13, 1, 14, 15, 16, 17, 18, 19, 0, 20, 21, 23, 22, 25, 24, 26, 27, 28, 29]\n"
     ]
    }
   ],
   "source": [
    "deelvraaglijst = Counter(lijst).most_common(30) #Bij meer dan 30 heeft het geen nut meer, en zie je niks meer!\n",
    "x = [item[0] for item in deelvraaglijst]\n",
    "y = [item[1] for item in deelvraaglijst]"
   ]
  },
  {
   "cell_type": "code",
   "execution_count": 233,
   "metadata": {
    "scrolled": true
   },
   "outputs": [
    {
     "data": {
      "image/png": "[encoded data removed]",
      "text/plain": [
       "<matplotlib.figure.Figure at 0x1a0aa87b240>"
      ]
     },
     "metadata": {},
     "output_type": "display_data"
    }
   ],
   "source": [
    "import matplotlib.pyplot as plt\n",
    " \n",
    "objects = x\n",
    "y_pos = np.arange(len(objects))\n",
    "performance = y\n",
    " \n",
    "plt.bar(y_pos, performance, align='center', alpha=0.5)\n",
    "plt.xticks(y_pos, objects, rotation='vertical')\n",
    "plt.ylabel('Vragen')\n",
    "plt.title('Ministeries')\n",
    " \n",
    "plt.show()"
   ]
  },
  {
   "cell_type": "markdown",
   "metadata": {},
   "source": [
    "#### B\n",
    "\n",
    "Wij tellen alle vraagtekens en beschouwen een zin met een vraagteken als een deelvraag. We tellen dus alle vraagteken met vraag en halen er 1 van af voor de originele vraag, dan heb je het aantal deelvragen. Omdat er vaak geen willekeurige vraagtekens in een zin staan en wel vaak punten tellen wij dus het aantal vraagtekens."
   ]
  },
  {
   "cell_type": "markdown",
   "metadata": {},
   "source": [
    "#### C\n",
    "\n",
    "We hebben de lege waardes er sowieso al uit gehaald, de vragen die uberhaupt geen enkel ? hebben.<br>\n",
    "In de tabel gebruiken we ook alleen de top 30, dus voor de volgende vragen gaan we die ook gebruiken, die hebben zoveel vraagtekens dat het niet meer logisch zijn dat het deelvragen zijn."
   ]
  },
  {
   "cell_type": "markdown",
   "metadata": {},
   "source": [
    "#### D\n"
   ]
  },
  {
   "cell_type": "code",
   "execution_count": 237,
   "metadata": {},
   "outputs": [],
   "source": [
    "xlijst = []\n",
    "ylijst = []\n",
    "for num in range(len(lijstlengte)):\n",
    "    if lijst[num] in x:\n",
    "        xlijst.append(lijst[num])\n",
    "        ylijst.append(lijstlengte[num])"
   ]
  },
  {
   "cell_type": "code",
   "execution_count": 241,
   "metadata": {},
   "outputs": [
    {
     "data": {
      "image/png": "[encoded data removed]",
      "text/plain": [
       "<matplotlib.figure.Figure at 0x1a0a261c358>"
      ]
     },
     "metadata": {},
     "output_type": "display_data"
    }
   ],
   "source": [
    "import matplotlib.pyplot as plt\n",
    "plt.scatter(xlijst, ylijst)\n",
    "\n",
    "#fit function\n",
    "f = lambda x: 0.1462*x - 0.8188\n",
    "# x values of line to plot\n",
    "x = np.array([0,100])\n",
    "# plot fit\n",
    "plt.plot(x,f(x),lw=2.5, c=\"k\",label=\"fit line between 0 and 100\")\n",
    "\n",
    "#better take min and max of x values\n",
    "x = np.array([min(xlijst),max(bill)])\n",
    "plt.plot(x,f(x), c=\"orange\", label=\"fit line between min and max\")\n",
    "\n",
    "plt.legend()\n",
    "plt.show()"
   ]
  },
  {
   "cell_type": "code",
   "execution_count": 250,
   "metadata": {},
   "outputs": [
    {
     "ename": "TypeError",
     "evalue": "'numpy.float64' object cannot be interpreted as an integer",
     "output_type": "error",
     "traceback": [
      "\u001b[1;31m---------------------------------------------------------------------------\u001b[0m",
      "\u001b[1;31mTypeError\u001b[0m                                 Traceback (most recent call last)",
      "\u001b[1;32m<ipython-input-250-f3a35df80a75>\u001b[0m in \u001b[0;36m<module>\u001b[1;34m()\u001b[0m\n\u001b[0;32m      7\u001b[0m \u001b[0mfig\u001b[0m\u001b[1;33m,\u001b[0m \u001b[0max\u001b[0m \u001b[1;33m=\u001b[0m \u001b[0mplt\u001b[0m\u001b[1;33m.\u001b[0m\u001b[0msubplots\u001b[0m\u001b[1;33m(\u001b[0m\u001b[1;33m)\u001b[0m\u001b[1;33m\u001b[0m\u001b[0m\n\u001b[0;32m      8\u001b[0m \u001b[0mfit\u001b[0m \u001b[1;33m=\u001b[0m \u001b[0mnp\u001b[0m\u001b[1;33m.\u001b[0m\u001b[0mpolyfit\u001b[0m\u001b[1;33m(\u001b[0m\u001b[0mx\u001b[0m\u001b[1;33m,\u001b[0m \u001b[0my\u001b[0m\u001b[1;33m,\u001b[0m \u001b[0mdeg\u001b[0m\u001b[1;33m=\u001b[0m\u001b[1;36m1\u001b[0m\u001b[1;33m)\u001b[0m\u001b[1;33m\u001b[0m\u001b[0m\n\u001b[1;32m----> 9\u001b[1;33m \u001b[0max\u001b[0m\u001b[1;33m.\u001b[0m\u001b[0mplot\u001b[0m\u001b[1;33m(\u001b[0m\u001b[0mx\u001b[0m\u001b[1;33m,\u001b[0m \u001b[0mfit\u001b[0m\u001b[1;33m[\u001b[0m\u001b[1;36m0\u001b[0m\u001b[1;33m]\u001b[0m \u001b[1;33m*\u001b[0m \u001b[0mx\u001b[0m \u001b[1;33m+\u001b[0m \u001b[0mfit\u001b[0m\u001b[1;33m[\u001b[0m\u001b[1;36m1\u001b[0m\u001b[1;33m]\u001b[0m\u001b[1;33m,\u001b[0m \u001b[0mcolor\u001b[0m\u001b[1;33m=\u001b[0m\u001b[1;34m'red'\u001b[0m\u001b[1;33m)\u001b[0m\u001b[1;33m\u001b[0m\u001b[0m\n\u001b[0m\u001b[0;32m     10\u001b[0m \u001b[0max\u001b[0m\u001b[1;33m.\u001b[0m\u001b[0mscatter\u001b[0m\u001b[1;33m(\u001b[0m\u001b[0mx\u001b[0m\u001b[1;33m,\u001b[0m \u001b[0my\u001b[0m\u001b[1;33m)\u001b[0m\u001b[1;33m\u001b[0m\u001b[0m\n\u001b[0;32m     11\u001b[0m \u001b[1;33m\u001b[0m\u001b[0m\n",
      "\u001b[1;31mTypeError\u001b[0m: 'numpy.float64' object cannot be interpreted as an integer"
     ]
    }
   ],
   "source": [
    "import matplotlib.pyplot as plt\n",
    "import numpy as np\n",
    "\n",
    "n = 50\n",
    "x = xlijst\n",
    "y = ylijst\n",
    "fig, ax = plt.subplots()\n",
    "fit = np.polyfit(x, y, deg=1)\n",
    "ax.plot(x, fit[0] * x + fit[1], color='red')\n",
    "ax.scatter(x, y)\n",
    "\n",
    "fig.show()"
   ]
  },
  {
   "cell_type": "markdown",
   "metadata": {
    "slideshow": {
     "slide_type": "slide"
    }
   },
   "source": [
    "## N1\n",
    "\n",
    "* Vind voor elke naam het totaal aantal jongens en het totaal aantal meisjes met die naam (totalen dus genomen over alle jaren)\n",
    "* Dit is natuurlijk weer een pivot table\n",
    "* We willen ook de totalen erbij\n",
    "* Orden de namen omgekeerd op het aantal keer dat ze voorkomen\n",
    "\n",
    "Je tabel moet er zo uitzien:\n",
    "* kolommen: sex\tF\tM\tAll\n",
    "* Rijen: ALL, gevolgd door de namen, \n",
    "\n",
    "```\n",
    "sex\tF\tM\tAll\n",
    "name\t\t\t\n",
    "All\t159990140\t162412587\t322402727\n",
    "James\t23044\t5049727\t5072771\n",
    "John\t21578\t5040319\t5061897\n",
    "Robert\t20055\t4767995\t4788050\n",
    "Michael\t21470\t4243903\t4265373\n",
    "```\n"
   ]
  },
  {
   "cell_type": "markdown",
   "metadata": {
    "slideshow": {
     "slide_type": "slide"
    }
   },
   "source": [
    "# N2\n",
    "\n",
    "* Now we want to find the most gender ambiguous names.\n",
    "* How can we do that? An intuitive measure is to take the logarithm of the number of males divided by the number of females. \n",
    "    * If it is close to 0, the name is very ambiguous\n",
    "    * if it is negative, it is a more femalish name\n",
    "    * if it is positive it is a more malish name\n",
    "    * if we take logarithm with base 2, then a value of $+n$, for a name $N$, means that $N$ is used $2^n$ more often for males than for females. E.g., for $n=4$, this means 16 times. \n",
    "   \n",
    "### Your task\n",
    "* Add a column `ratio` to your just created dataframe in which you divide the male by the female totals\n",
    "* Using `np.log`, compute the log measure. (Do not use `apply`).\n",
    "* Print out the top 20 most ambiguous names. Take those names with a \"log-value\" between $-0.1$ and $0.1$ and sort them reversely on the total number of babies with that name.\n",
    "\n"
   ]
  },
  {
   "cell_type": "markdown",
   "metadata": {
    "slideshow": {
     "slide_type": "slide"
    }
   },
   "source": [
    "# N3\n",
    "\n",
    "* We now want a dataframe containing non-ambiguous names.\n",
    "* Do two things.\n",
    "\n",
    "1. Add a column `gender` to your dataframe in which you store the winning gender.\n",
    "2. Restrict the dataframe to those names which occur at least 10.000 times and are used at least 16 times more for one gender than for the other.\n",
    "    * How many names are left?\n",
    "    * How many males and how many females?\n",
    "3. Store this as a csv file.\n",
    "3. Suppose we classify all children with the names from this csv file according to the gender column. Clearly we make some mistakes then (that is, for example  a boy named Sue is classified as a girl). Calculate the expected maximum percentage of mistakes, and also calculated the actual percentage of mistakes.\n",
    "\n"
   ]
  },
  {
   "cell_type": "markdown",
   "metadata": {
    "collapsed": true,
    "slideshow": {
     "slide_type": "slide"
    }
   },
   "source": [
    "# N4\n",
    "\n",
    "We continue the analysis of errors. We take the set of persons in the restricted dataframe from the last question again as our \"golden truth\" data. So we compute the error rates on that.\n",
    "\n",
    "\n",
    "1. For which name do we make the most errors? \n",
    "2. For which name do we make the highest relative number of errors (has the highest error rate)?\n",
    "3. Do we make more errors for males or for females? So compute the actual error rate for both genders.\n",
    "4. How do these two error rates relate to the error rate that you calculated in question N3?\n"
   ]
  },
  {
   "cell_type": "markdown",
   "metadata": {},
   "source": [
    "# N5\n",
    "\n",
    "Suppose you have a dataframe with columns _predicted_ and _actual_. The rows represent people and in these two columns is the predicted and actual BMI of these people stored.\n",
    "\n",
    "1. Give a oneliner in which you calculate the [RMSE](https://en.wikipedia.org/wiki/Mean_squared_error) based on this dataframe.\n",
    "2. Also download a file with such measurements from the web, and apply your oneliner on it.\n",
    "3. Now add a new column to your dataframe called _predictedbaseline_ in which you store for each person the mean actual BMI. Now calculated the RMSE between the _actual_ and this new prediction. Explain what you have calculated using terminology from statistics. I really mean _explain_, so not just give a fancy sounding term, but also argue using formulas that what you did is correct."
   ]
  },
  {
   "cell_type": "code",
   "execution_count": null,
   "metadata": {},
   "outputs": [],
   "source": []
  },
  {
   "cell_type": "code",
   "execution_count": null,
   "metadata": {},
   "outputs": [],
   "source": []
  },
  {
   "cell_type": "code",
   "execution_count": null,
   "metadata": {},
   "outputs": [],
   "source": []
  },
  {
   "cell_type": "code",
   "execution_count": null,
   "metadata": {},
   "outputs": [],
   "source": []
  }
 ],
 "metadata": {
  "anaconda-cloud": {},
  "celltoolbar": "Slideshow",
  "kernelspec": {
   "display_name": "Python 3",
   "language": "python",
   "name": "python3"
  },
  "language_info": {
   "codemirror_mode": {
    "name": "ipython",
    "version": 3
   },
   "file_extension": ".py",
   "mimetype": "text/x-python",
   "name": "python",
   "nbconvert_exporter": "python",
   "pygments_lexer": "ipython3",
   "version": "3.6.3"
  }
 },
 "nbformat": 4,
 "nbformat_minor": 1
}
