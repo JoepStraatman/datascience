{
 "cells": [
  {
   "cell_type": "markdown",
   "metadata": {},
   "source": [
    "# Assignment Data Structures and algorithms\n",
    "\n",
    "## Notebook made by  \n",
    "\n",
    "|** Name** | **Student id** | **email**|\n",
    "|:- |:-|:-|\n",
    "|. | | |\n",
    "|  | |. |\n",
    "\n",
    "### Pledge (taken from [Coursera's Honor Code](https://www.coursera.org/about/terms/honorcode) )\n",
    "\n",
    "\n",
    "\n",
    "Put here a selfie with your photo where you hold a signed paper with the following text: (if this is team work, put two selfies here). The link must be to some place on the web, not to a local file. \n",
    "\n",
    "> My answers to homework, quizzes and exams will be my own work (except for assignments that explicitly permit collaboration).\n",
    "\n",
    ">I will not make solutions to homework, quizzes or exams available to anyone else. This includes both solutions written by me, as well as any official solutions provided by the course staff.\n",
    "\n",
    ">I will not engage in any other activities that will dishonestly improve my results or dishonestly improve/hurt the results of others.\n",
    "\n",
    "<img src='link to your selfie'/>\n",
    "\n",
    "### Note\n",
    "* **Assignments without the selfies or completely filled in information will not be graded and receive 0 points.**\n"
   ]
  },
  {
   "cell_type": "markdown",
   "metadata": {},
   "source": [
    "# Data Structures/Numpy assignment\n",
    "\n",
    "1. Gebruik de numpy variant van `range` en slicing om een numpy array met de eerste 144 getallen te maken die deelbaar zijn door 7. Noem het array `L`.\n",
    "2. Gebruik `reshape` om `L` te veranderen in een vierkant numpy array `S` met dezelfde elementen als `L`.\n",
    "3. Gebruik `reshape` om `L` te veranderen in een 2D array met `shape (144,1)`.\n",
    "4. Doe hetzelfde maar nu met `np.newaxis`.\n",
    "5. Geef een test waarmee je laat zien dat je antwoorden op de vorige twee vragen inderdaad hetzelfde array opleveren. Je test heeft een boolse waarde.\n",
    "5. Pak de laatste kolom van `S`.\n",
    "6. Maak uit `S` het 1D array met alle getallen uit `S` deelbaar door 10.\n",
    "7. Wat is het gemiddelde van `S`? Wat is het gemiddelde per kolom van `S`?\n",
    "8. Tel bij elk element in de 0de kolom van `S` 0 op, bij de eerste 1, bij de tweede 2, etc. De tweede  regel zal er dan zo uitzien: `[  84,   92,  100,  108,  116,  124,  132,  140,  148,  156,  164, 172]`\n",
    "10. Pak het middelste 4x4 vierkant uit `S`.\n",
    "\n",
    "### Maak zelf tentamen vragen\n",
    "\n",
    "Maak zelf 2 uitgebreide opgaven plus uitgewerkte antwoorden met kleine 2D numpy array's voor de volgende onderwerpen:\n",
    "1. Slicing en indexing in 2D arrays.\n",
    "2. Fancy indexing en Boolean indexing.\n",
    "3. Gebruik van universal functions in plaats van loops.\n",
    "4. Broadcasting\n",
    "\n",
    "\n",
    "#### Voorbeeld\n",
    "\n",
    "Dit is een potpourri opgave waarin we een mix van numpy technieken gebruiken.\n",
    "1. Maak een 2D numpy array gevuld met 0 en 1 waarin we 5 experimenten met het 5 keer gooien met een eerlijke munt nabootsen. (in plaats van kop en munt gebruiken we dus 0 en 1). Elke rij staat dus voor 1 experiment. Gebruik `np.random.binomial`. \n",
    "2. In welke rijen wordt    vaker dan het gemiddelde van alle  keren gooien een 1   gegooid?\n",
    "3. Beperk het 2D array tot alleen die rijen met behulp  van boolean indexing.\n",
    "\n",
    "#### Antwoord\n",
    "\n",
    "```\n",
    "#1\n",
    "L= np.random.binomial(1,.5,(5,5))\n",
    "#2\n",
    "L.mean(axis=1) > L.mean()\n",
    "#3\n",
    "L[L.mean(axis=1) > L.mean(),:]\n",
    "```\n",
    "\n",
    "\n",
    "# Algorithms:  Breadth first search \n",
    "\n",
    " Maak een Python programma/functie dat als input een netwerk (in NetworkX formaat) en een knoop 'x' in dat netwerk neemt en  een dict oplevert met afstanden als sleutels en de verzameling met knopen op die afstand van de input-knoop als waarden. Zie het voorbeeld hieronder. Hieronder  de output van `BFS(G,24)`.\n",
    "* Volg het algorithme in sectie 2.3 van [het Easley en Kleinberg boek](https://www.cs.cornell.edu/home/kleinber/networks-book/networks-book-ch02.pdf)\n",
    "* Gebruik geen networkx functie die de korte paden berekent. Je doet alles zelf volgens het breadth first principe. \n",
    "* Een heel logische oplossing is om te werken met een while loop. Want op een verbonden netwerk zal je na verloop van tijd **alle** knopen gehad hebben, en dus klaar zijn. Je typische loop is dus _zolang er nog knopen zijn die ik nooit gezien heb_, of _zolang ik nog buren vind die ik niet eerder gezien heb_, doe het werk.\n",
    "* **Hint** werk met verzamelingen en gebruik handige operaties op verzamelingen als union (dat kan met '|') en complement (dat kan met '-').\n",
    "\n",
    "\n",
    "```\n",
    "{0: {24},\n",
    " 1: {25, 27, 31},\n",
    " 2: {0, 2, 23, 28, 32, 33},\n",
    " 3: {1,\n",
    "  3,\n",
    "  4,\n",
    "   ....\n",
    "  29,\n",
    "  30},\n",
    " 4: {16}}\n",
    " ```\n"
   ]
  },
  {
   "cell_type": "code",
   "execution_count": 2,
   "metadata": {
    "collapsed": true
   },
   "outputs": [],
   "source": [
    "import numpy as np\n",
    "import random"
   ]
  },
  {
   "cell_type": "markdown",
   "metadata": {},
   "source": [
    "1. Gebruik de numpy variant van range en slicing om een numpy array met de eerste 144 getallen te maken die deelbaar zijn door 7. Noem het array L."
   ]
  },
  {
   "cell_type": "code",
   "execution_count": 43,
   "metadata": {},
   "outputs": [
    {
     "name": "stdout",
     "output_type": "stream",
     "text": [
      "[   0    7   14   21   28   35   42   49   56   63   70   77   84   91   98\n",
      "  105  112  119  126  133  140  147  154  161  168  175  182  189  196  203\n",
      "  210  217  224  231  238  245  252  259  266  273  280  287  294  301  308\n",
      "  315  322  329  336  343  350  357  364  371  378  385  392  399  406  413\n",
      "  420  427  434  441  448  455  462  469  476  483  490  497  504  511  518\n",
      "  525  532  539  546  553  560  567  574  581  588  595  602  609  616  623\n",
      "  630  637  644  651  658  665  672  679  686  693  700  707  714  721  728\n",
      "  735  742  749  756  763  770  777  784  791  798  805  812  819  826  833\n",
      "  840  847  854  861  868  875  882  889  896  903  910  917  924  931  938\n",
      "  945  952  959  966  973  980  987  994 1001]\n"
     ]
    }
   ],
   "source": [
    "# vanaf hier je numpy antwoorden\n",
    "L = np.arange(0,1008,7)\n",
    "print (L)"
   ]
  },
  {
   "cell_type": "markdown",
   "metadata": {},
   "source": [
    "2 .  Gebruik reshape om L te veranderen in een vierkant numpy array S met dezelfde elementen als L."
   ]
  },
  {
   "cell_type": "code",
   "execution_count": 46,
   "metadata": {},
   "outputs": [
    {
     "name": "stdout",
     "output_type": "stream",
     "text": [
      "[[   0    7   14   21   28   35   42   49   56   63   70   77]\n",
      " [  84   91   98  105  112  119  126  133  140  147  154  161]\n",
      " [ 168  175  182  189  196  203  210  217  224  231  238  245]\n",
      " [ 252  259  266  273  280  287  294  301  308  315  322  329]\n",
      " [ 336  343  350  357  364  371  378  385  392  399  406  413]\n",
      " [ 420  427  434  441  448  455  462  469  476  483  490  497]\n",
      " [ 504  511  518  525  532  539  546  553  560  567  574  581]\n",
      " [ 588  595  602  609  616  623  630  637  644  651  658  665]\n",
      " [ 672  679  686  693  700  707  714  721  728  735  742  749]\n",
      " [ 756  763  770  777  784  791  798  805  812  819  826  833]\n",
      " [ 840  847  854  861  868  875  882  889  896  903  910  917]\n",
      " [ 924  931  938  945  952  959  966  973  980  987  994 1001]]\n"
     ]
    }
   ],
   "source": [
    "S = np.reshape(L,(12,12))\n",
    "print (S)"
   ]
  },
  {
   "cell_type": "markdown",
   "metadata": {},
   "source": [
    "3 . Gebruik reshape om L te veranderen in een 2D array met shape (144,1)."
   ]
  },
  {
   "cell_type": "code",
   "execution_count": 47,
   "metadata": {},
   "outputs": [
    {
     "data": {
      "text/plain": [
       "array([[   0],\n",
       "       [   7],\n",
       "       [  14],\n",
       "       [  21],\n",
       "       [  28],\n",
       "       [  35],\n",
       "       [  42],\n",
       "       [  49],\n",
       "       [  56],\n",
       "       [  63],\n",
       "       [  70],\n",
       "       [  77],\n",
       "       [  84],\n",
       "       [  91],\n",
       "       [  98],\n",
       "       [ 105],\n",
       "       [ 112],\n",
       "       [ 119],\n",
       "       [ 126],\n",
       "       [ 133],\n",
       "       [ 140],\n",
       "       [ 147],\n",
       "       [ 154],\n",
       "       [ 161],\n",
       "       [ 168],\n",
       "       [ 175],\n",
       "       [ 182],\n",
       "       [ 189],\n",
       "       [ 196],\n",
       "       [ 203],\n",
       "       [ 210],\n",
       "       [ 217],\n",
       "       [ 224],\n",
       "       [ 231],\n",
       "       [ 238],\n",
       "       [ 245],\n",
       "       [ 252],\n",
       "       [ 259],\n",
       "       [ 266],\n",
       "       [ 273],\n",
       "       [ 280],\n",
       "       [ 287],\n",
       "       [ 294],\n",
       "       [ 301],\n",
       "       [ 308],\n",
       "       [ 315],\n",
       "       [ 322],\n",
       "       [ 329],\n",
       "       [ 336],\n",
       "       [ 343],\n",
       "       [ 350],\n",
       "       [ 357],\n",
       "       [ 364],\n",
       "       [ 371],\n",
       "       [ 378],\n",
       "       [ 385],\n",
       "       [ 392],\n",
       "       [ 399],\n",
       "       [ 406],\n",
       "       [ 413],\n",
       "       [ 420],\n",
       "       [ 427],\n",
       "       [ 434],\n",
       "       [ 441],\n",
       "       [ 448],\n",
       "       [ 455],\n",
       "       [ 462],\n",
       "       [ 469],\n",
       "       [ 476],\n",
       "       [ 483],\n",
       "       [ 490],\n",
       "       [ 497],\n",
       "       [ 504],\n",
       "       [ 511],\n",
       "       [ 518],\n",
       "       [ 525],\n",
       "       [ 532],\n",
       "       [ 539],\n",
       "       [ 546],\n",
       "       [ 553],\n",
       "       [ 560],\n",
       "       [ 567],\n",
       "       [ 574],\n",
       "       [ 581],\n",
       "       [ 588],\n",
       "       [ 595],\n",
       "       [ 602],\n",
       "       [ 609],\n",
       "       [ 616],\n",
       "       [ 623],\n",
       "       [ 630],\n",
       "       [ 637],\n",
       "       [ 644],\n",
       "       [ 651],\n",
       "       [ 658],\n",
       "       [ 665],\n",
       "       [ 672],\n",
       "       [ 679],\n",
       "       [ 686],\n",
       "       [ 693],\n",
       "       [ 700],\n",
       "       [ 707],\n",
       "       [ 714],\n",
       "       [ 721],\n",
       "       [ 728],\n",
       "       [ 735],\n",
       "       [ 742],\n",
       "       [ 749],\n",
       "       [ 756],\n",
       "       [ 763],\n",
       "       [ 770],\n",
       "       [ 777],\n",
       "       [ 784],\n",
       "       [ 791],\n",
       "       [ 798],\n",
       "       [ 805],\n",
       "       [ 812],\n",
       "       [ 819],\n",
       "       [ 826],\n",
       "       [ 833],\n",
       "       [ 840],\n",
       "       [ 847],\n",
       "       [ 854],\n",
       "       [ 861],\n",
       "       [ 868],\n",
       "       [ 875],\n",
       "       [ 882],\n",
       "       [ 889],\n",
       "       [ 896],\n",
       "       [ 903],\n",
       "       [ 910],\n",
       "       [ 917],\n",
       "       [ 924],\n",
       "       [ 931],\n",
       "       [ 938],\n",
       "       [ 945],\n",
       "       [ 952],\n",
       "       [ 959],\n",
       "       [ 966],\n",
       "       [ 973],\n",
       "       [ 980],\n",
       "       [ 987],\n",
       "       [ 994],\n",
       "       [1001]])"
      ]
     },
     "execution_count": 47,
     "metadata": {},
     "output_type": "execute_result"
    }
   ],
   "source": [
    "np.reshape(L,(144,1))"
   ]
  },
  {
   "cell_type": "markdown",
   "metadata": {},
   "source": [
    "# Breadth First Search Antwoord"
   ]
  },
  {
   "cell_type": "code",
   "execution_count": 128,
   "metadata": {},
   "outputs": [
    {
     "data": {
      "image/png": "[encoded data removed]",
      "text/plain": [
       "<matplotlib.figure.Figure at 0x15180339e8>"
      ]
     },
     "metadata": {},
     "output_type": "display_data"
    }
   ],
   "source": [
    "import networkx as nx\n",
    "import matplotlib.pyplot as plt\n",
    "%matplotlib inline\n",
    "\n",
    "G=nx.karate_club_graph()\n",
    "\n",
    "nx.draw(G, with_labels=True)"
   ]
  },
  {
   "cell_type": "code",
   "execution_count": null,
   "metadata": {},
   "outputs": [],
   "source": [
    "# code om je op weg te helpen\n",
    "\n",
    "def BFS(G,n): \n",
    "    '''Given a network G and a node n in G, return a dict with distance to n in G as keys, \n",
    "    and the set of nodes with that distances to n as values.'''\n",
    "    # initialise\n",
    "    tree={}\n",
    "    distance =0\n",
    "    Next= \n",
    "    Memory =\n",
    "    # loop until no more nodes left\n",
    "    while Next:\n",
    "        # update tree dict\n",
    "        \n",
    "        #update distance and next\n",
    "         \n",
    "        # update memory\n",
    "         \n",
    "    return tree\n",
    "\n",
    "# test\n",
    "BFS(G,24)"
   ]
  },
  {
   "cell_type": "code",
   "execution_count": null,
   "metadata": {
    "collapsed": true
   },
   "outputs": [],
   "source": []
  }
 ],
 "metadata": {
  "anaconda-cloud": {},
  "kernelspec": {
   "display_name": "Python 3",
   "language": "python",
   "name": "python3"
  },
  "language_info": {
   "codemirror_mode": {
    "name": "ipython",
    "version": 3
   },
   "file_extension": ".py",
   "mimetype": "text/x-python",
   "name": "python",
   "nbconvert_exporter": "python",
   "pygments_lexer": "ipython3",
   "version": "3.6.3"
  }
 },
 "nbformat": 4,
 "nbformat_minor": 2
}
