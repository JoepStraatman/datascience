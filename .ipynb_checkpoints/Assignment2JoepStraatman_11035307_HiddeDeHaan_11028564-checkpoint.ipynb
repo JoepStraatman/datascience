{
 "cells": [
  {
   "cell_type": "markdown",
   "metadata": {},
   "source": [
    "# Assignment Data Structures and algorithms\n",
    "\n",
    "## Notebook made by  \n",
    "\n",
    "\n",
    "|** Name** | **Student id** | **email**|\n",
    "|: |:-|:-|\n",
    "|Hidde de Haan |11028564 |Hiddedehaan@hotmail.com |\n",
    "|Joep Straatman |11035307 |Straatmanjoep@gmail.com |\n",
    "|  | |. |\n",
    "\n",
    "### Pledge (taken from [Coursera's Honor Code](https://www.coursera.org/about/terms/honorcode) )\n",
    "\n",
    "\n",
    "\n",
    "Put here a selfie with your photo where you hold a signed paper with the following text: (if this is team work, put two selfies here). The link must be to some place on the web, not to a local file. \n",
    "\n",
    "> My answers to homework, quizzes and exams will be my own work (except for assignments that explicitly permit collaboration).\n",
    "\n",
    ">I will not make solutions to homework, quizzes or exams available to anyone else. This includes both solutions written by me, as well as any official solutions provided by the course staff.\n",
    "\n",
    ">I will not engage in any other activities that will dishonestly improve my results or dishonestly improve/hurt the results of others.\n",
    "\n",
    "<img src='http://i.imgur.com/3GMiSMB.jpg'/>\n",
    "\n",
    "### Note\n",
    "* **Assignments without the selfies or completely filled in information will not be graded and receive 0 points.**\n"
   ]
  },
  {
   "cell_type": "markdown",
   "metadata": {},
   "source": [
    "# Data Structures/Numpy assignment\n",
    "\n",
    "1. Gebruik de numpy variant van `range` en slicing om een numpy array met de eerste 144 getallen te maken die deelbaar zijn door 7. Noem het array `L`.\n",
    "2. Gebruik `reshape` om `L` te veranderen in een vierkant numpy array `S` met dezelfde elementen als `L`.\n",
    "3. Gebruik `reshape` om `L` te veranderen in een 2D array met `shape (144,1)`.\n",
    "4. Doe hetzelfde maar nu met `np.newaxis`.\n",
    "5. Geef een test waarmee je laat zien dat je antwoorden op de vorige twee vragen inderdaad hetzelfde array opleveren. Je test heeft een boolse waarde.\n",
    "5. Pak de laatste kolom van `S`.\n",
    "6. Maak uit `S` het 1D array met alle getallen uit `S` deelbaar door 10.\n",
    "7. Wat is het gemiddelde van `S`? Wat is het gemiddelde per kolom van `S`?\n",
    "8. Tel bij elk element in de 0de kolom van `S` 0 op, bij de eerste 1, bij de tweede 2, etc. De tweede  regel zal er dan zo uitzien: `[  84,   92,  100,  108,  116,  124,  132,  140,  148,  156,  164, 172]`\n",
    "10. Pak het middelste 4x4 vierkant uit `S`.\n",
    "\n",
    "### Maak zelf tentamen vragen\n",
    "\n",
    "Maak zelf 2 uitgebreide opgaven plus uitgewerkte antwoorden met kleine 2D numpy array's voor de volgende onderwerpen:\n",
    "1. Slicing en indexing in 2D arrays.\n",
    "2. Fancy indexing en Boolean indexing.\n",
    "3. Gebruik van universal functions in plaats van loops.\n",
    "4. Broadcasting\n",
    "\n",
    "\n",
    "#### Voorbeeld\n",
    "\n",
    "Dit is een potpourri opgave waarin we een mix van numpy technieken gebruiken.\n",
    "1. Maak een 2D numpy array gevuld met 0 en 1 waarin we 5 experimenten met het 5 keer gooien met een eerlijke munt nabootsen. (in plaats van kop en munt gebruiken we dus 0 en 1). Elke rij staat dus voor 1 experiment. Gebruik `np.random.binomial`. \n",
    "2. In welke rijen wordt    vaker dan het gemiddelde van alle  keren gooien een 1   gegooid?\n",
    "3. Beperk het 2D array tot alleen die rijen met behulp  van boolean indexing.\n",
    "\n",
    "#### Antwoord\n",
    "\n",
    "```\n",
    "#1\n",
    "L= np.random.binomial(1,.5,(5,5))\n",
    "#2\n",
    "L.mean(axis=1) > L.mean()\n",
    "#3\n",
    "L[L.mean(axis=1) > L.mean(),:]\n",
    "```\n",
    "\n",
    "\n",
    "# Algorithms:  Breadth first search \n",
    "\n",
    " Maak een Python programma/functie dat als input een netwerk (in NetworkX formaat) en een knoop 'x' in dat netwerk neemt en  een dict oplevert met afstanden als sleutels en de verzameling met knopen op die afstand van de input-knoop als waarden. Zie het voorbeeld hieronder. Hieronder  de output van `BFS(G,24)`.\n",
    "* Volg het algorithme in sectie 2.3 van [het Easley en Kleinberg boek](https://www.cs.cornell.edu/home/kleinber/networks-book/networks-book-ch02.pdf)\n",
    "* Gebruik geen networkx functie die de korte paden berekent. Je doet alles zelf volgens het breadth first principe. \n",
    "* Een heel logische oplossing is om te werken met een while loop. Want op een verbonden netwerk zal je na verloop van tijd **alle** knopen gehad hebben, en dus klaar zijn. Je typische loop is dus _zolang er nog knopen zijn die ik nooit gezien heb_, of _zolang ik nog buren vind die ik niet eerder gezien heb_, doe het werk.\n",
    "* **Hint** werk met verzamelingen en gebruik handige operaties op verzamelingen als union (dat kan met '|') en complement (dat kan met '-').\n",
    "\n",
    "\n",
    "```\n",
    "{0: {24},\n",
    " 1: {25, 27, 31},\n",
    " 2: {0, 2, 23, 28, 32, 33},\n",
    " 3: {1,\n",
    "  3,\n",
    "  4,\n",
    "   ....\n",
    "  29,\n",
    "  30},\n",
    " 4: {16}}\n",
    " ```\n"
   ]
  },
  {
   "cell_type": "code",
   "execution_count": 131,
   "metadata": {},
   "outputs": [],
   "source": [
    "import numpy as np\n",
    "import random"
   ]
  },
  {
   "cell_type": "markdown",
   "metadata": {},
   "source": [
    "1. Gebruik de numpy variant van range en slicing om een numpy array met de eerste 144 getallen te maken die deelbaar zijn door 7. Noem het array L."
   ]
  },
  {
   "cell_type": "code",
   "execution_count": 132,
   "metadata": {},
   "outputs": [
    {
     "name": "stdout",
     "output_type": "stream",
     "text": [
      "[   0    7   14   21   28   35   42   49   56   63   70   77   84   91   98\n",
      "  105  112  119  126  133  140  147  154  161  168  175  182  189  196  203\n",
      "  210  217  224  231  238  245  252  259  266  273  280  287  294  301  308\n",
      "  315  322  329  336  343  350  357  364  371  378  385  392  399  406  413\n",
      "  420  427  434  441  448  455  462  469  476  483  490  497  504  511  518\n",
      "  525  532  539  546  553  560  567  574  581  588  595  602  609  616  623\n",
      "  630  637  644  651  658  665  672  679  686  693  700  707  714  721  728\n",
      "  735  742  749  756  763  770  777  784  791  798  805  812  819  826  833\n",
      "  840  847  854  861  868  875  882  889  896  903  910  917  924  931  938\n",
      "  945  952  959  966  973  980  987  994 1001]\n"
     ]
    }
   ],
   "source": [
    "# vanaf hier je numpy antwoorden\n",
    "L = np.arange(0,1008,7)\n",
    "print (L)"
   ]
  },
  {
   "cell_type": "markdown",
   "metadata": {},
   "source": [
    "2 .  Gebruik reshape om L te veranderen in een vierkant numpy array S met dezelfde elementen als L."
   ]
  },
  {
   "cell_type": "code",
   "execution_count": 133,
   "metadata": {
    "scrolled": true
   },
   "outputs": [
    {
     "name": "stdout",
     "output_type": "stream",
     "text": [
      "[[   0    7   14   21   28   35   42   49   56   63   70   77]\n",
      " [  84   91   98  105  112  119  126  133  140  147  154  161]\n",
      " [ 168  175  182  189  196  203  210  217  224  231  238  245]\n",
      " [ 252  259  266  273  280  287  294  301  308  315  322  329]\n",
      " [ 336  343  350  357  364  371  378  385  392  399  406  413]\n",
      " [ 420  427  434  441  448  455  462  469  476  483  490  497]\n",
      " [ 504  511  518  525  532  539  546  553  560  567  574  581]\n",
      " [ 588  595  602  609  616  623  630  637  644  651  658  665]\n",
      " [ 672  679  686  693  700  707  714  721  728  735  742  749]\n",
      " [ 756  763  770  777  784  791  798  805  812  819  826  833]\n",
      " [ 840  847  854  861  868  875  882  889  896  903  910  917]\n",
      " [ 924  931  938  945  952  959  966  973  980  987  994 1001]]\n"
     ]
    }
   ],
   "source": [
    "S = np.reshape(L,(12,12))\n",
    "print (S)"
   ]
  },
  {
   "cell_type": "markdown",
   "metadata": {},
   "source": [
    "3 . Gebruik reshape om L te veranderen in een 2D array met shape (144,1)."
   ]
  },
  {
   "cell_type": "code",
   "execution_count": 134,
   "metadata": {
    "scrolled": false
   },
   "outputs": [
    {
     "name": "stdout",
     "output_type": "stream",
     "text": [
      "[[   0]\n",
      " [   7]\n",
      " [  14]\n",
      " [  21]\n",
      " [  28]\n",
      " [  35]\n",
      " [  42]\n",
      " [  49]\n",
      " [  56]\n",
      " [  63]\n",
      " [  70]\n",
      " [  77]\n",
      " [  84]\n",
      " [  91]\n",
      " [  98]\n",
      " [ 105]\n",
      " [ 112]\n",
      " [ 119]\n",
      " [ 126]\n",
      " [ 133]\n",
      " [ 140]\n",
      " [ 147]\n",
      " [ 154]\n",
      " [ 161]\n",
      " [ 168]\n",
      " [ 175]\n",
      " [ 182]\n",
      " [ 189]\n",
      " [ 196]\n",
      " [ 203]\n",
      " [ 210]\n",
      " [ 217]\n",
      " [ 224]\n",
      " [ 231]\n",
      " [ 238]\n",
      " [ 245]\n",
      " [ 252]\n",
      " [ 259]\n",
      " [ 266]\n",
      " [ 273]\n",
      " [ 280]\n",
      " [ 287]\n",
      " [ 294]\n",
      " [ 301]\n",
      " [ 308]\n",
      " [ 315]\n",
      " [ 322]\n",
      " [ 329]\n",
      " [ 336]\n",
      " [ 343]\n",
      " [ 350]\n",
      " [ 357]\n",
      " [ 364]\n",
      " [ 371]\n",
      " [ 378]\n",
      " [ 385]\n",
      " [ 392]\n",
      " [ 399]\n",
      " [ 406]\n",
      " [ 413]\n",
      " [ 420]\n",
      " [ 427]\n",
      " [ 434]\n",
      " [ 441]\n",
      " [ 448]\n",
      " [ 455]\n",
      " [ 462]\n",
      " [ 469]\n",
      " [ 476]\n",
      " [ 483]\n",
      " [ 490]\n",
      " [ 497]\n",
      " [ 504]\n",
      " [ 511]\n",
      " [ 518]\n",
      " [ 525]\n",
      " [ 532]\n",
      " [ 539]\n",
      " [ 546]\n",
      " [ 553]\n",
      " [ 560]\n",
      " [ 567]\n",
      " [ 574]\n",
      " [ 581]\n",
      " [ 588]\n",
      " [ 595]\n",
      " [ 602]\n",
      " [ 609]\n",
      " [ 616]\n",
      " [ 623]\n",
      " [ 630]\n",
      " [ 637]\n",
      " [ 644]\n",
      " [ 651]\n",
      " [ 658]\n",
      " [ 665]\n",
      " [ 672]\n",
      " [ 679]\n",
      " [ 686]\n",
      " [ 693]\n",
      " [ 700]\n",
      " [ 707]\n",
      " [ 714]\n",
      " [ 721]\n",
      " [ 728]\n",
      " [ 735]\n",
      " [ 742]\n",
      " [ 749]\n",
      " [ 756]\n",
      " [ 763]\n",
      " [ 770]\n",
      " [ 777]\n",
      " [ 784]\n",
      " [ 791]\n",
      " [ 798]\n",
      " [ 805]\n",
      " [ 812]\n",
      " [ 819]\n",
      " [ 826]\n",
      " [ 833]\n",
      " [ 840]\n",
      " [ 847]\n",
      " [ 854]\n",
      " [ 861]\n",
      " [ 868]\n",
      " [ 875]\n",
      " [ 882]\n",
      " [ 889]\n",
      " [ 896]\n",
      " [ 903]\n",
      " [ 910]\n",
      " [ 917]\n",
      " [ 924]\n",
      " [ 931]\n",
      " [ 938]\n",
      " [ 945]\n",
      " [ 952]\n",
      " [ 959]\n",
      " [ 966]\n",
      " [ 973]\n",
      " [ 980]\n",
      " [ 987]\n",
      " [ 994]\n",
      " [1001]]\n"
     ]
    }
   ],
   "source": [
    "Baxis = np.reshape(L,(144,1))\n",
    "print (Baxis)"
   ]
  },
  {
   "cell_type": "markdown",
   "metadata": {},
   "source": [
    "### 4. Doe hetzelfde maar nu met `np.newaxis `"
   ]
  },
  {
   "cell_type": "code",
   "execution_count": 135,
   "metadata": {},
   "outputs": [
    {
     "name": "stdout",
     "output_type": "stream",
     "text": [
      "[[   0]\n",
      " [   7]\n",
      " [  14]\n",
      " [  21]\n",
      " [  28]\n",
      " [  35]\n",
      " [  42]\n",
      " [  49]\n",
      " [  56]\n",
      " [  63]\n",
      " [  70]\n",
      " [  77]\n",
      " [  84]\n",
      " [  91]\n",
      " [  98]\n",
      " [ 105]\n",
      " [ 112]\n",
      " [ 119]\n",
      " [ 126]\n",
      " [ 133]\n",
      " [ 140]\n",
      " [ 147]\n",
      " [ 154]\n",
      " [ 161]\n",
      " [ 168]\n",
      " [ 175]\n",
      " [ 182]\n",
      " [ 189]\n",
      " [ 196]\n",
      " [ 203]\n",
      " [ 210]\n",
      " [ 217]\n",
      " [ 224]\n",
      " [ 231]\n",
      " [ 238]\n",
      " [ 245]\n",
      " [ 252]\n",
      " [ 259]\n",
      " [ 266]\n",
      " [ 273]\n",
      " [ 280]\n",
      " [ 287]\n",
      " [ 294]\n",
      " [ 301]\n",
      " [ 308]\n",
      " [ 315]\n",
      " [ 322]\n",
      " [ 329]\n",
      " [ 336]\n",
      " [ 343]\n",
      " [ 350]\n",
      " [ 357]\n",
      " [ 364]\n",
      " [ 371]\n",
      " [ 378]\n",
      " [ 385]\n",
      " [ 392]\n",
      " [ 399]\n",
      " [ 406]\n",
      " [ 413]\n",
      " [ 420]\n",
      " [ 427]\n",
      " [ 434]\n",
      " [ 441]\n",
      " [ 448]\n",
      " [ 455]\n",
      " [ 462]\n",
      " [ 469]\n",
      " [ 476]\n",
      " [ 483]\n",
      " [ 490]\n",
      " [ 497]\n",
      " [ 504]\n",
      " [ 511]\n",
      " [ 518]\n",
      " [ 525]\n",
      " [ 532]\n",
      " [ 539]\n",
      " [ 546]\n",
      " [ 553]\n",
      " [ 560]\n",
      " [ 567]\n",
      " [ 574]\n",
      " [ 581]\n",
      " [ 588]\n",
      " [ 595]\n",
      " [ 602]\n",
      " [ 609]\n",
      " [ 616]\n",
      " [ 623]\n",
      " [ 630]\n",
      " [ 637]\n",
      " [ 644]\n",
      " [ 651]\n",
      " [ 658]\n",
      " [ 665]\n",
      " [ 672]\n",
      " [ 679]\n",
      " [ 686]\n",
      " [ 693]\n",
      " [ 700]\n",
      " [ 707]\n",
      " [ 714]\n",
      " [ 721]\n",
      " [ 728]\n",
      " [ 735]\n",
      " [ 742]\n",
      " [ 749]\n",
      " [ 756]\n",
      " [ 763]\n",
      " [ 770]\n",
      " [ 777]\n",
      " [ 784]\n",
      " [ 791]\n",
      " [ 798]\n",
      " [ 805]\n",
      " [ 812]\n",
      " [ 819]\n",
      " [ 826]\n",
      " [ 833]\n",
      " [ 840]\n",
      " [ 847]\n",
      " [ 854]\n",
      " [ 861]\n",
      " [ 868]\n",
      " [ 875]\n",
      " [ 882]\n",
      " [ 889]\n",
      " [ 896]\n",
      " [ 903]\n",
      " [ 910]\n",
      " [ 917]\n",
      " [ 924]\n",
      " [ 931]\n",
      " [ 938]\n",
      " [ 945]\n",
      " [ 952]\n",
      " [ 959]\n",
      " [ 966]\n",
      " [ 973]\n",
      " [ 980]\n",
      " [ 987]\n",
      " [ 994]\n",
      " [1001]]\n"
     ]
    }
   ],
   "source": [
    "Laxis = L[:,np.newaxis]\n",
    "print (Laxis)"
   ]
  },
  {
   "cell_type": "markdown",
   "metadata": {},
   "source": [
    "## 5. Geef een test waarmee je laat zien dat je antwoorden op de vorige twee vragen inderdaad hetzelfde array opleveren. Je test heeft een boolse waarde."
   ]
  },
  {
   "cell_type": "code",
   "execution_count": 136,
   "metadata": {},
   "outputs": [
    {
     "data": {
      "text/plain": [
       "True"
      ]
     },
     "execution_count": 136,
     "metadata": {},
     "output_type": "execute_result"
    }
   ],
   "source": [
    "np.array_equal(Baxis,Laxis)"
   ]
  },
  {
   "cell_type": "markdown",
   "metadata": {},
   "source": [
    "## 5. Pak de laatste kolom van `S`."
   ]
  },
  {
   "cell_type": "code",
   "execution_count": 137,
   "metadata": {},
   "outputs": [
    {
     "name": "stdout",
     "output_type": "stream",
     "text": [
      "[  77  161  245  329  413  497  581  665  749  833  917 1001]\n"
     ]
    }
   ],
   "source": [
    "print (S[:,-1])"
   ]
  },
  {
   "cell_type": "markdown",
   "metadata": {},
   "source": [
    "## 6. Maak uit `S` het 1D array met alle getallen uit `S` deelbaar door 10."
   ]
  },
  {
   "cell_type": "code",
   "execution_count": 138,
   "metadata": {},
   "outputs": [
    {
     "name": "stdout",
     "output_type": "stream",
     "text": [
      "[  0  70 140 210 280 350 420 490 560 630 700 770 840 910 980]\n"
     ]
    }
   ],
   "source": [
    "New_S = S[S%10 ==0]\n",
    "print (New_S)\n"
   ]
  },
  {
   "cell_type": "markdown",
   "metadata": {},
   "source": [
    "## 7. Wat is het gemiddelde van `S`? Wat is het gemiddelde per kolom van `S`?"
   ]
  },
  {
   "cell_type": "code",
   "execution_count": 139,
   "metadata": {
    "scrolled": true
   },
   "outputs": [
    {
     "name": "stdout",
     "output_type": "stream",
     "text": [
      "Het gemiddelde is 500.5\n",
      "Het gemidddelde per kolom is [  38.5  122.5  206.5  290.5  374.5  458.5  542.5  626.5  710.5  794.5\n",
      "  878.5  962.5]\n"
     ]
    }
   ],
   "source": [
    "print ('Het gemiddelde is',np.mean(S))\n",
    "print ('Het gemidddelde per kolom is', np.mean(S,axis=1))\n",
    "\n",
    "\n",
    "\n"
   ]
  },
  {
   "cell_type": "markdown",
   "metadata": {},
   "source": [
    "## 8. Tel bij elk element in de 0de kolom van `S` 0 op, bij de eerste 1, bij de tweede 2, etc. De tweede  regel zal er dan zo uitzien: `[  84,   92,  100,  108,  116,  124,  132,  140,  148,  156,  164, 172]`"
   ]
  },
  {
   "cell_type": "code",
   "execution_count": 140,
   "metadata": {},
   "outputs": [],
   "source": [
    "#np.sum(S,axis)"
   ]
  },
  {
   "cell_type": "code",
   "execution_count": 141,
   "metadata": {
    "scrolled": true
   },
   "outputs": [
    {
     "data": {
      "text/plain": [
       "array([[   0,    8,   16,   24,   32,   40,   48,   56,   64,   72,   80,\n",
       "          88],\n",
       "       [  84,   92,  100,  108,  116,  124,  132,  140,  148,  156,  164,\n",
       "         172],\n",
       "       [ 168,  176,  184,  192,  200,  208,  216,  224,  232,  240,  248,\n",
       "         256],\n",
       "       [ 252,  260,  268,  276,  284,  292,  300,  308,  316,  324,  332,\n",
       "         340],\n",
       "       [ 336,  344,  352,  360,  368,  376,  384,  392,  400,  408,  416,\n",
       "         424],\n",
       "       [ 420,  428,  436,  444,  452,  460,  468,  476,  484,  492,  500,\n",
       "         508],\n",
       "       [ 504,  512,  520,  528,  536,  544,  552,  560,  568,  576,  584,\n",
       "         592],\n",
       "       [ 588,  596,  604,  612,  620,  628,  636,  644,  652,  660,  668,\n",
       "         676],\n",
       "       [ 672,  680,  688,  696,  704,  712,  720,  728,  736,  744,  752,\n",
       "         760],\n",
       "       [ 756,  764,  772,  780,  788,  796,  804,  812,  820,  828,  836,\n",
       "         844],\n",
       "       [ 840,  848,  856,  864,  872,  880,  888,  896,  904,  912,  920,\n",
       "         928],\n",
       "       [ 924,  932,  940,  948,  956,  964,  972,  980,  988,  996, 1004,\n",
       "        1012]], dtype=int64)"
      ]
     },
     "execution_count": 141,
     "metadata": {},
     "output_type": "execute_result"
    }
   ],
   "source": [
    "Ha = np.argsort(S,axis=1)\n",
    "np.add(Ha,S)"
   ]
  },
  {
   "cell_type": "code",
   "execution_count": null,
   "metadata": {},
   "outputs": [],
   "source": []
  },
  {
   "cell_type": "markdown",
   "metadata": {},
   "source": [
    "## 10. Pak het middelste 4x4 vierkant uit `S`."
   ]
  },
  {
   "cell_type": "code",
   "execution_count": 142,
   "metadata": {},
   "outputs": [
    {
     "data": {
      "text/plain": [
       "array([[364, 371, 378, 385],\n",
       "       [448, 455, 462, 469],\n",
       "       [532, 539, 546, 553],\n",
       "       [616, 623, 630, 637]])"
      ]
     },
     "execution_count": 142,
     "metadata": {},
     "output_type": "execute_result"
    }
   ],
   "source": [
    "gridS= np.ix_([4,5,6,7],[4,5,6,7])\n",
    "#print (gridS)\n",
    "S[gridS]"
   ]
  },
  {
   "cell_type": "markdown",
   "metadata": {},
   "source": [
    "# Tentamenvragen"
   ]
  },
  {
   "cell_type": "markdown",
   "metadata": {},
   "source": [
    "### Vraag 1\n",
    "\n",
    "A) Maak een array met de waarden 1 t/m 5, 6 t/m 10, 11 t/m 15, 16 t/m 20 en 21 t/m 25 met step = 1 en geef hem de naam array1 <br>\n",
    "\n",
    "B) Maak een array met de naam array2. Zet in deze array alles van array1 behalve de laatste rij. <br>\n",
    "\n",
    "C) Maak nog een array met de waardes 5,10,15,20,25,30 step = 1 en noem deze array3. <br>\n",
    "\n",
    "D) Pak van deze array3 alles behalve de een-na-laatste waarde en noem dit array4. <br>\n",
    "\n",
    "E)  Multiply array4 met array2 en noem dit array5.<br>"
   ]
  },
  {
   "cell_type": "markdown",
   "metadata": {},
   "source": [
    "### Antwoorden vraag 1"
   ]
  },
  {
   "cell_type": "markdown",
   "metadata": {},
   "source": [
    "##### A"
   ]
  },
  {
   "cell_type": "code",
   "execution_count": 143,
   "metadata": {
    "scrolled": false
   },
   "outputs": [
    {
     "name": "stdout",
     "output_type": "stream",
     "text": [
      "[[ 1  2  3  4  5]\n",
      " [ 6  7  8  9 10]\n",
      " [11 12 13 14 15]\n",
      " [16 17 18 19 20]\n",
      " [21 22 23 24 25]]\n"
     ]
    }
   ],
   "source": [
    "array1 = np.array([[1,2,3,4,5], [6,7,8,9,10], [11,12,13,14,15], [16,17,18,19,20], [21,22,23,24,25]])\n",
    "print (array1)"
   ]
  },
  {
   "cell_type": "markdown",
   "metadata": {},
   "source": [
    "##### B"
   ]
  },
  {
   "cell_type": "code",
   "execution_count": 144,
   "metadata": {},
   "outputs": [
    {
     "name": "stdout",
     "output_type": "stream",
     "text": [
      "[[ 6  7  8  9 10]\n",
      " [11 12 13 14 15]\n",
      " [16 17 18 19 20]\n",
      " [21 22 23 24 25]]\n"
     ]
    }
   ],
   "source": [
    "array2 = array1[1:,]\n",
    "print (array2)"
   ]
  },
  {
   "cell_type": "markdown",
   "metadata": {},
   "source": [
    "##### C"
   ]
  },
  {
   "cell_type": "code",
   "execution_count": 145,
   "metadata": {},
   "outputs": [
    {
     "name": "stdout",
     "output_type": "stream",
     "text": [
      "[ 5 10 15 20 25 30]\n"
     ]
    }
   ],
   "source": [
    "array3= np.array([5,10,15,20,25,30])\n",
    "print (array3)"
   ]
  },
  {
   "cell_type": "markdown",
   "metadata": {},
   "source": [
    "##### D"
   ]
  },
  {
   "cell_type": "code",
   "execution_count": 146,
   "metadata": {},
   "outputs": [
    {
     "name": "stdout",
     "output_type": "stream",
     "text": [
      "[ 5 10 15 20 30]\n"
     ]
    }
   ],
   "source": [
    "array4= np.delete(array3, 4)\n",
    "print (array4)"
   ]
  },
  {
   "cell_type": "markdown",
   "metadata": {},
   "source": [
    "##### E"
   ]
  },
  {
   "cell_type": "code",
   "execution_count": 147,
   "metadata": {},
   "outputs": [
    {
     "name": "stdout",
     "output_type": "stream",
     "text": [
      "[[ 30  70 120 180 300]\n",
      " [ 55 120 195 280 450]\n",
      " [ 80 170 270 380 600]\n",
      " [105 220 345 480 750]]\n"
     ]
    }
   ],
   "source": [
    "array5 = np.multiply(array2,array4)\n",
    "print (array5)"
   ]
  },
  {
   "cell_type": "markdown",
   "metadata": {},
   "source": [
    "### Vraag 2\n",
    "\n",
    "A) Hieronder staan coordinaten van 2 lijnen. Maak voor beide lijnen arrays. Voor de x-array's (x1, x2) gebruik de numpy repeat functie. Voor de y-array's (y1, y2) gebruik de numpy linspace functie.<br>\n",
    "\n",
    "lijn1 = (3, 8), (3, 7.5), (3, 7), (3, 6.5), (3, 6)<br>\n",
    "lijn2 = (7, 8), (7, 7.5), (7, 7), (7, 6.5), (7, 6)<br>\n",
    "\n",
    "B) Maak een array met x waardes van 2 tot en met 8 met ieder 0.5 ertussen. (linspace) Noem deze array x3.<br> \n",
    "En een array met y waardes van 2 met de lengte van de x array. Noem deze array y1 (repeat)<br>\n",
    "    \n",
    "C) Gebruik de voorbeeldcode van matplotlib en run de plot met de door jouw gemaakte arrays.<br>\n",
    "(P.S. als je het goed doet krijg je een smiley te zien met een platte mond)<br>\n",
    "\n",
    "D) Verander de eerste en laatste 2 getallen uit de array y3 naar de waarde 3 en plot hem opnieuw (gebruik de numpy put functie)."
   ]
  },
  {
   "cell_type": "markdown",
   "metadata": {},
   "source": [
    "Voorbeeldcode:"
   ]
  },
  {
   "cell_type": "code",
   "execution_count": 148,
   "metadata": {},
   "outputs": [],
   "source": [
    "import matplotlib.pyplot as plt"
   ]
  },
  {
   "cell_type": "code",
   "execution_count": 149,
   "metadata": {},
   "outputs": [
    {
     "data": {
      "image/png": "[encoded data removed]",
      "text/plain": [
       "<matplotlib.figure.Figure at 0x22dee516710>"
      ]
     },
     "metadata": {},
     "output_type": "display_data"
    }
   ],
   "source": [
    "# Maak hier de arrays voor 2A en 2B:\n",
    "\n",
    "\n",
    "# Voorbeeldcode vraag 2C\n",
    "plt.plot(x1,y1, 'o')\n",
    "plt.plot(x2,y2, 'o')\n",
    "plt.plot(x3,y3, 'o')\n",
    "plt.ylim([0, 10])\n",
    "plt.xlim([0, 10])\n",
    "plt.show()"
   ]
  },
  {
   "cell_type": "code",
   "execution_count": 150,
   "metadata": {},
   "outputs": [
    {
     "data": {
      "image/png": "[encoded data removed]",
      "text/plain": [
       "<matplotlib.figure.Figure at 0x22dee5f0cc0>"
      ]
     },
     "metadata": {},
     "output_type": "display_data"
    }
   ],
   "source": [
    "# Verander hier de y3 array:\n",
    "\n",
    "\n",
    "# Voorbeeldcode\n",
    "plt.plot(x1,y1, 'o')\n",
    "plt.plot(x2,y2, 'o')\n",
    "plt.plot(x3,y3, 'o')\n",
    "plt.ylim([0, 10])\n",
    "plt.xlim([0, 10])\n",
    "plt.show()"
   ]
  },
  {
   "cell_type": "markdown",
   "metadata": {},
   "source": [
    "### Uitwerking opdracht 2"
   ]
  },
  {
   "cell_type": "code",
   "execution_count": 151,
   "metadata": {
    "scrolled": true
   },
   "outputs": [
    {
     "name": "stdout",
     "output_type": "stream",
     "text": [
      "[3 3 3 3 3] [ 6.   6.5  7.   7.5  8. ]\n",
      "[7 7 7 7 7] [ 6.   6.5  7.   7.5  8. ]\n",
      "[ 2.   2.5  3.   3.5  4.   4.5  5.   5.5  6.   6.5  7.   7.5  8. ] [2 2 2 2 2 2 2 2 2 2 2 2 2]\n"
     ]
    }
   ],
   "source": [
    "y1 = np.linspace(6,8, num=5)\n",
    "y2 = np.linspace(6,8, num=5)\n",
    "y3 = np.repeat(2,13)\n",
    "x1 = np.repeat(3,5)\n",
    "x2 = np.repeat(7,5)\n",
    "x3 = np.linspace(2,8, num=13)\n",
    "print (x1, y1)\n",
    "print (x2, y2)\n",
    "print (x3,y3)"
   ]
  },
  {
   "cell_type": "code",
   "execution_count": 152,
   "metadata": {},
   "outputs": [
    {
     "data": {
      "image/png": "[encoded data removed]",
      "text/plain": [
       "<matplotlib.figure.Figure at 0x22dee55f278>"
      ]
     },
     "metadata": {},
     "output_type": "display_data"
    }
   ],
   "source": [
    "plt.plot(x1,y2 ,'o')\n",
    "plt.plot(x2,y2, 'o')\n",
    "plt.plot(x3,y3, 'o')\n",
    "plt.ylim([0, 10])\n",
    "plt.xlim([0, 10])\n",
    "plt.show()"
   ]
  },
  {
   "cell_type": "code",
   "execution_count": 153,
   "metadata": {
    "scrolled": true
   },
   "outputs": [
    {
     "name": "stdout",
     "output_type": "stream",
     "text": [
      "[3 3 2 2 2 2 2 2 2 2 2 3 3]\n"
     ]
    }
   ],
   "source": [
    "np.put(y3,[0,1,-1,-2],[3,3,3,3])\n",
    "print (y3)"
   ]
  },
  {
   "cell_type": "code",
   "execution_count": 154,
   "metadata": {
    "scrolled": true
   },
   "outputs": [
    {
     "data": {
      "image/png": "[encoded data removed]",
      "text/plain": [
       "<matplotlib.figure.Figure at 0x22dee2add30>"
      ]
     },
     "metadata": {},
     "output_type": "display_data"
    }
   ],
   "source": [
    "plt.plot(x1,y1, 'o')\n",
    "plt.plot(x2,y2, 'o')\n",
    "plt.plot(x3,y3, 'o')\n",
    "plt.ylim([0, 10])\n",
    "plt.xlim([0, 10])\n",
    "plt.show()"
   ]
  },
  {
   "cell_type": "markdown",
   "metadata": {},
   "source": [
    "# Breadth First Search Antwoord"
   ]
  },
  {
   "cell_type": "markdown",
   "metadata": {},
   "source": [
    "```\n",
    "{0: {24},\n",
    " 1: {25, 27, 31},\n",
    " 2: {0, 2, 23, 28, 32, 33},\n",
    " 3: {1,\n",
    "  3,\n",
    "  4,\n",
    "   ....\n",
    "  29,\n",
    "  30},\n",
    " 4: {16}}\n",
    " ```"
   ]
  },
  {
   "cell_type": "code",
   "execution_count": 155,
   "metadata": {
    "scrolled": false
   },
   "outputs": [
    {
     "data": {
      "image/png": "[encoded data removed]",
      "text/plain": [
       "<matplotlib.figure.Figure at 0x22dee5451d0>"
      ]
     },
     "metadata": {},
     "output_type": "display_data"
    }
   ],
   "source": [
    "import networkx as nx\n",
    "import matplotlib.pyplot as plt\n",
    "%matplotlib inline\n",
    "\n",
    "G=nx.karate_club_graph()\n",
    "\n",
    "nx.draw(G, with_labels=True)"
   ]
  },
  {
   "cell_type": "code",
   "execution_count": 156,
   "metadata": {},
   "outputs": [
    {
     "data": {
      "text/plain": [
       "{0: {24},\n",
       " 1: {25, 27, 31},\n",
       " 2: {0, 2, 23, 24, 28, 32, 33},\n",
       " 3: {1,\n",
       "  3,\n",
       "  4,\n",
       "  5,\n",
       "  6,\n",
       "  7,\n",
       "  8,\n",
       "  9,\n",
       "  10,\n",
       "  11,\n",
       "  12,\n",
       "  13,\n",
       "  14,\n",
       "  15,\n",
       "  17,\n",
       "  18,\n",
       "  19,\n",
       "  20,\n",
       "  21,\n",
       "  22,\n",
       "  26,\n",
       "  29,\n",
       "  30},\n",
       " 4: {16}}"
      ]
     },
     "execution_count": 156,
     "metadata": {},
     "output_type": "execute_result"
    }
   ],
   "source": [
    "# code om je op weg te helpen\n",
    "\n",
    "def BFS(G,n): \n",
    "    '''Given a network G and a node n in G, return a dict with distance to n in G as keys, \n",
    "    and the set of nodes with that distances to n as values.'''\n",
    "    # initialise\n",
    "    tree={0: {n}}\n",
    "    distance =1\n",
    "    Next= [n]\n",
    "    Memory = [n]\n",
    "    # loop until no more nodes left\n",
    "    while Next:\n",
    "        # update tree dict\n",
    "        temp = []\n",
    "        \n",
    "        for node in Next:\n",
    "            {temp.append(n) for n in G.neighbors(node) if n not in Memory}\n",
    "            \n",
    "        if len(temp) > 0:\n",
    "            tree[distance] = set(temp)\n",
    "            #update distance and next\n",
    "            Next = list(tree[distance])\n",
    "            distance += 1\n",
    "            # update memory\n",
    "            [Memory.append(y) for y in Next]\n",
    "        else:\n",
    "            Next = []\n",
    "    return tree\n",
    "\n",
    "# test\n",
    "BFS(G,24)"
   ]
  }
 ],
 "metadata": {
  "anaconda-cloud": {},
  "kernelspec": {
   "display_name": "Python 3",
   "language": "python",
   "name": "python3"
  },
  "language_info": {
   "codemirror_mode": {
    "name": "ipython",
    "version": 3
   },
   "file_extension": ".py",
   "mimetype": "text/x-python",
   "name": "python",
   "nbconvert_exporter": "python",
   "pygments_lexer": "ipython3",
   "version": "3.6.3"
  }
 },
 "nbformat": 4,
 "nbformat_minor": 2
}
